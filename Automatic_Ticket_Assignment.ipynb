{
 "cells": [
  {
   "cell_type": "markdown",
   "metadata": {
    "id": "16Gn5H2redVR"
   },
   "source": [
    "> **Automatic Ticket Assignment**"
   ]
  },
  {
   "cell_type": "markdown",
   "metadata": {
    "id": "9zqBHpUPq0Uq"
   },
   "source": [
    "#### Problem Statement\n",
    "In the IT sector, Incident management helps to avoid any impact to the business operation by resolving the problem on time. The main goal of the process is to provide a quick fix by assigning to the right group. Wrong assignments will make the process slow down. Around ~25% of Incidents are wrongly assigned to teams which compromises the quality of management. This makes the firm in need of an additional resource to manage these activities. To avoid these problems a powerful system is required to manage these activities of assigning the ticket to the right teams in a short span of time. This can help the firm to minimize the ticket resolving cycle time and ensure the quality of application."
   ]
  },
  {
   "cell_type": "markdown",
   "metadata": {
    "id": "e1VHREeGuYZe"
   },
   "source": [
    "####          Data set provided\n",
    "\n",
    "\n",
    "**Columns:** Short Description, Description, Caller <br>\n",
    "**Target Variable:** Assignment Group"
   ]
  },
  {
   "cell_type": "markdown",
   "metadata": {
    "id": "Pi86-TMPuxWW"
   },
   "source": [
    "#### Approach used to EDA and Preprocessing\n",
    "1. **8500** Records of data were present in a data set with 4 columns\n",
    "2. Dropped **Caller column** as it is not relevant\n",
    "3. Null/NA values are present in Description and Long Description values\n",
    "4. Filling the Null/NA of Short Descriptions with Descriptions and vice versa if both are null the row will be dropped\n",
    "5. Null/NA values were not present in Target variable\n",
    "6. **74 Unique** Assignment groups were present in data set \n",
    "7. **Count plot** was used to visualise the data with respect to the groups\n",
    "8. **Group 0** has more number of Assignments having 3296 records\n",
    "9. Data was **highly imbalanced.** Group 0 Group 8, Group 24, Group 9, Group 12, Group 19 and Group 2 has more assignments\n",
    "10. Majority of Description and short Description were in **English language** few data were in other languages\n",
    "11. Displaying the Maximum and Minimum number of words present in Description and Short Description\n",
    "12. Minimum number of words present in the short Description was 1\n",
    "13. Maximum number of words present in short Description was 41\n",
    "14. Description and short description columns were converted to **lowercase**\n",
    "15. **Data cleansing** were done by removing digits,special characters, words with digits, escape characters, junk characters and extra spaces present in Description and Short Description\n",
    "16. Stop words were removed using **NLTK** and also customized un wanted words were removed\n",
    "17. NLTK's **WordNet** lemmatizer was used to lemmatize the words for Descriptions and Short Description\n",
    "18. Merging **unique** words available in short Description and Descriptions into a single column as a **Final Description** column\n",
    "19. Removing duplicates in each row of **Final Description** column\n",
    "20. Displaying the Most frequency and least frequency words in **Final Description** column\n",
    "21. **Word Tokenization** done using NLTK libraries\n",
    "22. Visualizing the most and least frequency words in Final Description column using **Freq_plot**\n",
    "23. Using **TextBlob**, Bi-gram words were taken and the frequency of Bi-gram words were displayed\n",
    "24. Visualizing the most and least frequency Bi-gram words using **Freq_plot**\n",
    "25. **Document matrix** is created and displaying word occurrence with respect to Groups\n",
    "26. Visualizing the word occurrence in Each group using **WordCloud**\n",
    "27. Group with records less than 10 has been dropped \n",
    "\n",
    "\n",
    "\n",
    "\n"
   ]
  },
  {
   "cell_type": "markdown",
   "metadata": {
    "id": "pS5O79mH4z4A"
   },
   "source": [
    "####          Model Building and Deciding Model\n",
    "\n",
    "1. ULM, Fasttext, naive_bayes, Neural Network, Bi-Directional LSTM were tested for these data among these **Fasttext** provide better results.\n",
    "2. **Fasttext Model** has been considered for this Dataset"
   ]
  },
  {
   "cell_type": "markdown",
   "metadata": {
    "id": "vw8_6uW46AKt"
   },
   "source": [
    "#### Improvisation to be done\n",
    "\n",
    "1. Identify other language data using language detectors and decide either to process/drop the rows accordingly\n",
    "2. Other Models like BERT can be tested for better accuracy\n",
    "3. Over-sample/under-sample can be performed as the data is heavily unbalanced\n",
    "4. Data cleansing can be accomplished even more precisely by removing frequently occuring words that are not required\n",
    "5. Caller information available in the Description column can be also removed in order to increase the accuracy of the model\n",
    "6. Drop the group which has records less than 100 can also resolve the unbalanced distribution in data\n"
   ]
  },
  {
   "cell_type": "markdown",
   "metadata": {
    "id": "6fc0X1GUfaWu"
   },
   "source": [
    "Installing basic libraries"
   ]
  },
  {
   "cell_type": "code",
   "execution_count": 2,
   "metadata": {
    "executionInfo": {
     "elapsed": 2265,
     "status": "ok",
     "timestamp": 1601103857231,
     "user": {
      "displayName": "raj priyan",
      "photoUrl": "https://lh3.googleusercontent.com/a-/AOh14GgZVW80EylFQ9L8-ITWkElw0wTMIIreVJQM-ATyrA=s64",
      "userId": "05111608225198986069"
     },
     "user_tz": -330
    },
    "id": "cR2md7SYdhR9"
   },
   "outputs": [],
   "source": [
    "import pandas as pd\n",
    "import numpy as np\n",
    "import matplotlib.pyplot as plt\n",
    "import seaborn as sns\n",
    "sns.set(color_codes=True)\n",
    "sns.set_style(\"darkgrid\")"
   ]
  },
  {
   "cell_type": "code",
   "execution_count": 3,
   "metadata": {
    "colab": {
     "base_uri": "https://localhost:8080/",
     "height": 34
    },
    "executionInfo": {
     "elapsed": 33690,
     "status": "ok",
     "timestamp": 1601103892562,
     "user": {
      "displayName": "raj priyan",
      "photoUrl": "https://lh3.googleusercontent.com/a-/AOh14GgZVW80EylFQ9L8-ITWkElw0wTMIIreVJQM-ATyrA=s64",
      "userId": "05111608225198986069"
     },
     "user_tz": -330
    },
    "id": "VXlREpQMGJBk",
    "outputId": "fad693a7-9964-40f1-cd7b-80823fdeab1d"
   },
   "outputs": [
    {
     "name": "stdout",
     "output_type": "stream",
     "text": [
      "Mounted at /content/drive\n"
     ]
    }
   ],
   "source": [
    "#Mounting the Drive\n",
    "from google.colab import drive\n",
    "drive.mount('/content/drive')"
   ]
  },
  {
   "cell_type": "markdown",
   "metadata": {
    "id": "7s88JLJFff49"
   },
   "source": [
    "Importing data"
   ]
  },
  {
   "cell_type": "code",
   "execution_count": 4,
   "metadata": {
    "colab": {
     "base_uri": "https://localhost:8080/",
     "height": 52
    },
    "executionInfo": {
     "elapsed": 2833,
     "status": "ok",
     "timestamp": 1601103903601,
     "user": {
      "displayName": "raj priyan",
      "photoUrl": "https://lh3.googleusercontent.com/a-/AOh14GgZVW80EylFQ9L8-ITWkElw0wTMIIreVJQM-ATyrA=s64",
      "userId": "05111608225198986069"
     },
     "user_tz": -330
    },
    "id": "xznZtNINeaV7",
    "outputId": "b6d20d8e-08df-4ecb-fc3b-ab62c17dbc34"
   },
   "outputs": [
    {
     "name": "stdout",
     "output_type": "stream",
     "text": [
      "Column headings:\n",
      "Index(['Short description', 'Description', 'Caller', 'Assignment group'], dtype='object')\n"
     ]
    }
   ],
   "source": [
    "from pandas import ExcelWriter\n",
    "from pandas import ExcelFile\n",
    "\n",
    "dataset= pd.read_excel('/content/drive/My Drive/input_data.xlsx', sheet_name='Sheet1')\n",
    "\n",
    "print(\"Column headings:\")\n",
    "print(dataset.columns)"
   ]
  },
  {
   "cell_type": "code",
   "execution_count": 5,
   "metadata": {
    "executionInfo": {
     "elapsed": 1486,
     "status": "ok",
     "timestamp": 1601103907496,
     "user": {
      "displayName": "raj priyan",
      "photoUrl": "https://lh3.googleusercontent.com/a-/AOh14GgZVW80EylFQ9L8-ITWkElw0wTMIIreVJQM-ATyrA=s64",
      "userId": "05111608225198986069"
     },
     "user_tz": -330
    },
    "id": "Yt6GGW32esdh"
   },
   "outputs": [],
   "source": [
    "# Making copy of data to work\n",
    "df = dataset.copy()"
   ]
  },
  {
   "cell_type": "markdown",
   "metadata": {
    "id": "Miuv-_q7fL-k"
   },
   "source": [
    "Printing a few records"
   ]
  },
  {
   "cell_type": "code",
   "execution_count": 6,
   "metadata": {
    "colab": {
     "base_uri": "https://localhost:8080/",
     "height": 206
    },
    "executionInfo": {
     "elapsed": 1227,
     "status": "ok",
     "timestamp": 1601103910075,
     "user": {
      "displayName": "raj priyan",
      "photoUrl": "https://lh3.googleusercontent.com/a-/AOh14GgZVW80EylFQ9L8-ITWkElw0wTMIIreVJQM-ATyrA=s64",
      "userId": "05111608225198986069"
     },
     "user_tz": -330
    },
    "id": "IxeE5OXvfJaA",
    "outputId": "1dc03aa8-24b6-4077-e243-bbff613d8e1c"
   },
   "outputs": [
    {
     "data": {
      "text/html": [
       "<div>\n",
       "<style scoped>\n",
       "    .dataframe tbody tr th:only-of-type {\n",
       "        vertical-align: middle;\n",
       "    }\n",
       "\n",
       "    .dataframe tbody tr th {\n",
       "        vertical-align: top;\n",
       "    }\n",
       "\n",
       "    .dataframe thead th {\n",
       "        text-align: right;\n",
       "    }\n",
       "</style>\n",
       "<table border=\"1\" class=\"dataframe\">\n",
       "  <thead>\n",
       "    <tr style=\"text-align: right;\">\n",
       "      <th></th>\n",
       "      <th>Short description</th>\n",
       "      <th>Description</th>\n",
       "      <th>Caller</th>\n",
       "      <th>Assignment group</th>\n",
       "    </tr>\n",
       "  </thead>\n",
       "  <tbody>\n",
       "    <tr>\n",
       "      <th>0</th>\n",
       "      <td>login issue</td>\n",
       "      <td>-verified user details.(employee# &amp; manager na...</td>\n",
       "      <td>spxjnwir pjlcoqds</td>\n",
       "      <td>GRP_0</td>\n",
       "    </tr>\n",
       "    <tr>\n",
       "      <th>1</th>\n",
       "      <td>outlook</td>\n",
       "      <td>\\r\\n\\r\\nreceived from: hmjdrvpb.komuaywn@gmail...</td>\n",
       "      <td>hmjdrvpb komuaywn</td>\n",
       "      <td>GRP_0</td>\n",
       "    </tr>\n",
       "    <tr>\n",
       "      <th>2</th>\n",
       "      <td>cant log in to vpn</td>\n",
       "      <td>\\r\\n\\r\\nreceived from: eylqgodm.ybqkwiam@gmail...</td>\n",
       "      <td>eylqgodm ybqkwiam</td>\n",
       "      <td>GRP_0</td>\n",
       "    </tr>\n",
       "    <tr>\n",
       "      <th>3</th>\n",
       "      <td>unable to access hr_tool page</td>\n",
       "      <td>unable to access hr_tool page</td>\n",
       "      <td>xbkucsvz gcpydteq</td>\n",
       "      <td>GRP_0</td>\n",
       "    </tr>\n",
       "    <tr>\n",
       "      <th>4</th>\n",
       "      <td>skype error</td>\n",
       "      <td>skype error</td>\n",
       "      <td>owlgqjme qhcozdfx</td>\n",
       "      <td>GRP_0</td>\n",
       "    </tr>\n",
       "  </tbody>\n",
       "</table>\n",
       "</div>"
      ],
      "text/plain": [
       "               Short description  ... Assignment group\n",
       "0                    login issue  ...            GRP_0\n",
       "1                        outlook  ...            GRP_0\n",
       "2             cant log in to vpn  ...            GRP_0\n",
       "3  unable to access hr_tool page  ...            GRP_0\n",
       "4                   skype error   ...            GRP_0\n",
       "\n",
       "[5 rows x 4 columns]"
      ]
     },
     "execution_count": 6,
     "metadata": {
      "tags": []
     },
     "output_type": "execute_result"
    }
   ],
   "source": [
    "df.head()"
   ]
  },
  {
   "cell_type": "markdown",
   "metadata": {
    "id": "bbfzGsbSfcaf"
   },
   "source": [
    "The information of Caller is not relevent. Hence, dropping this column"
   ]
  },
  {
   "cell_type": "code",
   "execution_count": 7,
   "metadata": {
    "colab": {
     "base_uri": "https://localhost:8080/",
     "height": 81
    },
    "executionInfo": {
     "elapsed": 1103,
     "status": "ok",
     "timestamp": 1601103913895,
     "user": {
      "displayName": "raj priyan",
      "photoUrl": "https://lh3.googleusercontent.com/a-/AOh14GgZVW80EylFQ9L8-ITWkElw0wTMIIreVJQM-ATyrA=s64",
      "userId": "05111608225198986069"
     },
     "user_tz": -330
    },
    "id": "LG-ipuE9fSFN",
    "outputId": "0bbe048c-f13c-4eba-919a-e117f24bd5fc"
   },
   "outputs": [
    {
     "data": {
      "text/html": [
       "<div>\n",
       "<style scoped>\n",
       "    .dataframe tbody tr th:only-of-type {\n",
       "        vertical-align: middle;\n",
       "    }\n",
       "\n",
       "    .dataframe tbody tr th {\n",
       "        vertical-align: top;\n",
       "    }\n",
       "\n",
       "    .dataframe thead th {\n",
       "        text-align: right;\n",
       "    }\n",
       "</style>\n",
       "<table border=\"1\" class=\"dataframe\">\n",
       "  <thead>\n",
       "    <tr style=\"text-align: right;\">\n",
       "      <th></th>\n",
       "      <th>Short description</th>\n",
       "      <th>Description</th>\n",
       "      <th>Assignment group</th>\n",
       "    </tr>\n",
       "  </thead>\n",
       "  <tbody>\n",
       "    <tr>\n",
       "      <th>0</th>\n",
       "      <td>login issue</td>\n",
       "      <td>-verified user details.(employee# &amp; manager na...</td>\n",
       "      <td>GRP_0</td>\n",
       "    </tr>\n",
       "  </tbody>\n",
       "</table>\n",
       "</div>"
      ],
      "text/plain": [
       "  Short description  ... Assignment group\n",
       "0       login issue  ...            GRP_0\n",
       "\n",
       "[1 rows x 3 columns]"
      ]
     },
     "execution_count": 7,
     "metadata": {
      "tags": []
     },
     "output_type": "execute_result"
    }
   ],
   "source": [
    "df.drop('Caller', axis = 1, inplace = True)\n",
    "df.head(1)"
   ]
  },
  {
   "cell_type": "markdown",
   "metadata": {
    "id": "ytwY49KKfr1a"
   },
   "source": [
    ">>> Let's explore the data"
   ]
  },
  {
   "cell_type": "markdown",
   "metadata": {
    "id": "OXNeqxLefxw3"
   },
   "source": [
    "Shape of the data\n"
   ]
  },
  {
   "cell_type": "code",
   "execution_count": 8,
   "metadata": {
    "colab": {
     "base_uri": "https://localhost:8080/",
     "height": 34
    },
    "executionInfo": {
     "elapsed": 1201,
     "status": "ok",
     "timestamp": 1601103916679,
     "user": {
      "displayName": "raj priyan",
      "photoUrl": "https://lh3.googleusercontent.com/a-/AOh14GgZVW80EylFQ9L8-ITWkElw0wTMIIreVJQM-ATyrA=s64",
      "userId": "05111608225198986069"
     },
     "user_tz": -330
    },
    "id": "TxGaiEVxfhhV",
    "outputId": "b3e3babb-1592-40f4-b56e-1e0bb3b5f606"
   },
   "outputs": [
    {
     "data": {
      "text/plain": [
       "(8500, 3)"
      ]
     },
     "execution_count": 8,
     "metadata": {
      "tags": []
     },
     "output_type": "execute_result"
    }
   ],
   "source": [
    "df.shape"
   ]
  },
  {
   "cell_type": "code",
   "execution_count": 9,
   "metadata": {
    "colab": {
     "base_uri": "https://localhost:8080/",
     "height": 191
    },
    "executionInfo": {
     "elapsed": 750,
     "status": "ok",
     "timestamp": 1601103918528,
     "user": {
      "displayName": "raj priyan",
      "photoUrl": "https://lh3.googleusercontent.com/a-/AOh14GgZVW80EylFQ9L8-ITWkElw0wTMIIreVJQM-ATyrA=s64",
      "userId": "05111608225198986069"
     },
     "user_tz": -330
    },
    "id": "AxX_skuJfqTG",
    "outputId": "acfb44c4-2810-4034-93ec-e21dee234eef"
   },
   "outputs": [
    {
     "name": "stdout",
     "output_type": "stream",
     "text": [
      "<class 'pandas.core.frame.DataFrame'>\n",
      "RangeIndex: 8500 entries, 0 to 8499\n",
      "Data columns (total 3 columns):\n",
      " #   Column             Non-Null Count  Dtype \n",
      "---  ------             --------------  ----- \n",
      " 0   Short description  8492 non-null   object\n",
      " 1   Description        8499 non-null   object\n",
      " 2   Assignment group   8500 non-null   object\n",
      "dtypes: object(3)\n",
      "memory usage: 199.3+ KB\n"
     ]
    }
   ],
   "source": [
    "df.info()"
   ]
  },
  {
   "cell_type": "markdown",
   "metadata": {
    "id": "tolhGKtrfqz3"
   },
   "source": [
    "Checking for missing values"
   ]
  },
  {
   "cell_type": "code",
   "execution_count": 10,
   "metadata": {
    "colab": {
     "base_uri": "https://localhost:8080/",
     "height": 332
    },
    "executionInfo": {
     "elapsed": 1177,
     "status": "ok",
     "timestamp": 1601103921428,
     "user": {
      "displayName": "raj priyan",
      "photoUrl": "https://lh3.googleusercontent.com/a-/AOh14GgZVW80EylFQ9L8-ITWkElw0wTMIIreVJQM-ATyrA=s64",
      "userId": "05111608225198986069"
     },
     "user_tz": -330
    },
    "id": "MtSj6rE1f6B4",
    "outputId": "95d7c035-864c-4ab7-8361-e6c2b96327f0"
   },
   "outputs": [
    {
     "data": {
      "text/html": [
       "<div>\n",
       "<style scoped>\n",
       "    .dataframe tbody tr th:only-of-type {\n",
       "        vertical-align: middle;\n",
       "    }\n",
       "\n",
       "    .dataframe tbody tr th {\n",
       "        vertical-align: top;\n",
       "    }\n",
       "\n",
       "    .dataframe thead th {\n",
       "        text-align: right;\n",
       "    }\n",
       "</style>\n",
       "<table border=\"1\" class=\"dataframe\">\n",
       "  <thead>\n",
       "    <tr style=\"text-align: right;\">\n",
       "      <th></th>\n",
       "      <th>Short description</th>\n",
       "      <th>Description</th>\n",
       "      <th>Assignment group</th>\n",
       "    </tr>\n",
       "  </thead>\n",
       "  <tbody>\n",
       "    <tr>\n",
       "      <th>2604</th>\n",
       "      <td>NaN</td>\n",
       "      <td>\\r\\n\\r\\nreceived from: ohdrnswl.rezuibdt@gmail...</td>\n",
       "      <td>GRP_34</td>\n",
       "    </tr>\n",
       "    <tr>\n",
       "      <th>3383</th>\n",
       "      <td>NaN</td>\n",
       "      <td>\\r\\n-connected to the user system using teamvi...</td>\n",
       "      <td>GRP_0</td>\n",
       "    </tr>\n",
       "    <tr>\n",
       "      <th>3906</th>\n",
       "      <td>NaN</td>\n",
       "      <td>-user unable  tologin to vpn.\\r\\n-connected to...</td>\n",
       "      <td>GRP_0</td>\n",
       "    </tr>\n",
       "    <tr>\n",
       "      <th>3910</th>\n",
       "      <td>NaN</td>\n",
       "      <td>-user unable  tologin to vpn.\\r\\n-connected to...</td>\n",
       "      <td>GRP_0</td>\n",
       "    </tr>\n",
       "    <tr>\n",
       "      <th>3915</th>\n",
       "      <td>NaN</td>\n",
       "      <td>-user unable  tologin to vpn.\\r\\n-connected to...</td>\n",
       "      <td>GRP_0</td>\n",
       "    </tr>\n",
       "    <tr>\n",
       "      <th>3921</th>\n",
       "      <td>NaN</td>\n",
       "      <td>-user unable  tologin to vpn.\\r\\n-connected to...</td>\n",
       "      <td>GRP_0</td>\n",
       "    </tr>\n",
       "    <tr>\n",
       "      <th>3924</th>\n",
       "      <td>NaN</td>\n",
       "      <td>name:wvqgbdhm fwchqjor\\nlanguage:\\nbrowser:mic...</td>\n",
       "      <td>GRP_0</td>\n",
       "    </tr>\n",
       "    <tr>\n",
       "      <th>4341</th>\n",
       "      <td>NaN</td>\n",
       "      <td>\\r\\n\\r\\nreceived from: eqmuniov.ehxkcbgj@gmail...</td>\n",
       "      <td>GRP_0</td>\n",
       "    </tr>\n",
       "    <tr>\n",
       "      <th>4395</th>\n",
       "      <td>i am locked out of skype</td>\n",
       "      <td>NaN</td>\n",
       "      <td>GRP_0</td>\n",
       "    </tr>\n",
       "  </tbody>\n",
       "</table>\n",
       "</div>"
      ],
      "text/plain": [
       "             Short description  ... Assignment group\n",
       "2604                       NaN  ...           GRP_34\n",
       "3383                       NaN  ...            GRP_0\n",
       "3906                       NaN  ...            GRP_0\n",
       "3910                       NaN  ...            GRP_0\n",
       "3915                       NaN  ...            GRP_0\n",
       "3921                       NaN  ...            GRP_0\n",
       "3924                       NaN  ...            GRP_0\n",
       "4341                       NaN  ...            GRP_0\n",
       "4395  i am locked out of skype  ...            GRP_0\n",
       "\n",
       "[9 rows x 3 columns]"
      ]
     },
     "execution_count": 10,
     "metadata": {
      "tags": []
     },
     "output_type": "execute_result"
    }
   ],
   "source": [
    "df[df.isna().any(axis = 1)]"
   ]
  },
  {
   "cell_type": "markdown",
   "metadata": {
    "id": "clp2I03zgLz3"
   },
   "source": [
    ">Where there is Short description missing we fill it with long description\n",
    "\n",
    ">Where there is Description missing we fill it with short description.\n",
    "\n",
    ">Where both short or long description is missing we will drop that record"
   ]
  },
  {
   "cell_type": "code",
   "execution_count": 11,
   "metadata": {
    "executionInfo": {
     "elapsed": 1116,
     "status": "ok",
     "timestamp": 1601103924505,
     "user": {
      "displayName": "raj priyan",
      "photoUrl": "https://lh3.googleusercontent.com/a-/AOh14GgZVW80EylFQ9L8-ITWkElw0wTMIIreVJQM-ATyrA=s64",
      "userId": "05111608225198986069"
     },
     "user_tz": -330
    },
    "id": "kvvpIXTYqVii"
   },
   "outputs": [],
   "source": [
    "list_index_sd = df[df['Short description'].isna() == True].index\n",
    "list_index_sd\n",
    "for i in list_index_sd:\n",
    "  df.iloc[i]['Short description'] = df.iloc[i]['Description']"
   ]
  },
  {
   "cell_type": "code",
   "execution_count": 12,
   "metadata": {
    "executionInfo": {
     "elapsed": 770,
     "status": "ok",
     "timestamp": 1601103926485,
     "user": {
      "displayName": "raj priyan",
      "photoUrl": "https://lh3.googleusercontent.com/a-/AOh14GgZVW80EylFQ9L8-ITWkElw0wTMIIreVJQM-ATyrA=s64",
      "userId": "05111608225198986069"
     },
     "user_tz": -330
    },
    "id": "svkwZ1DSf9Hv"
   },
   "outputs": [],
   "source": [
    "list_index_d = df[df['Description'].isna() == True].index\n",
    "list_index_d\n",
    "for i in list_index_d:\n",
    "  df.iloc[i]['Description'] = df.iloc[i]['Short description']"
   ]
  },
  {
   "cell_type": "code",
   "execution_count": 13,
   "metadata": {
    "colab": {
     "base_uri": "https://localhost:8080/",
     "height": 86
    },
    "executionInfo": {
     "elapsed": 1089,
     "status": "ok",
     "timestamp": 1601103929124,
     "user": {
      "displayName": "raj priyan",
      "photoUrl": "https://lh3.googleusercontent.com/a-/AOh14GgZVW80EylFQ9L8-ITWkElw0wTMIIreVJQM-ATyrA=s64",
      "userId": "05111608225198986069"
     },
     "user_tz": -330
    },
    "id": "g-xZS4jNvmmc",
    "outputId": "1a24ccfa-2e39-4186-c2de-41f0991d8e27"
   },
   "outputs": [
    {
     "data": {
      "text/plain": [
       "Short description    False\n",
       "Description          False\n",
       "Assignment group     False\n",
       "dtype: bool"
      ]
     },
     "execution_count": 13,
     "metadata": {
      "tags": []
     },
     "output_type": "execute_result"
    }
   ],
   "source": [
    "df.isna().any()"
   ]
  },
  {
   "cell_type": "markdown",
   "metadata": {
    "id": "3p2SpODTv1Og"
   },
   "source": [
    "Howmany total Number of Assignment groups ?"
   ]
  },
  {
   "cell_type": "code",
   "execution_count": 14,
   "metadata": {
    "colab": {
     "base_uri": "https://localhost:8080/",
     "height": 243
    },
    "executionInfo": {
     "elapsed": 1130,
     "status": "ok",
     "timestamp": 1601103932141,
     "user": {
      "displayName": "raj priyan",
      "photoUrl": "https://lh3.googleusercontent.com/a-/AOh14GgZVW80EylFQ9L8-ITWkElw0wTMIIreVJQM-ATyrA=s64",
      "userId": "05111608225198986069"
     },
     "user_tz": -330
    },
    "id": "iRBUEckWhGpS",
    "outputId": "92c01d15-28f4-4606-9e0f-49b501818b2e"
   },
   "outputs": [
    {
     "data": {
      "text/plain": [
       "array(['GRP_0', 'GRP_1', 'GRP_3', 'GRP_4', 'GRP_5', 'GRP_6', 'GRP_7',\n",
       "       'GRP_8', 'GRP_9', 'GRP_10', 'GRP_11', 'GRP_12', 'GRP_13', 'GRP_14',\n",
       "       'GRP_15', 'GRP_16', 'GRP_17', 'GRP_18', 'GRP_19', 'GRP_2',\n",
       "       'GRP_20', 'GRP_21', 'GRP_22', 'GRP_23', 'GRP_24', 'GRP_25',\n",
       "       'GRP_26', 'GRP_27', 'GRP_28', 'GRP_29', 'GRP_30', 'GRP_31',\n",
       "       'GRP_33', 'GRP_34', 'GRP_35', 'GRP_36', 'GRP_37', 'GRP_38',\n",
       "       'GRP_39', 'GRP_40', 'GRP_41', 'GRP_42', 'GRP_43', 'GRP_44',\n",
       "       'GRP_45', 'GRP_46', 'GRP_47', 'GRP_48', 'GRP_49', 'GRP_50',\n",
       "       'GRP_51', 'GRP_52', 'GRP_53', 'GRP_54', 'GRP_55', 'GRP_56',\n",
       "       'GRP_57', 'GRP_58', 'GRP_59', 'GRP_60', 'GRP_61', 'GRP_32',\n",
       "       'GRP_62', 'GRP_63', 'GRP_64', 'GRP_65', 'GRP_66', 'GRP_67',\n",
       "       'GRP_68', 'GRP_69', 'GRP_70', 'GRP_71', 'GRP_72', 'GRP_73'],\n",
       "      dtype=object)"
      ]
     },
     "execution_count": 14,
     "metadata": {
      "tags": []
     },
     "output_type": "execute_result"
    }
   ],
   "source": [
    "df['Assignment group'].nunique()\n",
    "assignment_groups = df['Assignment group'].unique()\n",
    "assignment_groups"
   ]
  },
  {
   "cell_type": "markdown",
   "metadata": {
    "id": "NdMaosn-v8gL"
   },
   "source": [
    "Number of occurrence of each group"
   ]
  },
  {
   "cell_type": "code",
   "execution_count": 15,
   "metadata": {
    "colab": {
     "base_uri": "https://localhost:8080/",
     "height": 555
    },
    "executionInfo": {
     "elapsed": 1237,
     "status": "ok",
     "timestamp": 1601103936247,
     "user": {
      "displayName": "raj priyan",
      "photoUrl": "https://lh3.googleusercontent.com/a-/AOh14GgZVW80EylFQ9L8-ITWkElw0wTMIIreVJQM-ATyrA=s64",
      "userId": "05111608225198986069"
     },
     "user_tz": -330
    },
    "id": "mTpr0VHggvjf",
    "outputId": "cebf3b29-a511-4792-94f9-8a826d0a8c05"
   },
   "outputs": [
    {
     "data": {
      "text/plain": [
       "GRP_0     3976\n",
       "GRP_8      661\n",
       "GRP_24     289\n",
       "GRP_12     257\n",
       "GRP_9      252\n",
       "GRP_2      241\n",
       "GRP_19     215\n",
       "GRP_3      200\n",
       "GRP_6      184\n",
       "GRP_13     145\n",
       "GRP_10     140\n",
       "GRP_5      129\n",
       "GRP_14     118\n",
       "GRP_25     116\n",
       "GRP_33     107\n",
       "GRP_4      100\n",
       "GRP_29      97\n",
       "GRP_18      88\n",
       "GRP_16      85\n",
       "GRP_17      81\n",
       "GRP_31      69\n",
       "GRP_7       68\n",
       "GRP_34      62\n",
       "GRP_26      56\n",
       "GRP_40      45\n",
       "GRP_28      44\n",
       "GRP_41      40\n",
       "GRP_15      39\n",
       "GRP_30      39\n",
       "GRP_42      37\n",
       "Name: Assignment group, dtype: int64"
      ]
     },
     "execution_count": 15,
     "metadata": {
      "tags": []
     },
     "output_type": "execute_result"
    }
   ],
   "source": [
    "df['Assignment group'].value_counts().head(30)"
   ]
  },
  {
   "cell_type": "markdown",
   "metadata": {
    "id": "Gsj-ojqawJpd"
   },
   "source": [
    "Visualize Number of Assignment Group "
   ]
  },
  {
   "cell_type": "code",
   "execution_count": 16,
   "metadata": {
    "colab": {
     "base_uri": "https://localhost:8080/",
     "height": 497
    },
    "executionInfo": {
     "elapsed": 3936,
     "status": "ok",
     "timestamp": 1601103942749,
     "user": {
      "displayName": "raj priyan",
      "photoUrl": "https://lh3.googleusercontent.com/a-/AOh14GgZVW80EylFQ9L8-ITWkElw0wTMIIreVJQM-ATyrA=s64",
      "userId": "05111608225198986069"
     },
     "user_tz": -330
    },
    "id": "cb01mqLLwAbT",
    "outputId": "3c74cebd-7eac-4bb2-ec8a-e98170827bd0"
   },
   "outputs": [
    {
     "data": {
      "text/plain": [
       "<matplotlib.axes._subplots.AxesSubplot at 0x7fab93ba4940>"
      ]
     },
     "execution_count": 16,
     "metadata": {
      "tags": []
     },
     "output_type": "execute_result"
    },
    {
     "data": {
      "image/png": "[encoded data removed]",
      "text/plain": [
       "<Figure size 1440x504 with 1 Axes>"
      ]
     },
     "metadata": {
      "tags": []
     },
     "output_type": "display_data"
    }
   ],
   "source": [
    "plt.figure(figsize = (20,7))\n",
    "plt.xticks(rotation=90)\n",
    "sns.countplot(df['Assignment group'])"
   ]
  },
  {
   "cell_type": "markdown",
   "metadata": {
    "id": "RQSp5uHiwVwT"
   },
   "source": [
    ">>**GRP_0 is assigned maximum number of times. GRP_8, GRP_24, GRP_9, GRP_12, GRP_19, GRP2** are among most assigned."
   ]
  },
  {
   "cell_type": "markdown",
   "metadata": {
    "id": "aXtDwBJRwZiN"
   },
   "source": [
    "Exploring data"
   ]
  },
  {
   "cell_type": "code",
   "execution_count": 17,
   "metadata": {
    "colab": {
     "base_uri": "https://localhost:8080/",
     "height": 1000
    },
    "executionInfo": {
     "elapsed": 840,
     "status": "ok",
     "timestamp": 1601103944197,
     "user": {
      "displayName": "raj priyan",
      "photoUrl": "https://lh3.googleusercontent.com/a-/AOh14GgZVW80EylFQ9L8-ITWkElw0wTMIIreVJQM-ATyrA=s64",
      "userId": "05111608225198986069"
     },
     "user_tz": -330
    },
    "id": "lcY9BCTpwLlu",
    "outputId": "d0d1893f-6e5d-47fa-abbb-e2c4f3dd78d8"
   },
   "outputs": [
    {
     "data": {
      "text/html": [
       "<div>\n",
       "<style scoped>\n",
       "    .dataframe tbody tr th:only-of-type {\n",
       "        vertical-align: middle;\n",
       "    }\n",
       "\n",
       "    .dataframe tbody tr th {\n",
       "        vertical-align: top;\n",
       "    }\n",
       "\n",
       "    .dataframe thead th {\n",
       "        text-align: right;\n",
       "    }\n",
       "</style>\n",
       "<table border=\"1\" class=\"dataframe\">\n",
       "  <thead>\n",
       "    <tr style=\"text-align: right;\">\n",
       "      <th></th>\n",
       "      <th>Short description</th>\n",
       "      <th>Description</th>\n",
       "      <th>Assignment group</th>\n",
       "    </tr>\n",
       "  </thead>\n",
       "  <tbody>\n",
       "    <tr>\n",
       "      <th>8450</th>\n",
       "      <td>unable to connect to wifi</td>\n",
       "      <td>unable to connect to wifi</td>\n",
       "      <td>GRP_0</td>\n",
       "    </tr>\n",
       "    <tr>\n",
       "      <th>8451</th>\n",
       "      <td>password reset erp SID_34</td>\n",
       "      <td>password reset erp SID_34</td>\n",
       "      <td>GRP_0</td>\n",
       "    </tr>\n",
       "    <tr>\n",
       "      <th>8452</th>\n",
       "      <td>r: finished: start of s&amp;op process</td>\n",
       "      <td>\\r\\n\\r\\nreceived from: xfdkwusj.gyklresa@gmail...</td>\n",
       "      <td>GRP_0</td>\n",
       "    </tr>\n",
       "    <tr>\n",
       "      <th>8453</th>\n",
       "      <td>aw: SID_1 erp</td>\n",
       "      <td>\\r\\n\\r\\nreceived from: jofghyuach.nerreter@com...</td>\n",
       "      <td>GRP_0</td>\n",
       "    </tr>\n",
       "    <tr>\n",
       "      <th>8454</th>\n",
       "      <td>erp &amp; business_client password blocked</td>\n",
       "      <td>from: asfgthok topefd\\nsent: friday, august 05...</td>\n",
       "      <td>GRP_0</td>\n",
       "    </tr>\n",
       "    <tr>\n",
       "      <th>8455</th>\n",
       "      <td>need teamviewer full version and visio applica...</td>\n",
       "      <td>need teamviewer full version and visio applica...</td>\n",
       "      <td>GRP_19</td>\n",
       "    </tr>\n",
       "    <tr>\n",
       "      <th>8456</th>\n",
       "      <td>calculation of the claim amount will make a mi...</td>\n",
       "      <td>from: uxndyfrs vahxnfgl [mailto:uxndyfrs.vahxn...</td>\n",
       "      <td>GRP_13</td>\n",
       "    </tr>\n",
       "    <tr>\n",
       "      <th>8457</th>\n",
       "      <td>æ— æ³•ç™»é™†hr_toolè€ƒå‹¤ç³»ç»Ÿ</td>\n",
       "      <td>æ˜¾ç¤ºjavaæ’ä»¶æ— æ³•åŠ è½½ï¼Œæ‰€éœ€ç‰ˆæœ¬1.8...</td>\n",
       "      <td>GRP_30</td>\n",
       "    </tr>\n",
       "    <tr>\n",
       "      <th>8458</th>\n",
       "      <td>windows account locked</td>\n",
       "      <td>windows account locked</td>\n",
       "      <td>GRP_0</td>\n",
       "    </tr>\n",
       "    <tr>\n",
       "      <th>8459</th>\n",
       "      <td>erp crm complaint when is assigned generating ...</td>\n",
       "      <td>when we update the complaint with assigned sta...</td>\n",
       "      <td>GRP_15</td>\n",
       "    </tr>\n",
       "    <tr>\n",
       "      <th>8460</th>\n",
       "      <td>abended job in job_scheduler: Job_1148</td>\n",
       "      <td>received from: monitoring_tool@company.com\\r\\n...</td>\n",
       "      <td>GRP_9</td>\n",
       "    </tr>\n",
       "    <tr>\n",
       "      <th>8461</th>\n",
       "      <td>reboot lhqsm286 (patent web uacyltoe hxgaycze ...</td>\n",
       "      <td>reboot lhqsm286 (patent web uacyltoe hxgaycze ...</td>\n",
       "      <td>GRP_8</td>\n",
       "    </tr>\n",
       "    <tr>\n",
       "      <th>8462</th>\n",
       "      <td>abended job in job_scheduler: Job_1141</td>\n",
       "      <td>received from: monitoring_tool@company.com\\r\\n...</td>\n",
       "      <td>GRP_9</td>\n",
       "    </tr>\n",
       "    <tr>\n",
       "      <th>8463</th>\n",
       "      <td>kindly refer mail-renew account for visfgthal-...</td>\n",
       "      <td>hello snhdfihytu,\\nkindly refer mail-renew acc...</td>\n",
       "      <td>GRP_2</td>\n",
       "    </tr>\n",
       "    <tr>\n",
       "      <th>8464</th>\n",
       "      <td>SID_1 log in issue</td>\n",
       "      <td>\\r\\n\\r\\nreceived from: rjanhbde.owfkyjcp@gmail...</td>\n",
       "      <td>GRP_0</td>\n",
       "    </tr>\n",
       "    <tr>\n",
       "      <th>8465</th>\n",
       "      <td>vpn è¿žæŽ¥ä¸ä¸Š</td>\n",
       "      <td>vpnè¿žä¸ä¸Šï¼Œè¯·è½¬ç»™ è´ºæ­£å¹³ atcbvglq.bd...</td>\n",
       "      <td>GRP_30</td>\n",
       "    </tr>\n",
       "    <tr>\n",
       "      <th>8466</th>\n",
       "      <td>abended job in job_scheduler: bkwin_HostName_7...</td>\n",
       "      <td>received from: monitoring_tool@company.com\\r\\n...</td>\n",
       "      <td>GRP_8</td>\n",
       "    </tr>\n",
       "    <tr>\n",
       "      <th>8467</th>\n",
       "      <td>hi it help team,  please unblock my new compan...</td>\n",
       "      <td>from: ntydihzo aeptfbgs \\r\\nsent: friday, augu...</td>\n",
       "      <td>GRP_0</td>\n",
       "    </tr>\n",
       "    <tr>\n",
       "      <th>8468</th>\n",
       "      <td>can you unblock my account so i can use outlo...</td>\n",
       "      <td>from: nwfodmhc exurcwkm \\nsent: friday, august...</td>\n",
       "      <td>GRP_0</td>\n",
       "    </tr>\n",
       "    <tr>\n",
       "      <th>8469</th>\n",
       "      <td>plant_101 value added services - one day pick ...</td>\n",
       "      <td>request to phase in additional vas customers. ...</td>\n",
       "      <td>GRP_18</td>\n",
       "    </tr>\n",
       "    <tr>\n",
       "      <th>8470</th>\n",
       "      <td>please review your recent ticketing_tool ticke...</td>\n",
       "      <td>from: mikhghytr wafglhdrhjop \\nsent: thursday,...</td>\n",
       "      <td>GRP_16</td>\n",
       "    </tr>\n",
       "    <tr>\n",
       "      <th>8471</th>\n",
       "      <td>ç”µè„‘å¼€æœºå¼€ä¸å‡ºæ¥</td>\n",
       "      <td>to å°è´ºï¼Œæ—©ä¸Šç”µè„‘å¼€æœºå¼€ä¸å‡ºæ¥</td>\n",
       "      <td>GRP_30</td>\n",
       "    </tr>\n",
       "    <tr>\n",
       "      <th>8472</th>\n",
       "      <td>ticket update</td>\n",
       "      <td>from: rakthyesh ramdntythanjesh \\r\\nsent: frid...</td>\n",
       "      <td>GRP_0</td>\n",
       "    </tr>\n",
       "    <tr>\n",
       "      <th>8473</th>\n",
       "      <td>outlook freezing because of crm addin</td>\n",
       "      <td>outlook freezing because of crm addin</td>\n",
       "      <td>GRP_0</td>\n",
       "    </tr>\n",
       "    <tr>\n",
       "      <th>8474</th>\n",
       "      <td>inquiry about employee- shesyhur posrt</td>\n",
       "      <td>inquiry about employee- shesyhur posrt</td>\n",
       "      <td>GRP_0</td>\n",
       "    </tr>\n",
       "    <tr>\n",
       "      <th>8475</th>\n",
       "      <td>etime- time card update information.</td>\n",
       "      <td>etime- time card update information.</td>\n",
       "      <td>GRP_0</td>\n",
       "    </tr>\n",
       "    <tr>\n",
       "      <th>8476</th>\n",
       "      <td>supply_chain_software account unlock and passw...</td>\n",
       "      <td>supply_chain_software account unlock and passw...</td>\n",
       "      <td>GRP_0</td>\n",
       "    </tr>\n",
       "    <tr>\n",
       "      <th>8477</th>\n",
       "      <td>can't login to bex analyzer through vpn - urgent</td>\n",
       "      <td>\\r\\n\\r\\nreceived from: cfzsajbe.lyejkdho@gmail...</td>\n",
       "      <td>GRP_0</td>\n",
       "    </tr>\n",
       "    <tr>\n",
       "      <th>8478</th>\n",
       "      <td>beenefits access on oneteam</td>\n",
       "      <td>\\n\\nreceived from: bjitvswa.yrmugfnq@gmail.com...</td>\n",
       "      <td>GRP_0</td>\n",
       "    </tr>\n",
       "    <tr>\n",
       "      <th>8479</th>\n",
       "      <td>unable to connect to HostName_776</td>\n",
       "      <td>stehdgty jfhying called in for an issue where ...</td>\n",
       "      <td>GRP_0</td>\n",
       "    </tr>\n",
       "    <tr>\n",
       "      <th>8480</th>\n",
       "      <td>customer group enhanced field</td>\n",
       "      <td>\\r\\n\\r\\nreceived from: nlearzwi.ukdzstwi@gmail...</td>\n",
       "      <td>GRP_9</td>\n",
       "    </tr>\n",
       "    <tr>\n",
       "      <th>8481</th>\n",
       "      <td>ess portal</td>\n",
       "      <td>\\n\\nreceived from: eagvusbr.nguqityl@gmail.com...</td>\n",
       "      <td>GRP_9</td>\n",
       "    </tr>\n",
       "    <tr>\n",
       "      <th>8482</th>\n",
       "      <td>robot HostName_776 is inactive</td>\n",
       "      <td>robot HostName_776 is inactive</td>\n",
       "      <td>GRP_8</td>\n",
       "    </tr>\n",
       "    <tr>\n",
       "      <th>8483</th>\n",
       "      <td>fw: case id [ref:_case-111121032:ref] :: others</td>\n",
       "      <td>from: pacvbetl yptglhoe \\r\\nsent: thursday, au...</td>\n",
       "      <td>GRP_0</td>\n",
       "    </tr>\n",
       "    <tr>\n",
       "      <th>8484</th>\n",
       "      <td>please remove user hugcadrn ixhlwdgt (ralfteim...</td>\n",
       "      <td>please remove user hugcadrn ixhlwdgt (ralfteim...</td>\n",
       "      <td>GRP_2</td>\n",
       "    </tr>\n",
       "    <tr>\n",
       "      <th>8485</th>\n",
       "      <td>ticket update on inc1538505 to user hbmwlprq i...</td>\n",
       "      <td>ticket update on inc1538505 to user hbmwlprq i...</td>\n",
       "      <td>GRP_0</td>\n",
       "    </tr>\n",
       "    <tr>\n",
       "      <th>8486</th>\n",
       "      <td>ticket update on ticket_no0427635</td>\n",
       "      <td>ticket update on ticket_no0427635</td>\n",
       "      <td>GRP_0</td>\n",
       "    </tr>\n",
       "    <tr>\n",
       "      <th>8487</th>\n",
       "      <td>telephony_software is missing from pc</td>\n",
       "      <td>pc received multiple windows security updates ...</td>\n",
       "      <td>GRP_3</td>\n",
       "    </tr>\n",
       "    <tr>\n",
       "      <th>8488</th>\n",
       "      <td>erp account unlock</td>\n",
       "      <td>name:mfeyouli ndobtzpw\\nlanguage:\\nbrowser:mic...</td>\n",
       "      <td>GRP_0</td>\n",
       "    </tr>\n",
       "    <tr>\n",
       "      <th>8489</th>\n",
       "      <td>account locked</td>\n",
       "      <td>account locked</td>\n",
       "      <td>GRP_0</td>\n",
       "    </tr>\n",
       "    <tr>\n",
       "      <th>8490</th>\n",
       "      <td>check status in purchasing</td>\n",
       "      <td>please contact ed pasgryowski (pasgryo) about ...</td>\n",
       "      <td>GRP_29</td>\n",
       "    </tr>\n",
       "    <tr>\n",
       "      <th>8491</th>\n",
       "      <td>vpn for laptop</td>\n",
       "      <td>\\n\\nreceived from: jxgobwrm.qkugdipo@gmail.com...</td>\n",
       "      <td>GRP_34</td>\n",
       "    </tr>\n",
       "    <tr>\n",
       "      <th>8492</th>\n",
       "      <td>hr_tool etime option not visitble</td>\n",
       "      <td>hr_tool etime option not visitble</td>\n",
       "      <td>GRP_0</td>\n",
       "    </tr>\n",
       "    <tr>\n",
       "      <th>8493</th>\n",
       "      <td>erp fi  - ob09, two accounts to be added</td>\n",
       "      <td>i am sorry, i have another two accounts that n...</td>\n",
       "      <td>GRP_10</td>\n",
       "    </tr>\n",
       "    <tr>\n",
       "      <th>8494</th>\n",
       "      <td>tablet needs reimaged due to multiple issues w...</td>\n",
       "      <td>tablet needs reimaged due to multiple issues w...</td>\n",
       "      <td>GRP_3</td>\n",
       "    </tr>\n",
       "    <tr>\n",
       "      <th>8495</th>\n",
       "      <td>emails not coming in from zz mail</td>\n",
       "      <td>\\r\\n\\r\\nreceived from: avglmrts.vhqmtiua@gmail...</td>\n",
       "      <td>GRP_29</td>\n",
       "    </tr>\n",
       "    <tr>\n",
       "      <th>8496</th>\n",
       "      <td>telephony_software issue</td>\n",
       "      <td>telephony_software issue</td>\n",
       "      <td>GRP_0</td>\n",
       "    </tr>\n",
       "    <tr>\n",
       "      <th>8497</th>\n",
       "      <td>vip2: windows password reset for tifpdchb pedx...</td>\n",
       "      <td>vip2: windows password reset for tifpdchb pedx...</td>\n",
       "      <td>GRP_0</td>\n",
       "    </tr>\n",
       "    <tr>\n",
       "      <th>8498</th>\n",
       "      <td>machine nÃ£o estÃ¡ funcionando</td>\n",
       "      <td>i am unable to access the machine utilities to...</td>\n",
       "      <td>GRP_62</td>\n",
       "    </tr>\n",
       "    <tr>\n",
       "      <th>8499</th>\n",
       "      <td>an mehreren pc`s lassen sich verschiedene prgr...</td>\n",
       "      <td>an mehreren pc`s lassen sich verschiedene prgr...</td>\n",
       "      <td>GRP_49</td>\n",
       "    </tr>\n",
       "  </tbody>\n",
       "</table>\n",
       "</div>"
      ],
      "text/plain": [
       "                                      Short description  ... Assignment group\n",
       "8450                          unable to connect to wifi  ...            GRP_0\n",
       "8451                          password reset erp SID_34  ...            GRP_0\n",
       "8452                 r: finished: start of s&op process  ...            GRP_0\n",
       "8453                                      aw: SID_1 erp  ...            GRP_0\n",
       "8454             erp & business_client password blocked  ...            GRP_0\n",
       "8455  need teamviewer full version and visio applica...  ...           GRP_19\n",
       "8456  calculation of the claim amount will make a mi...  ...           GRP_13\n",
       "8457                    æ— æ³•ç™»é™†hr_toolè€ƒå‹¤ç³»ç»Ÿ  ...           GRP_30\n",
       "8458                             windows account locked  ...            GRP_0\n",
       "8459  erp crm complaint when is assigned generating ...  ...           GRP_15\n",
       "8460             abended job in job_scheduler: Job_1148  ...            GRP_9\n",
       "8461  reboot lhqsm286 (patent web uacyltoe hxgaycze ...  ...            GRP_8\n",
       "8462             abended job in job_scheduler: Job_1141  ...            GRP_9\n",
       "8463  kindly refer mail-renew account for visfgthal-...  ...            GRP_2\n",
       "8464                                 SID_1 log in issue  ...            GRP_0\n",
       "8465                                   vpn è¿žæŽ¥ä¸ä¸Š  ...           GRP_30\n",
       "8466  abended job in job_scheduler: bkwin_HostName_7...  ...            GRP_8\n",
       "8467  hi it help team,  please unblock my new compan...  ...            GRP_0\n",
       "8468   can you unblock my account so i can use outlo...  ...            GRP_0\n",
       "8469  plant_101 value added services - one day pick ...  ...           GRP_18\n",
       "8470  please review your recent ticketing_tool ticke...  ...           GRP_16\n",
       "8471                           ç”µè„‘å¼€æœºå¼€ä¸å‡ºæ¥  ...           GRP_30\n",
       "8472                                      ticket update  ...            GRP_0\n",
       "8473              outlook freezing because of crm addin  ...            GRP_0\n",
       "8474             inquiry about employee- shesyhur posrt  ...            GRP_0\n",
       "8475               etime- time card update information.  ...            GRP_0\n",
       "8476  supply_chain_software account unlock and passw...  ...            GRP_0\n",
       "8477   can't login to bex analyzer through vpn - urgent  ...            GRP_0\n",
       "8478                        beenefits access on oneteam  ...            GRP_0\n",
       "8479                  unable to connect to HostName_776  ...            GRP_0\n",
       "8480                      customer group enhanced field  ...            GRP_9\n",
       "8481                                         ess portal  ...            GRP_9\n",
       "8482                     robot HostName_776 is inactive  ...            GRP_8\n",
       "8483    fw: case id [ref:_case-111121032:ref] :: others  ...            GRP_0\n",
       "8484  please remove user hugcadrn ixhlwdgt (ralfteim...  ...            GRP_2\n",
       "8485  ticket update on inc1538505 to user hbmwlprq i...  ...            GRP_0\n",
       "8486                  ticket update on ticket_no0427635  ...            GRP_0\n",
       "8487              telephony_software is missing from pc  ...            GRP_3\n",
       "8488                                 erp account unlock  ...            GRP_0\n",
       "8489                                     account locked  ...            GRP_0\n",
       "8490                         check status in purchasing  ...           GRP_29\n",
       "8491                                     vpn for laptop  ...           GRP_34\n",
       "8492                 hr_tool etime option not visitble   ...            GRP_0\n",
       "8493           erp fi  - ob09, two accounts to be added  ...           GRP_10\n",
       "8494  tablet needs reimaged due to multiple issues w...  ...            GRP_3\n",
       "8495                  emails not coming in from zz mail  ...           GRP_29\n",
       "8496                           telephony_software issue  ...            GRP_0\n",
       "8497  vip2: windows password reset for tifpdchb pedx...  ...            GRP_0\n",
       "8498                     machine nÃ£o estÃ¡ funcionando  ...           GRP_62\n",
       "8499  an mehreren pc`s lassen sich verschiedene prgr...  ...           GRP_49\n",
       "\n",
       "[50 rows x 3 columns]"
      ]
     },
     "execution_count": 17,
     "metadata": {
      "tags": []
     },
     "output_type": "execute_result"
    }
   ],
   "source": [
    "df.tail(50)"
   ]
  },
  {
   "cell_type": "markdown",
   "metadata": {
    "id": "Wqz_C5kdwj3e"
   },
   "source": [
    "Take a look at few short description"
   ]
  },
  {
   "cell_type": "code",
   "execution_count": 18,
   "metadata": {
    "colab": {
     "base_uri": "https://localhost:8080/",
     "height": 799
    },
    "executionInfo": {
     "elapsed": 1416,
     "status": "ok",
     "timestamp": 1601103947516,
     "user": {
      "displayName": "raj priyan",
      "photoUrl": "https://lh3.googleusercontent.com/a-/AOh14GgZVW80EylFQ9L8-ITWkElw0wTMIIreVJQM-ATyrA=s64",
      "userId": "05111608225198986069"
     },
     "user_tz": -330
    },
    "id": "Q45mYhJ-wb6m",
    "outputId": "4d4c914c-2759-4011-8b99-fc2f417981d3"
   },
   "outputs": [
    {
     "name": "stdout",
     "output_type": "stream",
     "text": [
      "\n",
      "Short Description 1:\n",
      " unable to check payslips\n",
      "\n",
      "Short Description 2:\n",
      " vpn issue\n",
      "\n",
      "Short Description 3:\n",
      " unable to connect to vpn\n",
      "\n",
      "Short Description 4:\n",
      " user called for vendor phone number\n",
      "\n",
      "Short Description 5:\n",
      " vpn not working\n",
      "\n",
      "Short Description 6:\n",
      " erp SID_37 password reset \n",
      "\n",
      "Short Description 7:\n",
      " unable to login to hr_tool to check payslips\n",
      "\n",
      "Short Description 8:\n",
      " account locked out\n",
      "\n",
      "Short Description 9:\n",
      " unable to login to hr_tool\n",
      "\n",
      "Short Description 10:\n",
      " unable to log in to erp SID_34 \n",
      "\n",
      "Short Description 11:\n",
      " password reset for collaboration_platform\n",
      "\n",
      "Short Description 12:\n",
      " reset  users\n",
      "\n",
      "Short Description 13:\n",
      " duplication of network address.\n",
      "\n",
      "Short Description 14:\n",
      " ess password reset\n",
      "\n",
      "Short Description 15:\n",
      " unable to install flash player\n"
     ]
    }
   ],
   "source": [
    "for index,text in enumerate(df['Short description'][20:35]):\n",
    "  print('\\nShort Description %d:\\n'%(index+1),text)"
   ]
  },
  {
   "cell_type": "markdown",
   "metadata": {
    "id": "kDcqNzQ4wrq9"
   },
   "source": [
    "Take a look at few description"
   ]
  },
  {
   "cell_type": "code",
   "execution_count": 19,
   "metadata": {
    "colab": {
     "base_uri": "https://localhost:8080/",
     "height": 1000
    },
    "executionInfo": {
     "elapsed": 1179,
     "status": "ok",
     "timestamp": 1601103950579,
     "user": {
      "displayName": "raj priyan",
      "photoUrl": "https://lh3.googleusercontent.com/a-/AOh14GgZVW80EylFQ9L8-ITWkElw0wTMIIreVJQM-ATyrA=s64",
      "userId": "05111608225198986069"
     },
     "user_tz": -330
    },
    "id": "y5-3MuTlwoI5",
    "outputId": "99b12e31-56e6-44ee-e240-e062dac5357c"
   },
   "outputs": [
    {
     "name": "stdout",
     "output_type": "stream",
     "text": [
      "\n",
      " Description 1:\n",
      " unable to check payslips\n",
      "\n",
      " Description 2:\n",
      " \r\n",
      "\r\n",
      "received from: ugephfta.hrbqkvij@gmail.com\r\n",
      "\r\n",
      "hello helpdesk\r\n",
      "\r\n",
      "i am not able to connect vpn from home office. couple f hours ago i was connected, now it is not working anymore. getting a message that my session expired but if i click on the link, nothing happens.\r\n",
      "\r\n",
      "[cid:image001.jpg@01d233aa.3f618be0]\r\n",
      "\r\n",
      "*********************\r\n",
      "\r\n",
      "need help with your dynamics crm?\r\n",
      "click here<\r\n",
      "\r\n",
      "chat with a live agent regarding your dynamics crm questions now! click here<\r\n",
      "\r\n",
      "best \n",
      "\n",
      " Description 3:\n",
      " unable to connect to vpn\n",
      "\n",
      " Description 4:\n",
      " user called for vendor phone number\n",
      "\n",
      " Description 5:\n",
      " \n",
      "\n",
      "received from: dceoufyz.saufqkmd@gmail.com\n",
      "\n",
      "hello,\n",
      "\n",
      "i'm not being able to connect to company network through the vpn. pls check.\n",
      "\n",
      "cc: sir-i am not being able to upload as a result of no company network.\n",
      "\n",
      "\n",
      "\n",
      " Description 6:\n",
      " erp SID_37 password reset \n",
      "\n",
      " Description 7:\n",
      " unable to login to hr_tool to check payslips\n",
      "\n",
      " Description 8:\n",
      " account locked out\n",
      "\n",
      " Description 9:\n",
      " unable to login to hr_tool\n",
      "\n",
      " Description 10:\n",
      " unable to log in to erp SID_34 \n",
      "\n",
      " Description 11:\n",
      " password reset for collaboration_platform\n",
      "\n",
      " Description 12:\n",
      " hi\n",
      "\n",
      "please reset users password\n",
      "\n",
      "client id: 794\n",
      "username : xyz\n",
      "\n",
      "\n",
      "\n",
      " Description 13:\n",
      " \n",
      "\n",
      "received from: kxsceyzo.naokumlb@gmail.com\n",
      "\n",
      "gentles,\n",
      "\n",
      "i have two devices that are trying to share an ip address. they are trying to share 96.26.27.9619. one is a printer with the hostname of prtjc0074, and the other is a new display for erp. the display is using dhcp to get its address assigned and the printer is hard coded.\n",
      "\n",
      "my guess is that the address 96.26.27.9619 did not get set to a static address in dhcp. i need this corrected so the display will pick up another address.\n",
      "\n",
      "\n",
      "\n",
      " Description 14:\n",
      " ess password reset\n",
      "\n",
      " Description 15:\n",
      " unable to install flash player\n"
     ]
    }
   ],
   "source": [
    "for index,text in enumerate(df['Description'][20:35]):\n",
    "  print('\\n Description %d:\\n'%(index+1),text)"
   ]
  },
  {
   "cell_type": "markdown",
   "metadata": {
    "id": "JxgXD8fqwx7V"
   },
   "source": [
    "Determine the languages used in the dataset"
   ]
  },
  {
   "cell_type": "code",
   "execution_count": 20,
   "metadata": {
    "executionInfo": {
     "elapsed": 1117,
     "status": "ok",
     "timestamp": 1601103959849,
     "user": {
      "displayName": "raj priyan",
      "photoUrl": "https://lh3.googleusercontent.com/a-/AOh14GgZVW80EylFQ9L8-ITWkElw0wTMIIreVJQM-ATyrA=s64",
      "userId": "05111608225198986069"
     },
     "user_tz": -330
    },
    "id": "RlL4eTdBxRNl"
   },
   "outputs": [],
   "source": [
    "# nwords_short_description --> Column defining number of words in 'Short description'\n",
    "df['nwords_short_description'] = df['Short description'].apply(lambda x: len(str(x).split(\" \")))"
   ]
  },
  {
   "cell_type": "code",
   "execution_count": 21,
   "metadata": {
    "colab": {
     "base_uri": "https://localhost:8080/",
     "height": 206
    },
    "executionInfo": {
     "elapsed": 1398,
     "status": "ok",
     "timestamp": 1601103971000,
     "user": {
      "displayName": "raj priyan",
      "photoUrl": "https://lh3.googleusercontent.com/a-/AOh14GgZVW80EylFQ9L8-ITWkElw0wTMIIreVJQM-ATyrA=s64",
      "userId": "05111608225198986069"
     },
     "user_tz": -330
    },
    "id": "z6gd9CAwxcKt",
    "outputId": "37892a0b-981a-4e47-831c-db7217472846"
   },
   "outputs": [
    {
     "data": {
      "text/html": [
       "<div>\n",
       "<style scoped>\n",
       "    .dataframe tbody tr th:only-of-type {\n",
       "        vertical-align: middle;\n",
       "    }\n",
       "\n",
       "    .dataframe tbody tr th {\n",
       "        vertical-align: top;\n",
       "    }\n",
       "\n",
       "    .dataframe thead th {\n",
       "        text-align: right;\n",
       "    }\n",
       "</style>\n",
       "<table border=\"1\" class=\"dataframe\">\n",
       "  <thead>\n",
       "    <tr style=\"text-align: right;\">\n",
       "      <th></th>\n",
       "      <th>Short description</th>\n",
       "      <th>nwords_short_description</th>\n",
       "    </tr>\n",
       "  </thead>\n",
       "  <tbody>\n",
       "    <tr>\n",
       "      <th>4385</th>\n",
       "      <td>pc set up for new employee -mghlisha.baranwfhr...</td>\n",
       "      <td>41</td>\n",
       "    </tr>\n",
       "    <tr>\n",
       "      <th>1076</th>\n",
       "      <td>hello    on my order below.   i have 5  drop s...</td>\n",
       "      <td>32</td>\n",
       "    </tr>\n",
       "    <tr>\n",
       "      <th>2881</th>\n",
       "      <td>i did a po and it received with no problem, i ...</td>\n",
       "      <td>28</td>\n",
       "    </tr>\n",
       "    <tr>\n",
       "      <th>3907</th>\n",
       "      <td>i am not able to log into my vpn. when i am tr...</td>\n",
       "      <td>28</td>\n",
       "    </tr>\n",
       "    <tr>\n",
       "      <th>6307</th>\n",
       "      <td>i have created 2 new material numbers but when...</td>\n",
       "      <td>27</td>\n",
       "    </tr>\n",
       "  </tbody>\n",
       "</table>\n",
       "</div>"
      ],
      "text/plain": [
       "                                      Short description  nwords_short_description\n",
       "4385  pc set up for new employee -mghlisha.baranwfhr...                        41\n",
       "1076  hello    on my order below.   i have 5  drop s...                        32\n",
       "2881  i did a po and it received with no problem, i ...                        28\n",
       "3907  i am not able to log into my vpn. when i am tr...                        28\n",
       "6307  i have created 2 new material numbers but when...                        27"
      ]
     },
     "execution_count": 21,
     "metadata": {
      "tags": []
     },
     "output_type": "execute_result"
    }
   ],
   "source": [
    "df[['Short description', 'nwords_short_description']].sort_values(by = 'nwords_short_description', ascending = False).head(5)"
   ]
  },
  {
   "cell_type": "code",
   "execution_count": 22,
   "metadata": {
    "colab": {
     "base_uri": "https://localhost:8080/",
     "height": 206
    },
    "executionInfo": {
     "elapsed": 1115,
     "status": "ok",
     "timestamp": 1601103973972,
     "user": {
      "displayName": "raj priyan",
      "photoUrl": "https://lh3.googleusercontent.com/a-/AOh14GgZVW80EylFQ9L8-ITWkElw0wTMIIreVJQM-ATyrA=s64",
      "userId": "05111608225198986069"
     },
     "user_tz": -330
    },
    "id": "tVkZEzNA8LGt",
    "outputId": "a1ed9af8-0480-48a5-a817-c2cef6fff214"
   },
   "outputs": [
    {
     "data": {
      "text/html": [
       "<div>\n",
       "<style scoped>\n",
       "    .dataframe tbody tr th:only-of-type {\n",
       "        vertical-align: middle;\n",
       "    }\n",
       "\n",
       "    .dataframe tbody tr th {\n",
       "        vertical-align: top;\n",
       "    }\n",
       "\n",
       "    .dataframe thead th {\n",
       "        text-align: right;\n",
       "    }\n",
       "</style>\n",
       "<table border=\"1\" class=\"dataframe\">\n",
       "  <thead>\n",
       "    <tr style=\"text-align: right;\">\n",
       "      <th></th>\n",
       "      <th>Short description</th>\n",
       "      <th>nwords_short_description</th>\n",
       "    </tr>\n",
       "  </thead>\n",
       "  <tbody>\n",
       "    <tr>\n",
       "      <th>7682</th>\n",
       "      <td>discounts</td>\n",
       "      <td>1</td>\n",
       "    </tr>\n",
       "    <tr>\n",
       "      <th>4821</th>\n",
       "      <td>chg0034110</td>\n",
       "      <td>1</td>\n",
       "    </tr>\n",
       "    <tr>\n",
       "      <th>6227</th>\n",
       "      <td>vvdortddp</td>\n",
       "      <td>1</td>\n",
       "    </tr>\n",
       "    <tr>\n",
       "      <th>2833</th>\n",
       "      <td>hsh</td>\n",
       "      <td>1</td>\n",
       "    </tr>\n",
       "    <tr>\n",
       "      <th>7588</th>\n",
       "      <td>æ˜¾ç¤ºå™¨ä¸äº®</td>\n",
       "      <td>1</td>\n",
       "    </tr>\n",
       "  </tbody>\n",
       "</table>\n",
       "</div>"
      ],
      "text/plain": [
       "     Short description  nwords_short_description\n",
       "7682         discounts                         1\n",
       "4821        chg0034110                         1\n",
       "6227         vvdortddp                         1\n",
       "2833               hsh                         1\n",
       "7588   æ˜¾ç¤ºå™¨ä¸äº®                         1"
      ]
     },
     "execution_count": 22,
     "metadata": {
      "tags": []
     },
     "output_type": "execute_result"
    }
   ],
   "source": [
    "# top five description with least number of words\n",
    "df[[\"Short description\",\"nwords_short_description\"]].sort_values(by = \"nwords_short_description\",ascending = True).head()"
   ]
  },
  {
   "cell_type": "code",
   "execution_count": 23,
   "metadata": {
    "executionInfo": {
     "elapsed": 1839,
     "status": "ok",
     "timestamp": 1601103978199,
     "user": {
      "displayName": "raj priyan",
      "photoUrl": "https://lh3.googleusercontent.com/a-/AOh14GgZVW80EylFQ9L8-ITWkElw0wTMIIreVJQM-ATyrA=s64",
      "userId": "05111608225198986069"
     },
     "user_tz": -330
    },
    "id": "KAl7S2vQ8Nia"
   },
   "outputs": [],
   "source": [
    "# nwords_description --> Column defining number of words in 'Description'\n",
    "df['nwords_description'] = df['Description'].apply(lambda x: len(str(x).split(\" \")))"
   ]
  },
  {
   "cell_type": "markdown",
   "metadata": {
    "id": "dzHust_-8Sju"
   },
   "source": [
    "What are top 5 Description with maximum number of words\n"
   ]
  },
  {
   "cell_type": "code",
   "execution_count": 24,
   "metadata": {
    "colab": {
     "base_uri": "https://localhost:8080/",
     "height": 206
    },
    "executionInfo": {
     "elapsed": 1204,
     "status": "ok",
     "timestamp": 1601103980838,
     "user": {
      "displayName": "raj priyan",
      "photoUrl": "https://lh3.googleusercontent.com/a-/AOh14GgZVW80EylFQ9L8-ITWkElw0wTMIIreVJQM-ATyrA=s64",
      "userId": "05111608225198986069"
     },
     "user_tz": -330
    },
    "id": "hvXEAm-_8Pja",
    "outputId": "dfa0d13e-589f-4649-ae71-5647ddd22fb9"
   },
   "outputs": [
    {
     "data": {
      "text/html": [
       "<div>\n",
       "<style scoped>\n",
       "    .dataframe tbody tr th:only-of-type {\n",
       "        vertical-align: middle;\n",
       "    }\n",
       "\n",
       "    .dataframe tbody tr th {\n",
       "        vertical-align: top;\n",
       "    }\n",
       "\n",
       "    .dataframe thead th {\n",
       "        text-align: right;\n",
       "    }\n",
       "</style>\n",
       "<table border=\"1\" class=\"dataframe\">\n",
       "  <thead>\n",
       "    <tr style=\"text-align: right;\">\n",
       "      <th></th>\n",
       "      <th>Description</th>\n",
       "      <th>nwords_description</th>\n",
       "    </tr>\n",
       "  </thead>\n",
       "  <tbody>\n",
       "    <tr>\n",
       "      <th>7345</th>\n",
       "      <td>we are seeing activity indicating the host at ...</td>\n",
       "      <td>1417</td>\n",
       "    </tr>\n",
       "    <tr>\n",
       "      <th>4087</th>\n",
       "      <td>source ip : 172.20.10.37 , 208.211.136.158\\nsy...</td>\n",
       "      <td>1398</td>\n",
       "    </tr>\n",
       "    <tr>\n",
       "      <th>4089</th>\n",
       "      <td>source ip : 172.20.10.37 , 208.211.136.158\\nsy...</td>\n",
       "      <td>1397</td>\n",
       "    </tr>\n",
       "    <tr>\n",
       "      <th>7989</th>\n",
       "      <td>source ip : 61.01.52.02617\\r\\nsystem name : lp...</td>\n",
       "      <td>1346</td>\n",
       "    </tr>\n",
       "    <tr>\n",
       "      <th>7995</th>\n",
       "      <td>source ip : 61.01.52.02617\\r\\nsystem name : lp...</td>\n",
       "      <td>1346</td>\n",
       "    </tr>\n",
       "  </tbody>\n",
       "</table>\n",
       "</div>"
      ],
      "text/plain": [
       "                                            Description  nwords_description\n",
       "7345  we are seeing activity indicating the host at ...                1417\n",
       "4087  source ip : 172.20.10.37 , 208.211.136.158\\nsy...                1398\n",
       "4089  source ip : 172.20.10.37 , 208.211.136.158\\nsy...                1397\n",
       "7989  source ip : 61.01.52.02617\\r\\nsystem name : lp...                1346\n",
       "7995  source ip : 61.01.52.02617\\r\\nsystem name : lp...                1346"
      ]
     },
     "execution_count": 24,
     "metadata": {
      "tags": []
     },
     "output_type": "execute_result"
    }
   ],
   "source": [
    "df[['Description', 'nwords_description']].sort_values(by = 'nwords_description', ascending = False).head(5)"
   ]
  },
  {
   "cell_type": "markdown",
   "metadata": {
    "id": "PoYlKPfA8bLR"
   },
   "source": [
    " What are top 5 Description with least number of words"
   ]
  },
  {
   "cell_type": "code",
   "execution_count": 25,
   "metadata": {
    "colab": {
     "base_uri": "https://localhost:8080/",
     "height": 206
    },
    "executionInfo": {
     "elapsed": 1096,
     "status": "ok",
     "timestamp": 1601103984473,
     "user": {
      "displayName": "raj priyan",
      "photoUrl": "https://lh3.googleusercontent.com/a-/AOh14GgZVW80EylFQ9L8-ITWkElw0wTMIIreVJQM-ATyrA=s64",
      "userId": "05111608225198986069"
     },
     "user_tz": -330
    },
    "id": "CSHp1DfJ8U0I",
    "outputId": "5a7727e6-b022-4f66-9d77-04f3d091f1b3"
   },
   "outputs": [
    {
     "data": {
      "text/html": [
       "<div>\n",
       "<style scoped>\n",
       "    .dataframe tbody tr th:only-of-type {\n",
       "        vertical-align: middle;\n",
       "    }\n",
       "\n",
       "    .dataframe tbody tr th {\n",
       "        vertical-align: top;\n",
       "    }\n",
       "\n",
       "    .dataframe thead th {\n",
       "        text-align: right;\n",
       "    }\n",
       "</style>\n",
       "<table border=\"1\" class=\"dataframe\">\n",
       "  <thead>\n",
       "    <tr style=\"text-align: right;\">\n",
       "      <th></th>\n",
       "      <th>Description</th>\n",
       "      <th>nwords_description</th>\n",
       "    </tr>\n",
       "  </thead>\n",
       "  <tbody>\n",
       "    <tr>\n",
       "      <th>2788</th>\n",
       "      <td>the</td>\n",
       "      <td>1</td>\n",
       "    </tr>\n",
       "    <tr>\n",
       "      <th>3137</th>\n",
       "      <td>é‚®ç®±æ— æ³•å¯åŠ¨ï¼Œæç¤ºæ— æ³•åˆ›æ–°æ–°çš„å...</td>\n",
       "      <td>1</td>\n",
       "    </tr>\n",
       "    <tr>\n",
       "      <th>5708</th>\n",
       "      <td>the</td>\n",
       "      <td>1</td>\n",
       "    </tr>\n",
       "    <tr>\n",
       "      <th>3120</th>\n",
       "      <td>ç”µè„‘ç¡¬ç›˜æ•…éšœï¼Œè¯·æ±‚ç»´ä¿®ã€‚</td>\n",
       "      <td>1</td>\n",
       "    </tr>\n",
       "    <tr>\n",
       "      <th>8168</th>\n",
       "      <td>the</td>\n",
       "      <td>1</td>\n",
       "    </tr>\n",
       "  </tbody>\n",
       "</table>\n",
       "</div>"
      ],
      "text/plain": [
       "                                            Description  nwords_description\n",
       "2788                                                the                   1\n",
       "3137  é‚®ç®±æ— æ³•å¯åŠ¨ï¼Œæç¤ºæ— æ³•åˆ›æ–°æ–°çš„å...                   1\n",
       "5708                                                the                   1\n",
       "3120               ç”µè„‘ç¡¬ç›˜æ•…éšœï¼Œè¯·æ±‚ç»´ä¿®ã€‚                   1\n",
       "8168                                                the                   1"
      ]
     },
     "execution_count": 25,
     "metadata": {
      "tags": []
     },
     "output_type": "execute_result"
    }
   ],
   "source": [
    "df[['Description', 'nwords_description']].sort_values(by = 'nwords_description', ascending = True).head(5)"
   ]
  },
  {
   "cell_type": "markdown",
   "metadata": {
    "id": "E6j2fxVA8f-T"
   },
   "source": [
    ">>>Preprocessing the data "
   ]
  },
  {
   "cell_type": "markdown",
   "metadata": {
    "id": "9bRExfII8k1S"
   },
   "source": [
    "Make 'Short description' and 'Description' into lower case"
   ]
  },
  {
   "cell_type": "code",
   "execution_count": 26,
   "metadata": {
    "colab": {
     "base_uri": "https://localhost:8080/",
     "height": 121
    },
    "executionInfo": {
     "elapsed": 1113,
     "status": "ok",
     "timestamp": 1601103988028,
     "user": {
      "displayName": "raj priyan",
      "photoUrl": "https://lh3.googleusercontent.com/a-/AOh14GgZVW80EylFQ9L8-ITWkElw0wTMIIreVJQM-ATyrA=s64",
      "userId": "05111608225198986069"
     },
     "user_tz": -330
    },
    "id": "xm79lQ618dT8",
    "outputId": "dd890bef-fe0f-46db-855f-a02d6d263b12"
   },
   "outputs": [
    {
     "data": {
      "text/plain": [
       "0                      login issue\n",
       "1                          outlook\n",
       "2               cant log in to vpn\n",
       "3    unable to access hr_tool page\n",
       "4                     skype error \n",
       "Name: Short description, dtype: object"
      ]
     },
     "execution_count": 26,
     "metadata": {
      "tags": []
     },
     "output_type": "execute_result"
    }
   ],
   "source": [
    "df[\"Short description\"] = df[\"Short description\"].astype(str).apply(lambda x: x.lower())\n",
    "df[\"Short description\"].head()"
   ]
  },
  {
   "cell_type": "code",
   "execution_count": 27,
   "metadata": {
    "colab": {
     "base_uri": "https://localhost:8080/",
     "height": 121
    },
    "executionInfo": {
     "elapsed": 1165,
     "status": "ok",
     "timestamp": 1601103990507,
     "user": {
      "displayName": "raj priyan",
      "photoUrl": "https://lh3.googleusercontent.com/a-/AOh14GgZVW80EylFQ9L8-ITWkElw0wTMIIreVJQM-ATyrA=s64",
      "userId": "05111608225198986069"
     },
     "user_tz": -330
    },
    "id": "_OPHZRSC8uuh",
    "outputId": "deb82e06-be5d-433f-c309-6d642de588e9"
   },
   "outputs": [
    {
     "data": {
      "text/plain": [
       "0    -verified user details.(employee# & manager na...\n",
       "1    \\r\\n\\r\\nreceived from: hmjdrvpb.komuaywn@gmail...\n",
       "2    \\r\\n\\r\\nreceived from: eylqgodm.ybqkwiam@gmail...\n",
       "3                        unable to access hr_tool page\n",
       "4                                         skype error \n",
       "Name: Description, dtype: object"
      ]
     },
     "execution_count": 27,
     "metadata": {
      "tags": []
     },
     "output_type": "execute_result"
    }
   ],
   "source": [
    "df[\"Description\"] = df[\"Description\"].astype(str).apply(lambda x: x.lower())\n",
    "df[\"Description\"].head()"
   ]
  },
  {
   "cell_type": "code",
   "execution_count": 28,
   "metadata": {
    "colab": {
     "base_uri": "https://localhost:8080/",
     "height": 206
    },
    "executionInfo": {
     "elapsed": 1077,
     "status": "ok",
     "timestamp": 1601103992924,
     "user": {
      "displayName": "raj priyan",
      "photoUrl": "https://lh3.googleusercontent.com/a-/AOh14GgZVW80EylFQ9L8-ITWkElw0wTMIIreVJQM-ATyrA=s64",
      "userId": "05111608225198986069"
     },
     "user_tz": -330
    },
    "id": "XgpUJYLrXiZB",
    "outputId": "17f9a16b-066c-403f-cef1-f1819624bbbc"
   },
   "outputs": [
    {
     "data": {
      "text/html": [
       "<div>\n",
       "<style scoped>\n",
       "    .dataframe tbody tr th:only-of-type {\n",
       "        vertical-align: middle;\n",
       "    }\n",
       "\n",
       "    .dataframe tbody tr th {\n",
       "        vertical-align: top;\n",
       "    }\n",
       "\n",
       "    .dataframe thead th {\n",
       "        text-align: right;\n",
       "    }\n",
       "</style>\n",
       "<table border=\"1\" class=\"dataframe\">\n",
       "  <thead>\n",
       "    <tr style=\"text-align: right;\">\n",
       "      <th></th>\n",
       "      <th>Short description</th>\n",
       "      <th>Description</th>\n",
       "      <th>Assignment group</th>\n",
       "      <th>nwords_short_description</th>\n",
       "      <th>nwords_description</th>\n",
       "    </tr>\n",
       "  </thead>\n",
       "  <tbody>\n",
       "    <tr>\n",
       "      <th>0</th>\n",
       "      <td>login issue</td>\n",
       "      <td>-verified user details.(employee# &amp; manager na...</td>\n",
       "      <td>GRP_0</td>\n",
       "      <td>2</td>\n",
       "      <td>29</td>\n",
       "    </tr>\n",
       "    <tr>\n",
       "      <th>1</th>\n",
       "      <td>outlook</td>\n",
       "      <td>\\r\\n\\r\\nreceived from: hmjdrvpb.komuaywn@gmail...</td>\n",
       "      <td>GRP_0</td>\n",
       "      <td>1</td>\n",
       "      <td>23</td>\n",
       "    </tr>\n",
       "    <tr>\n",
       "      <th>2</th>\n",
       "      <td>cant log in to vpn</td>\n",
       "      <td>\\r\\n\\r\\nreceived from: eylqgodm.ybqkwiam@gmail...</td>\n",
       "      <td>GRP_0</td>\n",
       "      <td>5</td>\n",
       "      <td>9</td>\n",
       "    </tr>\n",
       "    <tr>\n",
       "      <th>3</th>\n",
       "      <td>unable to access hr_tool page</td>\n",
       "      <td>unable to access hr_tool page</td>\n",
       "      <td>GRP_0</td>\n",
       "      <td>5</td>\n",
       "      <td>5</td>\n",
       "    </tr>\n",
       "    <tr>\n",
       "      <th>4</th>\n",
       "      <td>skype error</td>\n",
       "      <td>skype error</td>\n",
       "      <td>GRP_0</td>\n",
       "      <td>3</td>\n",
       "      <td>3</td>\n",
       "    </tr>\n",
       "  </tbody>\n",
       "</table>\n",
       "</div>"
      ],
      "text/plain": [
       "               Short description  ... nwords_description\n",
       "0                    login issue  ...                 29\n",
       "1                        outlook  ...                 23\n",
       "2             cant log in to vpn  ...                  9\n",
       "3  unable to access hr_tool page  ...                  5\n",
       "4                   skype error   ...                  3\n",
       "\n",
       "[5 rows x 5 columns]"
      ]
     },
     "execution_count": 28,
     "metadata": {
      "tags": []
     },
     "output_type": "execute_result"
    }
   ],
   "source": [
    "df.head()"
   ]
  },
  {
   "cell_type": "markdown",
   "metadata": {
    "id": "klFwdx8w8-o_"
   },
   "source": [
    "Work in IT use naming conventions where special characters .,_:)(@; are widely used. Replacing them with a space "
   ]
  },
  {
   "cell_type": "code",
   "execution_count": 29,
   "metadata": {
    "executionInfo": {
     "elapsed": 1489,
     "status": "ok",
     "timestamp": 1601103997151,
     "user": {
      "displayName": "raj priyan",
      "photoUrl": "https://lh3.googleusercontent.com/a-/AOh14GgZVW80EylFQ9L8-ITWkElw0wTMIIreVJQM-ATyrA=s64",
      "userId": "05111608225198986069"
     },
     "user_tz": -330
    },
    "id": "Mef4_84D8w5I"
   },
   "outputs": [],
   "source": [
    "df[\"Short description\"] = df[\"Short description\"].str.replace(\"[^.,_:)(@;\\w\\s]\",\" \")\n",
    "df[\"Description\"] = df[\"Description\"].str.replace(\"[^.,_:)(@;\\w\\s]\",\" \")"
   ]
  },
  {
   "cell_type": "markdown",
   "metadata": {
    "id": "dWFQXD239XsF"
   },
   "source": [
    "Removing other punctuations"
   ]
  },
  {
   "cell_type": "code",
   "execution_count": 30,
   "metadata": {
    "executionInfo": {
     "elapsed": 1123,
     "status": "ok",
     "timestamp": 1601104001024,
     "user": {
      "displayName": "raj priyan",
      "photoUrl": "https://lh3.googleusercontent.com/a-/AOh14GgZVW80EylFQ9L8-ITWkElw0wTMIIreVJQM-ATyrA=s64",
      "userId": "05111608225198986069"
     },
     "user_tz": -330
    },
    "id": "i99UcgWr9WfM"
   },
   "outputs": [],
   "source": [
    "import re\n",
    "import string\n",
    "df['Short description'] = df['Short description'].apply(lambda x: re.sub('[%s]' % re.escape(string.punctuation), ' ', x))\n",
    "df['Description'] = df['Description'].apply(lambda x: re.sub('[%s]' % re.escape(string.punctuation), ' ', x))"
   ]
  },
  {
   "cell_type": "code",
   "execution_count": 31,
   "metadata": {
    "colab": {
     "base_uri": "https://localhost:8080/",
     "height": 955
    },
    "executionInfo": {
     "elapsed": 740,
     "status": "ok",
     "timestamp": 1601104002832,
     "user": {
      "displayName": "raj priyan",
      "photoUrl": "https://lh3.googleusercontent.com/a-/AOh14GgZVW80EylFQ9L8-ITWkElw0wTMIIreVJQM-ATyrA=s64",
      "userId": "05111608225198986069"
     },
     "user_tz": -330
    },
    "id": "uSyDuPMo9cC-",
    "outputId": "96924d1d-4c86-4123-eb01-dbd80bb2f01d"
   },
   "outputs": [
    {
     "data": {
      "text/html": [
       "<div>\n",
       "<style scoped>\n",
       "    .dataframe tbody tr th:only-of-type {\n",
       "        vertical-align: middle;\n",
       "    }\n",
       "\n",
       "    .dataframe tbody tr th {\n",
       "        vertical-align: top;\n",
       "    }\n",
       "\n",
       "    .dataframe thead th {\n",
       "        text-align: right;\n",
       "    }\n",
       "</style>\n",
       "<table border=\"1\" class=\"dataframe\">\n",
       "  <thead>\n",
       "    <tr style=\"text-align: right;\">\n",
       "      <th></th>\n",
       "      <th>Short description</th>\n",
       "      <th>Description</th>\n",
       "      <th>Assignment group</th>\n",
       "      <th>nwords_short_description</th>\n",
       "      <th>nwords_description</th>\n",
       "    </tr>\n",
       "  </thead>\n",
       "  <tbody>\n",
       "    <tr>\n",
       "      <th>8480</th>\n",
       "      <td>customer group enhanced field</td>\n",
       "      <td>\\r\\n\\r\\nreceived from  nlearzwi ukdzstwi gmail...</td>\n",
       "      <td>GRP_9</td>\n",
       "      <td>4</td>\n",
       "      <td>76</td>\n",
       "    </tr>\n",
       "    <tr>\n",
       "      <th>8481</th>\n",
       "      <td>ess portal</td>\n",
       "      <td>\\n\\nreceived from  eagvusbr nguqityl gmail com...</td>\n",
       "      <td>GRP_9</td>\n",
       "      <td>2</td>\n",
       "      <td>48</td>\n",
       "    </tr>\n",
       "    <tr>\n",
       "      <th>8482</th>\n",
       "      <td>robot hostname 776 is inactive</td>\n",
       "      <td>robot hostname 776 is inactive</td>\n",
       "      <td>GRP_8</td>\n",
       "      <td>4</td>\n",
       "      <td>4</td>\n",
       "    </tr>\n",
       "    <tr>\n",
       "      <th>8483</th>\n",
       "      <td>fw  case id  ref  case 111121032 ref     others</td>\n",
       "      <td>from  pacvbetl yptglhoe \\r\\nsent  thursday  au...</td>\n",
       "      <td>GRP_0</td>\n",
       "      <td>6</td>\n",
       "      <td>86</td>\n",
       "    </tr>\n",
       "    <tr>\n",
       "      <th>8484</th>\n",
       "      <td>please remove user hugcadrn ixhlwdgt  ralfteim...</td>\n",
       "      <td>please remove user hugcadrn ixhlwdgt  ralfteim...</td>\n",
       "      <td>GRP_2</td>\n",
       "      <td>10</td>\n",
       "      <td>15</td>\n",
       "    </tr>\n",
       "    <tr>\n",
       "      <th>8485</th>\n",
       "      <td>ticket update on inc1538505 to user hbmwlprq i...</td>\n",
       "      <td>ticket update on inc1538505 to user hbmwlprq i...</td>\n",
       "      <td>GRP_0</td>\n",
       "      <td>8</td>\n",
       "      <td>8</td>\n",
       "    </tr>\n",
       "    <tr>\n",
       "      <th>8486</th>\n",
       "      <td>ticket update on ticket no0427635</td>\n",
       "      <td>ticket update on ticket no0427635</td>\n",
       "      <td>GRP_0</td>\n",
       "      <td>4</td>\n",
       "      <td>4</td>\n",
       "    </tr>\n",
       "    <tr>\n",
       "      <th>8487</th>\n",
       "      <td>telephony software is missing from pc</td>\n",
       "      <td>pc received multiple windows security updates ...</td>\n",
       "      <td>GRP_3</td>\n",
       "      <td>5</td>\n",
       "      <td>128</td>\n",
       "    </tr>\n",
       "    <tr>\n",
       "      <th>8488</th>\n",
       "      <td>erp account unlock</td>\n",
       "      <td>name mfeyouli ndobtzpw\\nlanguage \\nbrowser mic...</td>\n",
       "      <td>GRP_0</td>\n",
       "      <td>3</td>\n",
       "      <td>13</td>\n",
       "    </tr>\n",
       "    <tr>\n",
       "      <th>8489</th>\n",
       "      <td>account locked</td>\n",
       "      <td>account locked</td>\n",
       "      <td>GRP_0</td>\n",
       "      <td>2</td>\n",
       "      <td>2</td>\n",
       "    </tr>\n",
       "    <tr>\n",
       "      <th>8490</th>\n",
       "      <td>check status in purchasing</td>\n",
       "      <td>please contact ed pasgryowski  pasgryo  about ...</td>\n",
       "      <td>GRP_29</td>\n",
       "      <td>4</td>\n",
       "      <td>51</td>\n",
       "    </tr>\n",
       "    <tr>\n",
       "      <th>8491</th>\n",
       "      <td>vpn for laptop</td>\n",
       "      <td>\\n\\nreceived from  jxgobwrm qkugdipo gmail com...</td>\n",
       "      <td>GRP_34</td>\n",
       "      <td>3</td>\n",
       "      <td>15</td>\n",
       "    </tr>\n",
       "    <tr>\n",
       "      <th>8492</th>\n",
       "      <td>hr tool etime option not visitble</td>\n",
       "      <td>hr tool etime option not visitble</td>\n",
       "      <td>GRP_0</td>\n",
       "      <td>6</td>\n",
       "      <td>6</td>\n",
       "    </tr>\n",
       "    <tr>\n",
       "      <th>8493</th>\n",
       "      <td>erp fi    ob09  two accounts to be added</td>\n",
       "      <td>i am sorry  i have another two accounts that n...</td>\n",
       "      <td>GRP_10</td>\n",
       "      <td>10</td>\n",
       "      <td>46</td>\n",
       "    </tr>\n",
       "    <tr>\n",
       "      <th>8494</th>\n",
       "      <td>tablet needs reimaged due to multiple issues w...</td>\n",
       "      <td>tablet needs reimaged due to multiple issues w...</td>\n",
       "      <td>GRP_3</td>\n",
       "      <td>11</td>\n",
       "      <td>11</td>\n",
       "    </tr>\n",
       "    <tr>\n",
       "      <th>8495</th>\n",
       "      <td>emails not coming in from zz mail</td>\n",
       "      <td>\\r\\n\\r\\nreceived from  avglmrts vhqmtiua gmail...</td>\n",
       "      <td>GRP_29</td>\n",
       "      <td>7</td>\n",
       "      <td>16</td>\n",
       "    </tr>\n",
       "    <tr>\n",
       "      <th>8496</th>\n",
       "      <td>telephony software issue</td>\n",
       "      <td>telephony software issue</td>\n",
       "      <td>GRP_0</td>\n",
       "      <td>2</td>\n",
       "      <td>2</td>\n",
       "    </tr>\n",
       "    <tr>\n",
       "      <th>8497</th>\n",
       "      <td>vip2  windows password reset for tifpdchb pedx...</td>\n",
       "      <td>vip2  windows password reset for tifpdchb pedx...</td>\n",
       "      <td>GRP_0</td>\n",
       "      <td>7</td>\n",
       "      <td>7</td>\n",
       "    </tr>\n",
       "    <tr>\n",
       "      <th>8498</th>\n",
       "      <td>machine nã o estã  funcionando</td>\n",
       "      <td>i am unable to access the machine utilities to...</td>\n",
       "      <td>GRP_62</td>\n",
       "      <td>4</td>\n",
       "      <td>16</td>\n",
       "    </tr>\n",
       "    <tr>\n",
       "      <th>8499</th>\n",
       "      <td>an mehreren pc s lassen sich verschiedene prgr...</td>\n",
       "      <td>an mehreren pc s lassen sich verschiedene prgr...</td>\n",
       "      <td>GRP_49</td>\n",
       "      <td>10</td>\n",
       "      <td>11</td>\n",
       "    </tr>\n",
       "  </tbody>\n",
       "</table>\n",
       "</div>"
      ],
      "text/plain": [
       "                                      Short description  ... nwords_description\n",
       "8480                      customer group enhanced field  ...                 76\n",
       "8481                                         ess portal  ...                 48\n",
       "8482                     robot hostname 776 is inactive  ...                  4\n",
       "8483    fw  case id  ref  case 111121032 ref     others  ...                 86\n",
       "8484  please remove user hugcadrn ixhlwdgt  ralfteim...  ...                 15\n",
       "8485  ticket update on inc1538505 to user hbmwlprq i...  ...                  8\n",
       "8486                  ticket update on ticket no0427635  ...                  4\n",
       "8487              telephony software is missing from pc  ...                128\n",
       "8488                                 erp account unlock  ...                 13\n",
       "8489                                     account locked  ...                  2\n",
       "8490                         check status in purchasing  ...                 51\n",
       "8491                                     vpn for laptop  ...                 15\n",
       "8492                 hr tool etime option not visitble   ...                  6\n",
       "8493           erp fi    ob09  two accounts to be added  ...                 46\n",
       "8494  tablet needs reimaged due to multiple issues w...  ...                 11\n",
       "8495                  emails not coming in from zz mail  ...                 16\n",
       "8496                           telephony software issue  ...                  2\n",
       "8497  vip2  windows password reset for tifpdchb pedx...  ...                  7\n",
       "8498                     machine nã o estã  funcionando  ...                 16\n",
       "8499  an mehreren pc s lassen sich verschiedene prgr...  ...                 11\n",
       "\n",
       "[20 rows x 5 columns]"
      ]
     },
     "execution_count": 31,
     "metadata": {
      "tags": []
     },
     "output_type": "execute_result"
    }
   ],
   "source": [
    "df.tail(20)"
   ]
  },
  {
   "cell_type": "markdown",
   "metadata": {
    "id": "a1LoO4II9msi"
   },
   "source": [
    "Remove digits and word containing digits\n"
   ]
  },
  {
   "cell_type": "code",
   "execution_count": 32,
   "metadata": {
    "executionInfo": {
     "elapsed": 1153,
     "status": "ok",
     "timestamp": 1601104006156,
     "user": {
      "displayName": "raj priyan",
      "photoUrl": "https://lh3.googleusercontent.com/a-/AOh14GgZVW80EylFQ9L8-ITWkElw0wTMIIreVJQM-ATyrA=s64",
      "userId": "05111608225198986069"
     },
     "user_tz": -330
    },
    "id": "aUH2ecKw9h71"
   },
   "outputs": [],
   "source": [
    "df['Short description'] = df['Short description'].apply(lambda x: re.sub('\\w*\\d\\w*','', x))\n",
    "df['Description'] = df['Description'].apply(lambda x: re.sub('\\w*\\d\\w*','', x))"
   ]
  },
  {
   "cell_type": "markdown",
   "metadata": {
    "id": "bSBEofSE9scu"
   },
   "source": [
    "\n",
    "Remove escape characters\n"
   ]
  },
  {
   "cell_type": "code",
   "execution_count": 33,
   "metadata": {
    "executionInfo": {
     "elapsed": 1371,
     "status": "ok",
     "timestamp": 1601104009660,
     "user": {
      "displayName": "raj priyan",
      "photoUrl": "https://lh3.googleusercontent.com/a-/AOh14GgZVW80EylFQ9L8-ITWkElw0wTMIIreVJQM-ATyrA=s64",
      "userId": "05111608225198986069"
     },
     "user_tz": -330
    },
    "id": "-CsTZnMQ9pYG"
   },
   "outputs": [],
   "source": [
    "regex = re.compile(r'[\\n\\r\\t\\'\\b\\\\]')\n",
    "df['Short description'] = df['Short description'].apply(lambda x: regex.sub(\" \",x))\n",
    "df['Description'] = df['Description'].apply(lambda x: regex.sub(\" \",x))"
   ]
  },
  {
   "cell_type": "markdown",
   "metadata": {
    "id": "OHB_s2_c9zAR"
   },
   "source": [
    "Remove bad characters like 'å è ºï¼œæ ä šç µè å¼ æœºå¼ ä å ºæ'"
   ]
  },
  {
   "cell_type": "code",
   "execution_count": 34,
   "metadata": {
    "executionInfo": {
     "elapsed": 1268,
     "status": "ok",
     "timestamp": 1601104013247,
     "user": {
      "displayName": "raj priyan",
      "photoUrl": "https://lh3.googleusercontent.com/a-/AOh14GgZVW80EylFQ9L8-ITWkElw0wTMIIreVJQM-ATyrA=s64",
      "userId": "05111608225198986069"
     },
     "user_tz": -330
    },
    "id": "foGGcjum9uWR"
   },
   "outputs": [],
   "source": [
    "#removing bad characters like å è ºï¼œæ ä šç µè å¼ æœºå¼ ä å ºæ\n",
    "regex = re.compile(r'[^a-zA-z0-9 ]')\n",
    "df['Description'] = df['Description'].apply(lambda x: regex.sub(\" \",x))\n",
    "df['Short description'] = df['Short description'].apply(lambda x: regex.sub(\" \",x))"
   ]
  },
  {
   "cell_type": "markdown",
   "metadata": {
    "id": "trypAPkz93oW"
   },
   "source": [
    "\n",
    "Removing extra spaces\n"
   ]
  },
  {
   "cell_type": "code",
   "execution_count": 35,
   "metadata": {
    "executionInfo": {
     "elapsed": 2019,
     "status": "ok",
     "timestamp": 1601104017445,
     "user": {
      "displayName": "raj priyan",
      "photoUrl": "https://lh3.googleusercontent.com/a-/AOh14GgZVW80EylFQ9L8-ITWkElw0wTMIIreVJQM-ATyrA=s64",
      "userId": "05111608225198986069"
     },
     "user_tz": -330
    },
    "id": "TKTIevpu903S"
   },
   "outputs": [],
   "source": [
    "df['Short description'] = df['Short description'].apply(lambda x: re.sub(' +',' ',x))\n",
    "df['Description'] = df['Description'].apply(lambda x: re.sub(' +',' ',x))"
   ]
  },
  {
   "cell_type": "markdown",
   "metadata": {
    "id": "SjLZ-Ony97rd"
   },
   "source": [
    "\n",
    "Remove Stop words\n"
   ]
  },
  {
   "cell_type": "code",
   "execution_count": 36,
   "metadata": {
    "colab": {
     "base_uri": "https://localhost:8080/",
     "height": 52
    },
    "executionInfo": {
     "elapsed": 1985,
     "status": "ok",
     "timestamp": 1601104020961,
     "user": {
      "displayName": "raj priyan",
      "photoUrl": "https://lh3.googleusercontent.com/a-/AOh14GgZVW80EylFQ9L8-ITWkElw0wTMIIreVJQM-ATyrA=s64",
      "userId": "05111608225198986069"
     },
     "user_tz": -330
    },
    "id": "9eHHDteN95ZL",
    "outputId": "58b771fb-d1bb-49f5-c23c-2dd95b865ae4"
   },
   "outputs": [
    {
     "name": "stdout",
     "output_type": "stream",
     "text": [
      "[nltk_data] Downloading package stopwords to /root/nltk_data...\n",
      "[nltk_data]   Unzipping corpora/stopwords.zip.\n"
     ]
    }
   ],
   "source": [
    "## Importing stop words from nltk.corpus\n",
    "import nltk\n",
    "nltk.download('stopwords')\n",
    "from nltk.corpus import stopwords"
   ]
  },
  {
   "cell_type": "code",
   "execution_count": 37,
   "metadata": {
    "executionInfo": {
     "elapsed": 734,
     "status": "ok",
     "timestamp": 1601104022863,
     "user": {
      "displayName": "raj priyan",
      "photoUrl": "https://lh3.googleusercontent.com/a-/AOh14GgZVW80EylFQ9L8-ITWkElw0wTMIIreVJQM-ATyrA=s64",
      "userId": "05111608225198986069"
     },
     "user_tz": -330
    },
    "id": "gYC6vYL8-C_w"
   },
   "outputs": [],
   "source": [
    "stop = stopwords.words(\"english\")"
   ]
  },
  {
   "cell_type": "markdown",
   "metadata": {
    "id": "MS1Ph_lx-HsP"
   },
   "source": [
    "Upating stop words list as words like gmail, com are too common."
   ]
  },
  {
   "cell_type": "code",
   "execution_count": 38,
   "metadata": {
    "executionInfo": {
     "elapsed": 1257,
     "status": "ok",
     "timestamp": 1601104028665,
     "user": {
      "displayName": "raj priyan",
      "photoUrl": "https://lh3.googleusercontent.com/a-/AOh14GgZVW80EylFQ9L8-ITWkElw0wTMIIreVJQM-ATyrA=s64",
      "userId": "05111608225198986069"
     },
     "user_tz": -330
    },
    "id": "d_BfUulf-FKD"
   },
   "outputs": [],
   "source": [
    "newStopWords = ['received','from','ticket','com','gmail','hi','hey','thanks','regards','hello','you']\n",
    "stop.extend(newStopWords)"
   ]
  },
  {
   "cell_type": "code",
   "execution_count": 39,
   "metadata": {
    "executionInfo": {
     "elapsed": 1659,
     "status": "ok",
     "timestamp": 1601104032315,
     "user": {
      "displayName": "raj priyan",
      "photoUrl": "https://lh3.googleusercontent.com/a-/AOh14GgZVW80EylFQ9L8-ITWkElw0wTMIIreVJQM-ATyrA=s64",
      "userId": "05111608225198986069"
     },
     "user_tz": -330
    },
    "id": "3kYKL2IG-N8x"
   },
   "outputs": [],
   "source": [
    "df[\"Short description\"] = df[\"Short description\"].apply(lambda x: \" \".join(x for x in x.split() if x not in stop))\n",
    "df[\"Description\"] = df[\"Description\"].apply(lambda x: \" \".join(x for x in x.split() if x not in stop))"
   ]
  },
  {
   "cell_type": "code",
   "execution_count": 40,
   "metadata": {
    "colab": {
     "base_uri": "https://localhost:8080/",
     "height": 206
    },
    "executionInfo": {
     "elapsed": 1454,
     "status": "ok",
     "timestamp": 1601104036437,
     "user": {
      "displayName": "raj priyan",
      "photoUrl": "https://lh3.googleusercontent.com/a-/AOh14GgZVW80EylFQ9L8-ITWkElw0wTMIIreVJQM-ATyrA=s64",
      "userId": "05111608225198986069"
     },
     "user_tz": -330
    },
    "id": "Y7HYXv03-QG2",
    "outputId": "0e6e10d4-f9bd-4fe3-eb84-6dc7e5fd9df8"
   },
   "outputs": [
    {
     "data": {
      "text/html": [
       "<div>\n",
       "<style scoped>\n",
       "    .dataframe tbody tr th:only-of-type {\n",
       "        vertical-align: middle;\n",
       "    }\n",
       "\n",
       "    .dataframe tbody tr th {\n",
       "        vertical-align: top;\n",
       "    }\n",
       "\n",
       "    .dataframe thead th {\n",
       "        text-align: right;\n",
       "    }\n",
       "</style>\n",
       "<table border=\"1\" class=\"dataframe\">\n",
       "  <thead>\n",
       "    <tr style=\"text-align: right;\">\n",
       "      <th></th>\n",
       "      <th>Short description</th>\n",
       "      <th>Description</th>\n",
       "      <th>Assignment group</th>\n",
       "      <th>nwords_short_description</th>\n",
       "      <th>nwords_description</th>\n",
       "    </tr>\n",
       "  </thead>\n",
       "  <tbody>\n",
       "    <tr>\n",
       "      <th>0</th>\n",
       "      <td>login issue</td>\n",
       "      <td>verified user details employee manager name ch...</td>\n",
       "      <td>GRP_0</td>\n",
       "      <td>2</td>\n",
       "      <td>29</td>\n",
       "    </tr>\n",
       "    <tr>\n",
       "      <th>1</th>\n",
       "      <td>outlook</td>\n",
       "      <td>hmjdrvpb komuaywn team meetings skype meetings...</td>\n",
       "      <td>GRP_0</td>\n",
       "      <td>1</td>\n",
       "      <td>23</td>\n",
       "    </tr>\n",
       "    <tr>\n",
       "      <th>2</th>\n",
       "      <td>cant log vpn</td>\n",
       "      <td>eylqgodm ybqkwiam cannot log vpn best</td>\n",
       "      <td>GRP_0</td>\n",
       "      <td>5</td>\n",
       "      <td>9</td>\n",
       "    </tr>\n",
       "    <tr>\n",
       "      <th>3</th>\n",
       "      <td>unable access hr tool page</td>\n",
       "      <td>unable access hr tool page</td>\n",
       "      <td>GRP_0</td>\n",
       "      <td>5</td>\n",
       "      <td>5</td>\n",
       "    </tr>\n",
       "    <tr>\n",
       "      <th>4</th>\n",
       "      <td>skype error</td>\n",
       "      <td>skype error</td>\n",
       "      <td>GRP_0</td>\n",
       "      <td>3</td>\n",
       "      <td>3</td>\n",
       "    </tr>\n",
       "  </tbody>\n",
       "</table>\n",
       "</div>"
      ],
      "text/plain": [
       "            Short description  ... nwords_description\n",
       "0                 login issue  ...                 29\n",
       "1                     outlook  ...                 23\n",
       "2                cant log vpn  ...                  9\n",
       "3  unable access hr tool page  ...                  5\n",
       "4                 skype error  ...                  3\n",
       "\n",
       "[5 rows x 5 columns]"
      ]
     },
     "execution_count": 40,
     "metadata": {
      "tags": []
     },
     "output_type": "execute_result"
    }
   ],
   "source": [
    "  df.head()"
   ]
  },
  {
   "cell_type": "markdown",
   "metadata": {
    "id": "AF_05oGN-oW3"
   },
   "source": [
    "Lemmatization\n"
   ]
  },
  {
   "cell_type": "code",
   "execution_count": 41,
   "metadata": {
    "colab": {
     "base_uri": "https://localhost:8080/",
     "height": 69
    },
    "executionInfo": {
     "elapsed": 2434,
     "status": "ok",
     "timestamp": 1601104042733,
     "user": {
      "displayName": "raj priyan",
      "photoUrl": "https://lh3.googleusercontent.com/a-/AOh14GgZVW80EylFQ9L8-ITWkElw0wTMIIreVJQM-ATyrA=s64",
      "userId": "05111608225198986069"
     },
     "user_tz": -330
    },
    "id": "V4EbMnPK-pEH",
    "outputId": "fed9510f-680f-45b6-8f31-9751f263f6a5"
   },
   "outputs": [
    {
     "name": "stdout",
     "output_type": "stream",
     "text": [
      "[nltk_data] Downloading package wordnet to /root/nltk_data...\n",
      "[nltk_data]   Unzipping corpora/wordnet.zip.\n"
     ]
    },
    {
     "data": {
      "text/plain": [
       "True"
      ]
     },
     "execution_count": 41,
     "metadata": {
      "tags": []
     },
     "output_type": "execute_result"
    }
   ],
   "source": [
    "from nltk.stem import WordNetLemmatizer\n",
    "from textblob import Word\n",
    "nltk.download('wordnet')"
   ]
  },
  {
   "cell_type": "code",
   "execution_count": 42,
   "metadata": {
    "executionInfo": {
     "elapsed": 784,
     "status": "ok",
     "timestamp": 1601104044342,
     "user": {
      "displayName": "raj priyan",
      "photoUrl": "https://lh3.googleusercontent.com/a-/AOh14GgZVW80EylFQ9L8-ITWkElw0wTMIIreVJQM-ATyrA=s64",
      "userId": "05111608225198986069"
     },
     "user_tz": -330
    },
    "id": "yEFm2ueX-qxK"
   },
   "outputs": [],
   "source": [
    "lemmatizer = WordNetLemmatizer()"
   ]
  },
  {
   "cell_type": "code",
   "execution_count": 43,
   "metadata": {
    "executionInfo": {
     "elapsed": 3551,
     "status": "ok",
     "timestamp": 1601104049102,
     "user": {
      "displayName": "raj priyan",
      "photoUrl": "https://lh3.googleusercontent.com/a-/AOh14GgZVW80EylFQ9L8-ITWkElw0wTMIIreVJQM-ATyrA=s64",
      "userId": "05111608225198986069"
     },
     "user_tz": -330
    },
    "id": "X37Sm4zK-sUp"
   },
   "outputs": [],
   "source": [
    "df[\"Short description\"] = df[\"Short description\"].apply(lambda x: \" \".join([lemmatizer.lemmatize(Word(myword)) for myword in x.split()]))\n",
    "df[\"Description\"] = df[\"Description\"].apply(lambda x: \" \".join([lemmatizer.lemmatize(Word(myword)) for myword in x.split()]))"
   ]
  },
  {
   "cell_type": "code",
   "execution_count": 44,
   "metadata": {
    "colab": {
     "base_uri": "https://localhost:8080/",
     "height": 206
    },
    "executionInfo": {
     "elapsed": 1075,
     "status": "ok",
     "timestamp": 1601104051649,
     "user": {
      "displayName": "raj priyan",
      "photoUrl": "https://lh3.googleusercontent.com/a-/AOh14GgZVW80EylFQ9L8-ITWkElw0wTMIIreVJQM-ATyrA=s64",
      "userId": "05111608225198986069"
     },
     "user_tz": -330
    },
    "id": "z85Il5dW-trg",
    "outputId": "f870076c-2dbb-4263-f907-f3f345e4ff7d"
   },
   "outputs": [
    {
     "data": {
      "text/html": [
       "<div>\n",
       "<style scoped>\n",
       "    .dataframe tbody tr th:only-of-type {\n",
       "        vertical-align: middle;\n",
       "    }\n",
       "\n",
       "    .dataframe tbody tr th {\n",
       "        vertical-align: top;\n",
       "    }\n",
       "\n",
       "    .dataframe thead th {\n",
       "        text-align: right;\n",
       "    }\n",
       "</style>\n",
       "<table border=\"1\" class=\"dataframe\">\n",
       "  <thead>\n",
       "    <tr style=\"text-align: right;\">\n",
       "      <th></th>\n",
       "      <th>Short description</th>\n",
       "      <th>Description</th>\n",
       "      <th>Assignment group</th>\n",
       "      <th>nwords_short_description</th>\n",
       "      <th>nwords_description</th>\n",
       "    </tr>\n",
       "  </thead>\n",
       "  <tbody>\n",
       "    <tr>\n",
       "      <th>0</th>\n",
       "      <td>login issue</td>\n",
       "      <td>verified user detail employee manager name che...</td>\n",
       "      <td>GRP_0</td>\n",
       "      <td>2</td>\n",
       "      <td>29</td>\n",
       "    </tr>\n",
       "    <tr>\n",
       "      <th>1</th>\n",
       "      <td>outlook</td>\n",
       "      <td>hmjdrvpb komuaywn team meeting skype meeting e...</td>\n",
       "      <td>GRP_0</td>\n",
       "      <td>1</td>\n",
       "      <td>23</td>\n",
       "    </tr>\n",
       "    <tr>\n",
       "      <th>2</th>\n",
       "      <td>cant log vpn</td>\n",
       "      <td>eylqgodm ybqkwiam cannot log vpn best</td>\n",
       "      <td>GRP_0</td>\n",
       "      <td>5</td>\n",
       "      <td>9</td>\n",
       "    </tr>\n",
       "    <tr>\n",
       "      <th>3</th>\n",
       "      <td>unable access hr tool page</td>\n",
       "      <td>unable access hr tool page</td>\n",
       "      <td>GRP_0</td>\n",
       "      <td>5</td>\n",
       "      <td>5</td>\n",
       "    </tr>\n",
       "    <tr>\n",
       "      <th>4</th>\n",
       "      <td>skype error</td>\n",
       "      <td>skype error</td>\n",
       "      <td>GRP_0</td>\n",
       "      <td>3</td>\n",
       "      <td>3</td>\n",
       "    </tr>\n",
       "  </tbody>\n",
       "</table>\n",
       "</div>"
      ],
      "text/plain": [
       "            Short description  ... nwords_description\n",
       "0                 login issue  ...                 29\n",
       "1                     outlook  ...                 23\n",
       "2                cant log vpn  ...                  9\n",
       "3  unable access hr tool page  ...                  5\n",
       "4                 skype error  ...                  3\n",
       "\n",
       "[5 rows x 5 columns]"
      ]
     },
     "execution_count": 44,
     "metadata": {
      "tags": []
     },
     "output_type": "execute_result"
    }
   ],
   "source": [
    "df.head()"
   ]
  },
  {
   "cell_type": "markdown",
   "metadata": {
    "id": "RQLe7WbQAghb"
   },
   "source": [
    "Creating clean dataframe with merging 'Short description' and 'Description' and taking only unique words from them\n"
   ]
  },
  {
   "cell_type": "code",
   "execution_count": 45,
   "metadata": {
    "executionInfo": {
     "elapsed": 1391,
     "status": "ok",
     "timestamp": 1601104054629,
     "user": {
      "displayName": "raj priyan",
      "photoUrl": "https://lh3.googleusercontent.com/a-/AOh14GgZVW80EylFQ9L8-ITWkElw0wTMIIreVJQM-ATyrA=s64",
      "userId": "05111608225198986069"
     },
     "user_tz": -330
    },
    "id": "JpTsgdoNAhQv"
   },
   "outputs": [],
   "source": [
    "df['temp'] = df['Short description']+\" \"+df['Description']"
   ]
  },
  {
   "cell_type": "code",
   "execution_count": 46,
   "metadata": {
    "colab": {
     "base_uri": "https://localhost:8080/",
     "height": 121
    },
    "executionInfo": {
     "elapsed": 1137,
     "status": "ok",
     "timestamp": 1601104057540,
     "user": {
      "displayName": "raj priyan",
      "photoUrl": "https://lh3.googleusercontent.com/a-/AOh14GgZVW80EylFQ9L8-ITWkElw0wTMIIreVJQM-ATyrA=s64",
      "userId": "05111608225198986069"
     },
     "user_tz": -330
    },
    "id": "yElSIAzPA3yQ",
    "outputId": "dd4e19ed-dade-4a1c-b745-088ba11007c3"
   },
   "outputs": [
    {
     "data": {
      "text/plain": [
       "0    login issue verified user detail employee mana...\n",
       "1    outlook hmjdrvpb komuaywn team meeting skype m...\n",
       "2    cant log vpn eylqgodm ybqkwiam cannot log vpn ...\n",
       "3    unable access hr tool page unable access hr to...\n",
       "4                              skype error skype error\n",
       "Name: temp, dtype: object"
      ]
     },
     "execution_count": 46,
     "metadata": {
      "tags": []
     },
     "output_type": "execute_result"
    }
   ],
   "source": [
    "df['temp'].head()"
   ]
  },
  {
   "cell_type": "code",
   "execution_count": 47,
   "metadata": {
    "executionInfo": {
     "elapsed": 710,
     "status": "ok",
     "timestamp": 1601104059252,
     "user": {
      "displayName": "raj priyan",
      "photoUrl": "https://lh3.googleusercontent.com/a-/AOh14GgZVW80EylFQ9L8-ITWkElw0wTMIIreVJQM-ATyrA=s64",
      "userId": "05111608225198986069"
     },
     "user_tz": -330
    },
    "id": "oe8EK1yTAjJh"
   },
   "outputs": [],
   "source": [
    "from collections import Counter \n",
    "  \n",
    "def remov_duplicates(input): \n",
    "  \n",
    "    # split input string separated by space \n",
    "    input = input.split(\" \") \n",
    "  \n",
    "    # joins two adjacent elements in iterable way \n",
    "    for i in range(0, len(input)): \n",
    "        input[i] = \"\".join(input[i]) \n",
    "  \n",
    "    # now create dictionary using counter method \n",
    "    # which will have strings as key and their  \n",
    "    # frequencies as value \n",
    "    UniqW = Counter(input) \n",
    "  \n",
    "    # joins two adjacent elements in iterable way \n",
    "    s = \" \".join(UniqW.keys()) \n",
    "    return s"
   ]
  },
  {
   "cell_type": "code",
   "execution_count": 48,
   "metadata": {
    "executionInfo": {
     "elapsed": 1184,
     "status": "ok",
     "timestamp": 1601104061822,
     "user": {
      "displayName": "raj priyan",
      "photoUrl": "https://lh3.googleusercontent.com/a-/AOh14GgZVW80EylFQ9L8-ITWkElw0wTMIIreVJQM-ATyrA=s64",
      "userId": "05111608225198986069"
     },
     "user_tz": -330
    },
    "id": "5tD6JzrNAlRM"
   },
   "outputs": [],
   "source": [
    "df['final_description'] = df['temp'].apply(lambda x: remov_duplicates(x))"
   ]
  },
  {
   "cell_type": "code",
   "execution_count": 49,
   "metadata": {
    "executionInfo": {
     "elapsed": 701,
     "status": "ok",
     "timestamp": 1601104063929,
     "user": {
      "displayName": "raj priyan",
      "photoUrl": "https://lh3.googleusercontent.com/a-/AOh14GgZVW80EylFQ9L8-ITWkElw0wTMIIreVJQM-ATyrA=s64",
      "userId": "05111608225198986069"
     },
     "user_tz": -330
    },
    "id": "Xi-0OavSAfy1"
   },
   "outputs": [],
   "source": [
    "df.drop('temp', axis = 1, inplace = True)"
   ]
  },
  {
   "cell_type": "code",
   "execution_count": 50,
   "metadata": {
    "colab": {
     "base_uri": "https://localhost:8080/",
     "height": 293
    },
    "executionInfo": {
     "elapsed": 1130,
     "status": "ok",
     "timestamp": 1601104066798,
     "user": {
      "displayName": "raj priyan",
      "photoUrl": "https://lh3.googleusercontent.com/a-/AOh14GgZVW80EylFQ9L8-ITWkElw0wTMIIreVJQM-ATyrA=s64",
      "userId": "05111608225198986069"
     },
     "user_tz": -330
    },
    "id": "xm8BzYGBY0nJ",
    "outputId": "4ed4b8aa-19da-46c6-8b1b-57455640323b"
   },
   "outputs": [
    {
     "data": {
      "text/html": [
       "<div>\n",
       "<style scoped>\n",
       "    .dataframe tbody tr th:only-of-type {\n",
       "        vertical-align: middle;\n",
       "    }\n",
       "\n",
       "    .dataframe tbody tr th {\n",
       "        vertical-align: top;\n",
       "    }\n",
       "\n",
       "    .dataframe thead th {\n",
       "        text-align: right;\n",
       "    }\n",
       "</style>\n",
       "<table border=\"1\" class=\"dataframe\">\n",
       "  <thead>\n",
       "    <tr style=\"text-align: right;\">\n",
       "      <th></th>\n",
       "      <th>Short description</th>\n",
       "      <th>Description</th>\n",
       "      <th>Assignment group</th>\n",
       "      <th>nwords_short_description</th>\n",
       "      <th>nwords_description</th>\n",
       "      <th>final_description</th>\n",
       "    </tr>\n",
       "  </thead>\n",
       "  <tbody>\n",
       "    <tr>\n",
       "      <th>0</th>\n",
       "      <td>login issue</td>\n",
       "      <td>verified user detail employee manager name che...</td>\n",
       "      <td>GRP_0</td>\n",
       "      <td>2</td>\n",
       "      <td>29</td>\n",
       "      <td>login issue verified user detail employee mana...</td>\n",
       "    </tr>\n",
       "    <tr>\n",
       "      <th>1</th>\n",
       "      <td>outlook</td>\n",
       "      <td>hmjdrvpb komuaywn team meeting skype meeting e...</td>\n",
       "      <td>GRP_0</td>\n",
       "      <td>1</td>\n",
       "      <td>23</td>\n",
       "      <td>outlook hmjdrvpb komuaywn team meeting skype e...</td>\n",
       "    </tr>\n",
       "    <tr>\n",
       "      <th>2</th>\n",
       "      <td>cant log vpn</td>\n",
       "      <td>eylqgodm ybqkwiam cannot log vpn best</td>\n",
       "      <td>GRP_0</td>\n",
       "      <td>5</td>\n",
       "      <td>9</td>\n",
       "      <td>cant log vpn eylqgodm ybqkwiam cannot best</td>\n",
       "    </tr>\n",
       "    <tr>\n",
       "      <th>3</th>\n",
       "      <td>unable access hr tool page</td>\n",
       "      <td>unable access hr tool page</td>\n",
       "      <td>GRP_0</td>\n",
       "      <td>5</td>\n",
       "      <td>5</td>\n",
       "      <td>unable access hr tool page</td>\n",
       "    </tr>\n",
       "    <tr>\n",
       "      <th>4</th>\n",
       "      <td>skype error</td>\n",
       "      <td>skype error</td>\n",
       "      <td>GRP_0</td>\n",
       "      <td>3</td>\n",
       "      <td>3</td>\n",
       "      <td>skype error</td>\n",
       "    </tr>\n",
       "  </tbody>\n",
       "</table>\n",
       "</div>"
      ],
      "text/plain": [
       "            Short description  ...                                  final_description\n",
       "0                 login issue  ...  login issue verified user detail employee mana...\n",
       "1                     outlook  ...  outlook hmjdrvpb komuaywn team meeting skype e...\n",
       "2                cant log vpn  ...         cant log vpn eylqgodm ybqkwiam cannot best\n",
       "3  unable access hr tool page  ...                         unable access hr tool page\n",
       "4                 skype error  ...                                        skype error\n",
       "\n",
       "[5 rows x 6 columns]"
      ]
     },
     "execution_count": 50,
     "metadata": {
      "tags": []
     },
     "output_type": "execute_result"
    }
   ],
   "source": [
    "df.head()"
   ]
  },
  {
   "cell_type": "code",
   "execution_count": 51,
   "metadata": {
    "colab": {
     "base_uri": "https://localhost:8080/",
     "height": 121
    },
    "executionInfo": {
     "elapsed": 1124,
     "status": "ok",
     "timestamp": 1601104068894,
     "user": {
      "displayName": "raj priyan",
      "photoUrl": "https://lh3.googleusercontent.com/a-/AOh14GgZVW80EylFQ9L8-ITWkElw0wTMIIreVJQM-ATyrA=s64",
      "userId": "05111608225198986069"
     },
     "user_tz": -330
    },
    "id": "-ttGOPhGAtjV",
    "outputId": "acbe812e-04c7-4ba3-d391-d827f5ed2233"
   },
   "outputs": [
    {
     "data": {
      "text/plain": [
       "8495    email coming zz mail avglmrts vhqmtiua good af...\n",
       "8496                             telephony software issue\n",
       "8497              window password reset tifpdchb pedxruyf\n",
       "8498    machine n est funcionando unable access utilit...\n",
       "8499    mehreren pc lassen sich verschiedene prgramdnt...\n",
       "Name: final_description, dtype: object"
      ]
     },
     "execution_count": 51,
     "metadata": {
      "tags": []
     },
     "output_type": "execute_result"
    }
   ],
   "source": [
    "df['final_description'].tail()"
   ]
  },
  {
   "cell_type": "markdown",
   "metadata": {
    "id": "mQPlWXAMd6j1"
   },
   "source": [
    ">>>EDA"
   ]
  },
  {
   "cell_type": "code",
   "execution_count": 52,
   "metadata": {
    "colab": {
     "base_uri": "https://localhost:8080/",
     "height": 382
    },
    "executionInfo": {
     "elapsed": 1016,
     "status": "ok",
     "timestamp": 1601104072786,
     "user": {
      "displayName": "raj priyan",
      "photoUrl": "https://lh3.googleusercontent.com/a-/AOh14GgZVW80EylFQ9L8-ITWkElw0wTMIIreVJQM-ATyrA=s64",
      "userId": "05111608225198986069"
     },
     "user_tz": -330
    },
    "id": "ady_tIYx-b4p",
    "outputId": "6443f95d-8e08-4a27-fe70-1566ff73fef1"
   },
   "outputs": [
    {
     "data": {
      "text/plain": [
       "tool          1893\n",
       "company       1841\n",
       "please        1717\n",
       "erp           1082\n",
       "password      1056\n",
       "job           1028\n",
       "monitoring     983\n",
       "scheduler      969\n",
       "issue          969\n",
       "failed         880\n",
       "unable         879\n",
       "reset          862\n",
       "user           818\n",
       "email          747\n",
       "sid            734\n",
       "access         699\n",
       "error          690\n",
       "account        680\n",
       "need           659\n",
       "working        615\n",
       "dtype: int64"
      ]
     },
     "execution_count": 52,
     "metadata": {
      "tags": []
     },
     "output_type": "execute_result"
    }
   ],
   "source": [
    "### Most frequent words in short description\n",
    "most_freq_words = pd.Series(\" \".join(df[\"final_description\"]).split()).value_counts()\n",
    "most_freq_words.head(20)"
   ]
  },
  {
   "cell_type": "code",
   "execution_count": 53,
   "metadata": {
    "colab": {
     "base_uri": "https://localhost:8080/",
     "height": 208
    },
    "executionInfo": {
     "elapsed": 1296,
     "status": "ok",
     "timestamp": 1601104075349,
     "user": {
      "displayName": "raj priyan",
      "photoUrl": "https://lh3.googleusercontent.com/a-/AOh14GgZVW80EylFQ9L8-ITWkElw0wTMIIreVJQM-ATyrA=s64",
      "userId": "05111608225198986069"
     },
     "user_tz": -330
    },
    "id": "KaIUKZYBd9Cy",
    "outputId": "2997a03e-e3d8-4a0b-f30b-aa1dbc840b3c"
   },
   "outputs": [
    {
     "data": {
      "text/plain": [
       "fallowing           1\n",
       "hajghtdul           1\n",
       "bachsdadgtadw       1\n",
       "quarant             1\n",
       "promotion           1\n",
       "vvamirsdwnp         1\n",
       "vvspecmfrt          1\n",
       "thry                1\n",
       "gzawrocy            1\n",
       "investmentantrag    1\n",
       "dtype: int64"
      ]
     },
     "execution_count": 53,
     "metadata": {
      "tags": []
     },
     "output_type": "execute_result"
    }
   ],
   "source": [
    "### Least frequent words in short description\n",
    "least_freq_words =  pd.Series(\" \".join(df[\"final_description\"]).split()).value_counts().sort_values(ascending = True)\n",
    "least_freq_words.head(10)"
   ]
  },
  {
   "cell_type": "code",
   "execution_count": 54,
   "metadata": {
    "executionInfo": {
     "elapsed": 833,
     "status": "ok",
     "timestamp": 1601104076806,
     "user": {
      "displayName": "raj priyan",
      "photoUrl": "https://lh3.googleusercontent.com/a-/AOh14GgZVW80EylFQ9L8-ITWkElw0wTMIIreVJQM-ATyrA=s64",
      "userId": "05111608225198986069"
     },
     "user_tz": -330
    },
    "id": "L1ooaNnFd-1N"
   },
   "outputs": [],
   "source": [
    "# Tokenize\n",
    "from nltk import word_tokenize,sent_tokenize"
   ]
  },
  {
   "cell_type": "code",
   "execution_count": 55,
   "metadata": {
    "colab": {
     "base_uri": "https://localhost:8080/",
     "height": 69
    },
    "executionInfo": {
     "elapsed": 2142,
     "status": "ok",
     "timestamp": 1601104080357,
     "user": {
      "displayName": "raj priyan",
      "photoUrl": "https://lh3.googleusercontent.com/a-/AOh14GgZVW80EylFQ9L8-ITWkElw0wTMIIreVJQM-ATyrA=s64",
      "userId": "05111608225198986069"
     },
     "user_tz": -330
    },
    "id": "72w6hqRLeBo7",
    "outputId": "98e1b5a0-6d66-4775-d6ad-64b32faee858"
   },
   "outputs": [
    {
     "name": "stdout",
     "output_type": "stream",
     "text": [
      "[nltk_data] Downloading package punkt to /root/nltk_data...\n",
      "[nltk_data]   Unzipping tokenizers/punkt.zip.\n"
     ]
    },
    {
     "data": {
      "text/plain": [
       "True"
      ]
     },
     "execution_count": 55,
     "metadata": {
      "tags": []
     },
     "output_type": "execute_result"
    }
   ],
   "source": [
    "import nltk\n",
    "nltk.download('punkt')"
   ]
  },
  {
   "cell_type": "code",
   "execution_count": 56,
   "metadata": {
    "colab": {
     "base_uri": "https://localhost:8080/",
     "height": 225
    },
    "executionInfo": {
     "elapsed": 2673,
     "status": "ok",
     "timestamp": 1601104084003,
     "user": {
      "displayName": "raj priyan",
      "photoUrl": "https://lh3.googleusercontent.com/a-/AOh14GgZVW80EylFQ9L8-ITWkElw0wTMIIreVJQM-ATyrA=s64",
      "userId": "05111608225198986069"
     },
     "user_tz": -330
    },
    "id": "0wyM5-iveDF0",
    "outputId": "e0ec2b5e-7b8c-4420-9435-80e6839c6f87"
   },
   "outputs": [
    {
     "data": {
      "text/plain": [
       "0       [login, issue, verified, user, detail, employe...\n",
       "1       [outlook, hmjdrvpb, komuaywn, team, meeting, s...\n",
       "2       [cant, log, vpn, eylqgodm, ybqkwiam, can, not,...\n",
       "3                        [unable, access, hr, tool, page]\n",
       "4                                          [skype, error]\n",
       "                              ...                        \n",
       "8495    [email, coming, zz, mail, avglmrts, vhqmtiua, ...\n",
       "8496                         [telephony, software, issue]\n",
       "8497        [window, password, reset, tifpdchb, pedxruyf]\n",
       "8498    [machine, n, est, funcionando, unable, access,...\n",
       "8499    [mehreren, pc, lassen, sich, verschiedene, prg...\n",
       "Name: final_description, Length: 8500, dtype: object"
      ]
     },
     "execution_count": 56,
     "metadata": {
      "tags": []
     },
     "output_type": "execute_result"
    }
   ],
   "source": [
    "df[\"final_description\"].apply(lambda x: word_tokenize(x))"
   ]
  },
  {
   "cell_type": "code",
   "execution_count": 57,
   "metadata": {
    "colab": {
     "base_uri": "https://localhost:8080/",
     "height": 464
    },
    "executionInfo": {
     "elapsed": 1794,
     "status": "ok",
     "timestamp": 1601104087029,
     "user": {
      "displayName": "raj priyan",
      "photoUrl": "https://lh3.googleusercontent.com/a-/AOh14GgZVW80EylFQ9L8-ITWkElw0wTMIIreVJQM-ATyrA=s64",
      "userId": "05111608225198986069"
     },
     "user_tz": -330
    },
    "id": "0pRj-sQueE59",
    "outputId": "b7d77765-ef9c-4b4f-842b-90661d11cb82"
   },
   "outputs": [
    {
     "data": {
      "image/png": "[encoded data removed]",
      "text/plain": [
       "<Figure size 1080x504 with 1 Axes>"
      ]
     },
     "metadata": {
      "tags": []
     },
     "output_type": "display_data"
    }
   ],
   "source": [
    "### Analyzing top 20 frequent words\n",
    "\n",
    "plt.figure(figsize = (15,7))\n",
    "sd_freq_plot = most_freq_words.head(20).sort_values(ascending = True).plot(kind=\"barh\",title = \"Top 20 Frequent Number Of Words\")\n",
    "\n",
    "plt.style.use(\"ggplot\")\n",
    "sd_freq_plot.set_xlabel(\"Frequency\")\n",
    "sd_freq_plot.set_ylabel(\"Terms\")\n",
    "\n",
    "totals = []\n",
    "for i in sd_freq_plot.patches:\n",
    "    totals.append(i.get_width())\n",
    "\n",
    "for i in sd_freq_plot.patches:\n",
    "    sd_freq_plot.text(i.get_width()+.3,i.get_y()+0.1,str(i.get_width()),fontsize = 8,color= 'black')\n",
    "    "
   ]
  },
  {
   "cell_type": "markdown",
   "metadata": {
    "id": "WLrX8_3qeJbj"
   },
   "source": [
    "Bigrams"
   ]
  },
  {
   "cell_type": "code",
   "execution_count": 58,
   "metadata": {
    "colab": {
     "base_uri": "https://localhost:8080/",
     "height": 69
    },
    "executionInfo": {
     "elapsed": 4599,
     "status": "ok",
     "timestamp": 1601104093204,
     "user": {
      "displayName": "raj priyan",
      "photoUrl": "https://lh3.googleusercontent.com/a-/AOh14GgZVW80EylFQ9L8-ITWkElw0wTMIIreVJQM-ATyrA=s64",
      "userId": "05111608225198986069"
     },
     "user_tz": -330
    },
    "id": "73stVC79eQLO",
    "outputId": "369cf549-1ef3-403f-99d3-898fe98bba91"
   },
   "outputs": [
    {
     "name": "stdout",
     "output_type": "stream",
     "text": [
      "Requirement already satisfied: TextBlob in /usr/local/lib/python3.6/dist-packages (0.15.3)\n",
      "Requirement already satisfied: nltk>=3.1 in /usr/local/lib/python3.6/dist-packages (from TextBlob) (3.2.5)\n",
      "Requirement already satisfied: six in /usr/local/lib/python3.6/dist-packages (from nltk>=3.1->TextBlob) (1.15.0)\n"
     ]
    }
   ],
   "source": [
    "pip install TextBlob"
   ]
  },
  {
   "cell_type": "code",
   "execution_count": 59,
   "metadata": {
    "executionInfo": {
     "elapsed": 4546,
     "status": "ok",
     "timestamp": 1601104098429,
     "user": {
      "displayName": "raj priyan",
      "photoUrl": "https://lh3.googleusercontent.com/a-/AOh14GgZVW80EylFQ9L8-ITWkElw0wTMIIreVJQM-ATyrA=s64",
      "userId": "05111608225198986069"
     },
     "user_tz": -330
    },
    "id": "LNqBLn7seG8H"
   },
   "outputs": [],
   "source": [
    "# creating bigrams\n",
    "from textblob import TextBlob\n",
    "bigrams = TextBlob(\" \".join(df[\"final_description\"])).ngrams(2)"
   ]
  },
  {
   "cell_type": "code",
   "execution_count": 60,
   "metadata": {
    "executionInfo": {
     "elapsed": 8337,
     "status": "ok",
     "timestamp": 1601104107478,
     "user": {
      "displayName": "raj priyan",
      "photoUrl": "https://lh3.googleusercontent.com/a-/AOh14GgZVW80EylFQ9L8-ITWkElw0wTMIIreVJQM-ATyrA=s64",
      "userId": "05111608225198986069"
     },
     "user_tz": -330
    },
    "id": "wTJqA5HieMd0"
   },
   "outputs": [],
   "source": [
    "from sklearn.feature_extraction.text import CountVectorizer\n",
    "word_vectorizer = CountVectorizer(ngram_range=(2,2), analyzer='word')\n",
    "sparse_matrix = word_vectorizer.fit_transform(df[\"final_description\"])\n",
    "frequencies = sum(sparse_matrix).toarray()[0]\n",
    "bi_grams_df = pd.DataFrame(frequencies, index=word_vectorizer.get_feature_names(), columns=['frequency'])"
   ]
  },
  {
   "cell_type": "code",
   "execution_count": 61,
   "metadata": {
    "colab": {
     "base_uri": "https://localhost:8080/",
     "height": 677
    },
    "executionInfo": {
     "elapsed": 1357,
     "status": "ok",
     "timestamp": 1601104111747,
     "user": {
      "displayName": "raj priyan",
      "photoUrl": "https://lh3.googleusercontent.com/a-/AOh14GgZVW80EylFQ9L8-ITWkElw0wTMIIreVJQM-ATyrA=s64",
      "userId": "05111608225198986069"
     },
     "user_tz": -330
    },
    "id": "uEbvuvq0ePOi",
    "outputId": "db6473eb-c3f4-49a8-86b0-55f92ef1b4dc"
   },
   "outputs": [
    {
     "data": {
      "text/html": [
       "<div>\n",
       "<style scoped>\n",
       "    .dataframe tbody tr th:only-of-type {\n",
       "        vertical-align: middle;\n",
       "    }\n",
       "\n",
       "    .dataframe tbody tr th {\n",
       "        vertical-align: top;\n",
       "    }\n",
       "\n",
       "    .dataframe thead th {\n",
       "        text-align: right;\n",
       "    }\n",
       "</style>\n",
       "<table border=\"1\" class=\"dataframe\">\n",
       "  <thead>\n",
       "    <tr style=\"text-align: right;\">\n",
       "      <th></th>\n",
       "      <th>frequency</th>\n",
       "    </tr>\n",
       "  </thead>\n",
       "  <tbody>\n",
       "    <tr>\n",
       "      <th>monitoring tool</th>\n",
       "      <td>919</td>\n",
       "    </tr>\n",
       "    <tr>\n",
       "      <th>tool company</th>\n",
       "      <td>909</td>\n",
       "    </tr>\n",
       "    <tr>\n",
       "      <th>scheduler monitoring</th>\n",
       "      <td>889</td>\n",
       "    </tr>\n",
       "    <tr>\n",
       "      <th>failed scheduler</th>\n",
       "      <td>809</td>\n",
       "    </tr>\n",
       "    <tr>\n",
       "      <th>job failed</th>\n",
       "      <td>476</td>\n",
       "    </tr>\n",
       "    <tr>\n",
       "      <th>password reset</th>\n",
       "      <td>346</td>\n",
       "    </tr>\n",
       "    <tr>\n",
       "      <th>erp sid</th>\n",
       "      <td>299</td>\n",
       "    </tr>\n",
       "    <tr>\n",
       "      <th>reset password</th>\n",
       "      <td>237</td>\n",
       "    </tr>\n",
       "    <tr>\n",
       "      <th>engineering tool</th>\n",
       "      <td>214</td>\n",
       "    </tr>\n",
       "    <tr>\n",
       "      <th>cid png</th>\n",
       "      <td>212</td>\n",
       "    </tr>\n",
       "    <tr>\n",
       "      <th>management tool</th>\n",
       "      <td>211</td>\n",
       "    </tr>\n",
       "    <tr>\n",
       "      <th>account locked</th>\n",
       "      <td>206</td>\n",
       "    </tr>\n",
       "    <tr>\n",
       "      <th>please help</th>\n",
       "      <td>193</td>\n",
       "    </tr>\n",
       "    <tr>\n",
       "      <th>collaboration platform</th>\n",
       "      <td>186</td>\n",
       "    </tr>\n",
       "    <tr>\n",
       "      <th>internet explorer</th>\n",
       "      <td>184</td>\n",
       "    </tr>\n",
       "    <tr>\n",
       "      <th>language browser</th>\n",
       "      <td>167</td>\n",
       "    </tr>\n",
       "    <tr>\n",
       "      <th>browser microsoft</th>\n",
       "      <td>167</td>\n",
       "    </tr>\n",
       "    <tr>\n",
       "      <th>telephone summary</th>\n",
       "      <td>167</td>\n",
       "    </tr>\n",
       "    <tr>\n",
       "      <th>microsoft internet</th>\n",
       "      <td>166</td>\n",
       "    </tr>\n",
       "    <tr>\n",
       "      <th>customer number</th>\n",
       "      <td>166</td>\n",
       "    </tr>\n",
       "  </tbody>\n",
       "</table>\n",
       "</div>"
      ],
      "text/plain": [
       "                        frequency\n",
       "monitoring tool               919\n",
       "tool company                  909\n",
       "scheduler monitoring          889\n",
       "failed scheduler              809\n",
       "job failed                    476\n",
       "password reset                346\n",
       "erp sid                       299\n",
       "reset password                237\n",
       "engineering tool              214\n",
       "cid png                       212\n",
       "management tool               211\n",
       "account locked                206\n",
       "please help                   193\n",
       "collaboration platform        186\n",
       "internet explorer             184\n",
       "language browser              167\n",
       "browser microsoft             167\n",
       "telephone summary             167\n",
       "microsoft internet            166\n",
       "customer number               166"
      ]
     },
     "execution_count": 61,
     "metadata": {
      "tags": []
     },
     "output_type": "execute_result"
    }
   ],
   "source": [
    "bi_grams_df.sort_values(by = \"frequency\",ascending=False).head(20)"
   ]
  },
  {
   "cell_type": "code",
   "execution_count": 62,
   "metadata": {
    "colab": {
     "base_uri": "https://localhost:8080/",
     "height": 482
    },
    "executionInfo": {
     "elapsed": 1756,
     "status": "ok",
     "timestamp": 1601104114431,
     "user": {
      "displayName": "raj priyan",
      "photoUrl": "https://lh3.googleusercontent.com/a-/AOh14GgZVW80EylFQ9L8-ITWkElw0wTMIIreVJQM-ATyrA=s64",
      "userId": "05111608225198986069"
     },
     "user_tz": -330
    },
    "id": "mb7AqO8seVvO",
    "outputId": "3646c7e3-2e32-48f5-8fbf-dd88c37d8d33"
   },
   "outputs": [
    {
     "data": {
      "text/plain": [
       "<matplotlib.axes._subplots.AxesSubplot at 0x7fab7a7b5a58>"
      ]
     },
     "execution_count": 62,
     "metadata": {
      "tags": []
     },
     "output_type": "execute_result"
    },
    {
     "data": {
      "image/png": "[encoded data removed]",
      "text/plain": [
       "<Figure size 1080x504 with 1 Axes>"
      ]
     },
     "metadata": {
      "tags": []
     },
     "output_type": "display_data"
    }
   ],
   "source": [
    "### Analyzing top 20 frequent BI Gram words\n",
    "plt.figure(figsize = (15,7))\n",
    "plt.style.use(\"ggplot\")\n",
    "plt.xlabel(\"Frequency\",)\n",
    "plt.ylabel(\"Terms\")\n",
    "top20_bigrams = bi_grams_df[\"frequency\"].sort_values(ascending = False).head(20)\n",
    "\n",
    "top20_bigrams.head(20).sort_values(ascending = True).plot(kind=\"barh\",title = \"Top 20 Frequent Bi Grams\")"
   ]
  },
  {
   "cell_type": "markdown",
   "metadata": {
    "id": "K7y4G4UvebMS"
   },
   "source": [
    "\n",
    "Creating Document Term Matrix"
   ]
  },
  {
   "cell_type": "code",
   "execution_count": 63,
   "metadata": {
    "colab": {
     "base_uri": "https://localhost:8080/",
     "height": 238
    },
    "executionInfo": {
     "elapsed": 1412,
     "status": "ok",
     "timestamp": 1601104117722,
     "user": {
      "displayName": "raj priyan",
      "photoUrl": "https://lh3.googleusercontent.com/a-/AOh14GgZVW80EylFQ9L8-ITWkElw0wTMIIreVJQM-ATyrA=s64",
      "userId": "05111608225198986069"
     },
     "user_tz": -330
    },
    "id": "G0vRGwESeXSz",
    "outputId": "3ca465a2-1800-41c2-ce7e-889b27e2deab"
   },
   "outputs": [
    {
     "data": {
      "text/html": [
       "<div>\n",
       "<style scoped>\n",
       "    .dataframe tbody tr th:only-of-type {\n",
       "        vertical-align: middle;\n",
       "    }\n",
       "\n",
       "    .dataframe tbody tr th {\n",
       "        vertical-align: top;\n",
       "    }\n",
       "\n",
       "    .dataframe thead th {\n",
       "        text-align: right;\n",
       "    }\n",
       "</style>\n",
       "<table border=\"1\" class=\"dataframe\">\n",
       "  <thead>\n",
       "    <tr style=\"text-align: right;\">\n",
       "      <th></th>\n",
       "      <th>final_description</th>\n",
       "    </tr>\n",
       "    <tr>\n",
       "      <th>Assignment group</th>\n",
       "      <th></th>\n",
       "    </tr>\n",
       "  </thead>\n",
       "  <tbody>\n",
       "    <tr>\n",
       "      <th>GRP_0</th>\n",
       "      <td>login issue verified user detail employee mana...</td>\n",
       "    </tr>\n",
       "    <tr>\n",
       "      <th>GRP_1</th>\n",
       "      <td>event critical hostname company value mountpoi...</td>\n",
       "    </tr>\n",
       "    <tr>\n",
       "      <th>GRP_10</th>\n",
       "      <td>job hr payroll na failed scheduler monitoring ...</td>\n",
       "    </tr>\n",
       "    <tr>\n",
       "      <th>GRP_11</th>\n",
       "      <td>engineering tool drawing original pdf format s...</td>\n",
       "    </tr>\n",
       "    <tr>\n",
       "      <th>GRP_12</th>\n",
       "      <td>c label sys server space consumed available g ...</td>\n",
       "    </tr>\n",
       "  </tbody>\n",
       "</table>\n",
       "</div>"
      ],
      "text/plain": [
       "                                                  final_description\n",
       "Assignment group                                                   \n",
       "GRP_0             login issue verified user detail employee mana...\n",
       "GRP_1             event critical hostname company value mountpoi...\n",
       "GRP_10            job hr payroll na failed scheduler monitoring ...\n",
       "GRP_11            engineering tool drawing original pdf format s...\n",
       "GRP_12            c label sys server space consumed available g ..."
      ]
     },
     "execution_count": 63,
     "metadata": {
      "tags": []
     },
     "output_type": "execute_result"
    }
   ],
   "source": [
    "df_grouped=df[['Assignment group','final_description']].groupby(by='Assignment group').agg(lambda x:' '.join(x))\n",
    "df_grouped.head()"
   ]
  },
  {
   "cell_type": "code",
   "execution_count": 64,
   "metadata": {
    "colab": {
     "base_uri": "https://localhost:8080/",
     "height": 242
    },
    "executionInfo": {
     "elapsed": 1386,
     "status": "ok",
     "timestamp": 1601104120509,
     "user": {
      "displayName": "raj priyan",
      "photoUrl": "https://lh3.googleusercontent.com/a-/AOh14GgZVW80EylFQ9L8-ITWkElw0wTMIIreVJQM-ATyrA=s64",
      "userId": "05111608225198986069"
     },
     "user_tz": -330
    },
    "id": "eTtAoMAbeeU0",
    "outputId": "ede142bc-aba7-4e4f-c5b4-09230012066f"
   },
   "outputs": [
    {
     "data": {
      "text/html": [
       "<div>\n",
       "<style scoped>\n",
       "    .dataframe tbody tr th:only-of-type {\n",
       "        vertical-align: middle;\n",
       "    }\n",
       "\n",
       "    .dataframe tbody tr th {\n",
       "        vertical-align: top;\n",
       "    }\n",
       "\n",
       "    .dataframe thead th {\n",
       "        text-align: right;\n",
       "    }\n",
       "</style>\n",
       "<table border=\"1\" class=\"dataframe\">\n",
       "  <thead>\n",
       "    <tr style=\"text-align: right;\">\n",
       "      <th></th>\n",
       "      <th>aa</th>\n",
       "      <th>aacount</th>\n",
       "      <th>aao</th>\n",
       "      <th>ab</th>\n",
       "      <th>abandon</th>\n",
       "      <th>abap</th>\n",
       "      <th>abarbeiten</th>\n",
       "      <th>abc</th>\n",
       "      <th>abca</th>\n",
       "      <th>abcdegy</th>\n",
       "      <th>abcdri</th>\n",
       "      <th>abd</th>\n",
       "      <th>abdhtyu</th>\n",
       "      <th>abend</th>\n",
       "      <th>abended</th>\n",
       "      <th>abeoucfj</th>\n",
       "      <th>aber</th>\n",
       "      <th>abertura</th>\n",
       "      <th>abfragetimeout</th>\n",
       "      <th>abgebildet</th>\n",
       "      <th>abgebrochen</th>\n",
       "      <th>abgelaufen</th>\n",
       "      <th>abgeschlossen</th>\n",
       "      <th>abgesprochen</th>\n",
       "      <th>abgrtyreu</th>\n",
       "      <th>abhanden</th>\n",
       "      <th>abhandengekommen</th>\n",
       "      <th>abhay</th>\n",
       "      <th>abhilfe</th>\n",
       "      <th>abholen</th>\n",
       "      <th>abholung</th>\n",
       "      <th>ability</th>\n",
       "      <th>abl</th>\n",
       "      <th>able</th>\n",
       "      <th>abmelden</th>\n",
       "      <th>abode</th>\n",
       "      <th>abort</th>\n",
       "      <th>aborted</th>\n",
       "      <th>aborting</th>\n",
       "      <th>abovementioned</th>\n",
       "      <th>...</th>\n",
       "      <th>zuothryrt</th>\n",
       "      <th>zupifghd</th>\n",
       "      <th>zur</th>\n",
       "      <th>zurtxjbd</th>\n",
       "      <th>zurzeit</th>\n",
       "      <th>zusammen</th>\n",
       "      <th>zuschaltung</th>\n",
       "      <th>zuspjbtw</th>\n",
       "      <th>zust</th>\n",
       "      <th>zuteillisten</th>\n",
       "      <th>zuvjqgwa</th>\n",
       "      <th>zuvor</th>\n",
       "      <th>zuwhpqrc</th>\n",
       "      <th>zuwnxdbt</th>\n",
       "      <th>zuxcfonv</th>\n",
       "      <th>zuyimtsf</th>\n",
       "      <th>zvjwleuo</th>\n",
       "      <th>zvjxuahe</th>\n",
       "      <th>zvmesjpt</th>\n",
       "      <th>zvnxlobq</th>\n",
       "      <th>zvygmnco</th>\n",
       "      <th>zw</th>\n",
       "      <th>zwar</th>\n",
       "      <th>zwei</th>\n",
       "      <th>zweites</th>\n",
       "      <th>zwip</th>\n",
       "      <th>zwirhcol</th>\n",
       "      <th>zwischen</th>\n",
       "      <th>zwrypjqv</th>\n",
       "      <th>zwutmehy</th>\n",
       "      <th>zwwirep</th>\n",
       "      <th>zxdtskpw</th>\n",
       "      <th>zxobmreq</th>\n",
       "      <th>zxvjsipd</th>\n",
       "      <th>zyewibop</th>\n",
       "      <th>zyjfpgtk</th>\n",
       "      <th>zyrnqiav</th>\n",
       "      <th>zywoxerf</th>\n",
       "      <th>zz</th>\n",
       "      <th>zzcmpgn</th>\n",
       "    </tr>\n",
       "    <tr>\n",
       "      <th>Assignment group</th>\n",
       "      <th></th>\n",
       "      <th></th>\n",
       "      <th></th>\n",
       "      <th></th>\n",
       "      <th></th>\n",
       "      <th></th>\n",
       "      <th></th>\n",
       "      <th></th>\n",
       "      <th></th>\n",
       "      <th></th>\n",
       "      <th></th>\n",
       "      <th></th>\n",
       "      <th></th>\n",
       "      <th></th>\n",
       "      <th></th>\n",
       "      <th></th>\n",
       "      <th></th>\n",
       "      <th></th>\n",
       "      <th></th>\n",
       "      <th></th>\n",
       "      <th></th>\n",
       "      <th></th>\n",
       "      <th></th>\n",
       "      <th></th>\n",
       "      <th></th>\n",
       "      <th></th>\n",
       "      <th></th>\n",
       "      <th></th>\n",
       "      <th></th>\n",
       "      <th></th>\n",
       "      <th></th>\n",
       "      <th></th>\n",
       "      <th></th>\n",
       "      <th></th>\n",
       "      <th></th>\n",
       "      <th></th>\n",
       "      <th></th>\n",
       "      <th></th>\n",
       "      <th></th>\n",
       "      <th></th>\n",
       "      <th></th>\n",
       "      <th></th>\n",
       "      <th></th>\n",
       "      <th></th>\n",
       "      <th></th>\n",
       "      <th></th>\n",
       "      <th></th>\n",
       "      <th></th>\n",
       "      <th></th>\n",
       "      <th></th>\n",
       "      <th></th>\n",
       "      <th></th>\n",
       "      <th></th>\n",
       "      <th></th>\n",
       "      <th></th>\n",
       "      <th></th>\n",
       "      <th></th>\n",
       "      <th></th>\n",
       "      <th></th>\n",
       "      <th></th>\n",
       "      <th></th>\n",
       "      <th></th>\n",
       "      <th></th>\n",
       "      <th></th>\n",
       "      <th></th>\n",
       "      <th></th>\n",
       "      <th></th>\n",
       "      <th></th>\n",
       "      <th></th>\n",
       "      <th></th>\n",
       "      <th></th>\n",
       "      <th></th>\n",
       "      <th></th>\n",
       "      <th></th>\n",
       "      <th></th>\n",
       "      <th></th>\n",
       "      <th></th>\n",
       "      <th></th>\n",
       "      <th></th>\n",
       "      <th></th>\n",
       "      <th></th>\n",
       "    </tr>\n",
       "  </thead>\n",
       "  <tbody>\n",
       "    <tr>\n",
       "      <th>GRP_0</th>\n",
       "      <td>0</td>\n",
       "      <td>0</td>\n",
       "      <td>0</td>\n",
       "      <td>1</td>\n",
       "      <td>0</td>\n",
       "      <td>2</td>\n",
       "      <td>0</td>\n",
       "      <td>1</td>\n",
       "      <td>0</td>\n",
       "      <td>0</td>\n",
       "      <td>1</td>\n",
       "      <td>1</td>\n",
       "      <td>2</td>\n",
       "      <td>0</td>\n",
       "      <td>0</td>\n",
       "      <td>1</td>\n",
       "      <td>7</td>\n",
       "      <td>0</td>\n",
       "      <td>0</td>\n",
       "      <td>0</td>\n",
       "      <td>1</td>\n",
       "      <td>0</td>\n",
       "      <td>1</td>\n",
       "      <td>0</td>\n",
       "      <td>1</td>\n",
       "      <td>1</td>\n",
       "      <td>0</td>\n",
       "      <td>0</td>\n",
       "      <td>2</td>\n",
       "      <td>0</td>\n",
       "      <td>0</td>\n",
       "      <td>1</td>\n",
       "      <td>1</td>\n",
       "      <td>260</td>\n",
       "      <td>0</td>\n",
       "      <td>0</td>\n",
       "      <td>0</td>\n",
       "      <td>0</td>\n",
       "      <td>0</td>\n",
       "      <td>0</td>\n",
       "      <td>...</td>\n",
       "      <td>1</td>\n",
       "      <td>0</td>\n",
       "      <td>9</td>\n",
       "      <td>0</td>\n",
       "      <td>1</td>\n",
       "      <td>4</td>\n",
       "      <td>1</td>\n",
       "      <td>2</td>\n",
       "      <td>0</td>\n",
       "      <td>1</td>\n",
       "      <td>0</td>\n",
       "      <td>0</td>\n",
       "      <td>3</td>\n",
       "      <td>0</td>\n",
       "      <td>7</td>\n",
       "      <td>0</td>\n",
       "      <td>0</td>\n",
       "      <td>0</td>\n",
       "      <td>0</td>\n",
       "      <td>1</td>\n",
       "      <td>1</td>\n",
       "      <td>0</td>\n",
       "      <td>1</td>\n",
       "      <td>1</td>\n",
       "      <td>0</td>\n",
       "      <td>0</td>\n",
       "      <td>3</td>\n",
       "      <td>1</td>\n",
       "      <td>0</td>\n",
       "      <td>0</td>\n",
       "      <td>0</td>\n",
       "      <td>1</td>\n",
       "      <td>4</td>\n",
       "      <td>1</td>\n",
       "      <td>0</td>\n",
       "      <td>0</td>\n",
       "      <td>1</td>\n",
       "      <td>5</td>\n",
       "      <td>1</td>\n",
       "      <td>0</td>\n",
       "    </tr>\n",
       "    <tr>\n",
       "      <th>GRP_1</th>\n",
       "      <td>0</td>\n",
       "      <td>0</td>\n",
       "      <td>0</td>\n",
       "      <td>0</td>\n",
       "      <td>0</td>\n",
       "      <td>0</td>\n",
       "      <td>0</td>\n",
       "      <td>0</td>\n",
       "      <td>0</td>\n",
       "      <td>0</td>\n",
       "      <td>0</td>\n",
       "      <td>0</td>\n",
       "      <td>0</td>\n",
       "      <td>0</td>\n",
       "      <td>1</td>\n",
       "      <td>0</td>\n",
       "      <td>0</td>\n",
       "      <td>0</td>\n",
       "      <td>0</td>\n",
       "      <td>0</td>\n",
       "      <td>0</td>\n",
       "      <td>0</td>\n",
       "      <td>0</td>\n",
       "      <td>0</td>\n",
       "      <td>0</td>\n",
       "      <td>0</td>\n",
       "      <td>0</td>\n",
       "      <td>0</td>\n",
       "      <td>0</td>\n",
       "      <td>0</td>\n",
       "      <td>0</td>\n",
       "      <td>0</td>\n",
       "      <td>0</td>\n",
       "      <td>0</td>\n",
       "      <td>0</td>\n",
       "      <td>0</td>\n",
       "      <td>0</td>\n",
       "      <td>0</td>\n",
       "      <td>0</td>\n",
       "      <td>0</td>\n",
       "      <td>...</td>\n",
       "      <td>0</td>\n",
       "      <td>0</td>\n",
       "      <td>0</td>\n",
       "      <td>0</td>\n",
       "      <td>0</td>\n",
       "      <td>0</td>\n",
       "      <td>0</td>\n",
       "      <td>0</td>\n",
       "      <td>0</td>\n",
       "      <td>0</td>\n",
       "      <td>0</td>\n",
       "      <td>0</td>\n",
       "      <td>0</td>\n",
       "      <td>0</td>\n",
       "      <td>0</td>\n",
       "      <td>0</td>\n",
       "      <td>0</td>\n",
       "      <td>0</td>\n",
       "      <td>0</td>\n",
       "      <td>0</td>\n",
       "      <td>0</td>\n",
       "      <td>0</td>\n",
       "      <td>0</td>\n",
       "      <td>0</td>\n",
       "      <td>0</td>\n",
       "      <td>0</td>\n",
       "      <td>0</td>\n",
       "      <td>0</td>\n",
       "      <td>0</td>\n",
       "      <td>0</td>\n",
       "      <td>0</td>\n",
       "      <td>0</td>\n",
       "      <td>0</td>\n",
       "      <td>0</td>\n",
       "      <td>0</td>\n",
       "      <td>0</td>\n",
       "      <td>0</td>\n",
       "      <td>0</td>\n",
       "      <td>0</td>\n",
       "      <td>0</td>\n",
       "    </tr>\n",
       "    <tr>\n",
       "      <th>GRP_10</th>\n",
       "      <td>0</td>\n",
       "      <td>1</td>\n",
       "      <td>0</td>\n",
       "      <td>0</td>\n",
       "      <td>0</td>\n",
       "      <td>0</td>\n",
       "      <td>0</td>\n",
       "      <td>0</td>\n",
       "      <td>0</td>\n",
       "      <td>0</td>\n",
       "      <td>0</td>\n",
       "      <td>0</td>\n",
       "      <td>0</td>\n",
       "      <td>0</td>\n",
       "      <td>2</td>\n",
       "      <td>0</td>\n",
       "      <td>0</td>\n",
       "      <td>0</td>\n",
       "      <td>0</td>\n",
       "      <td>0</td>\n",
       "      <td>0</td>\n",
       "      <td>0</td>\n",
       "      <td>0</td>\n",
       "      <td>0</td>\n",
       "      <td>0</td>\n",
       "      <td>0</td>\n",
       "      <td>0</td>\n",
       "      <td>0</td>\n",
       "      <td>0</td>\n",
       "      <td>0</td>\n",
       "      <td>0</td>\n",
       "      <td>0</td>\n",
       "      <td>0</td>\n",
       "      <td>1</td>\n",
       "      <td>0</td>\n",
       "      <td>0</td>\n",
       "      <td>0</td>\n",
       "      <td>0</td>\n",
       "      <td>0</td>\n",
       "      <td>0</td>\n",
       "      <td>...</td>\n",
       "      <td>0</td>\n",
       "      <td>0</td>\n",
       "      <td>0</td>\n",
       "      <td>0</td>\n",
       "      <td>0</td>\n",
       "      <td>0</td>\n",
       "      <td>0</td>\n",
       "      <td>0</td>\n",
       "      <td>0</td>\n",
       "      <td>0</td>\n",
       "      <td>1</td>\n",
       "      <td>0</td>\n",
       "      <td>0</td>\n",
       "      <td>0</td>\n",
       "      <td>0</td>\n",
       "      <td>0</td>\n",
       "      <td>0</td>\n",
       "      <td>0</td>\n",
       "      <td>0</td>\n",
       "      <td>0</td>\n",
       "      <td>0</td>\n",
       "      <td>0</td>\n",
       "      <td>0</td>\n",
       "      <td>0</td>\n",
       "      <td>0</td>\n",
       "      <td>0</td>\n",
       "      <td>0</td>\n",
       "      <td>0</td>\n",
       "      <td>0</td>\n",
       "      <td>0</td>\n",
       "      <td>0</td>\n",
       "      <td>0</td>\n",
       "      <td>0</td>\n",
       "      <td>0</td>\n",
       "      <td>0</td>\n",
       "      <td>0</td>\n",
       "      <td>0</td>\n",
       "      <td>0</td>\n",
       "      <td>0</td>\n",
       "      <td>0</td>\n",
       "    </tr>\n",
       "  </tbody>\n",
       "</table>\n",
       "<p>3 rows × 13683 columns</p>\n",
       "</div>"
      ],
      "text/plain": [
       "                  aa  aacount  aao  ab  ...  zyrnqiav  zywoxerf  zz  zzcmpgn\n",
       "Assignment group                        ...                                 \n",
       "GRP_0              0        0    0   1  ...         1         5   1        0\n",
       "GRP_1              0        0    0   0  ...         0         0   0        0\n",
       "GRP_10             0        1    0   0  ...         0         0   0        0\n",
       "\n",
       "[3 rows x 13683 columns]"
      ]
     },
     "execution_count": 64,
     "metadata": {
      "tags": []
     },
     "output_type": "execute_result"
    }
   ],
   "source": [
    "# Creating Document Term Matrix\n",
    "from sklearn.feature_extraction.text import CountVectorizer\n",
    "cv=CountVectorizer(analyzer='word')\n",
    "data=cv.fit_transform(df_grouped['final_description'])\n",
    "df_dtm = pd.DataFrame(data.toarray(), columns=cv.get_feature_names())\n",
    "df_dtm.index=df_grouped.index\n",
    "df_dtm.head(3)"
   ]
  },
  {
   "cell_type": "code",
   "execution_count": 65,
   "metadata": {
    "colab": {
     "base_uri": "https://localhost:8080/",
     "height": 69
    },
    "executionInfo": {
     "elapsed": 3697,
     "status": "ok",
     "timestamp": 1601104125063,
     "user": {
      "displayName": "raj priyan",
      "photoUrl": "https://lh3.googleusercontent.com/a-/AOh14GgZVW80EylFQ9L8-ITWkElw0wTMIIreVJQM-ATyrA=s64",
      "userId": "05111608225198986069"
     },
     "user_tz": -330
    },
    "id": "SSwXnWzNegA5",
    "outputId": "ccbc36ba-3dad-4926-f463-b30c76ccde82"
   },
   "outputs": [
    {
     "name": "stdout",
     "output_type": "stream",
     "text": [
      "Requirement already satisfied: wordcloud in /usr/local/lib/python3.6/dist-packages (1.5.0)\n",
      "Requirement already satisfied: pillow in /usr/local/lib/python3.6/dist-packages (from wordcloud) (7.0.0)\n",
      "Requirement already satisfied: numpy>=1.6.1 in /usr/local/lib/python3.6/dist-packages (from wordcloud) (1.18.5)\n"
     ]
    }
   ],
   "source": [
    "pip install wordcloud"
   ]
  },
  {
   "cell_type": "code",
   "execution_count": 66,
   "metadata": {
    "colab": {
     "base_uri": "https://localhost:8080/",
     "height": 293
    },
    "executionInfo": {
     "elapsed": 850,
     "status": "ok",
     "timestamp": 1601104126720,
     "user": {
      "displayName": "raj priyan",
      "photoUrl": "https://lh3.googleusercontent.com/a-/AOh14GgZVW80EylFQ9L8-ITWkElw0wTMIIreVJQM-ATyrA=s64",
      "userId": "05111608225198986069"
     },
     "user_tz": -330
    },
    "id": "j7ecihC2MWPP",
    "outputId": "e9a53371-6b4d-49a9-9d95-775ee29c6762"
   },
   "outputs": [
    {
     "data": {
      "text/html": [
       "<div>\n",
       "<style scoped>\n",
       "    .dataframe tbody tr th:only-of-type {\n",
       "        vertical-align: middle;\n",
       "    }\n",
       "\n",
       "    .dataframe tbody tr th {\n",
       "        vertical-align: top;\n",
       "    }\n",
       "\n",
       "    .dataframe thead th {\n",
       "        text-align: right;\n",
       "    }\n",
       "</style>\n",
       "<table border=\"1\" class=\"dataframe\">\n",
       "  <thead>\n",
       "    <tr style=\"text-align: right;\">\n",
       "      <th></th>\n",
       "      <th>Short description</th>\n",
       "      <th>Description</th>\n",
       "      <th>Assignment group</th>\n",
       "      <th>nwords_short_description</th>\n",
       "      <th>nwords_description</th>\n",
       "      <th>final_description</th>\n",
       "    </tr>\n",
       "  </thead>\n",
       "  <tbody>\n",
       "    <tr>\n",
       "      <th>0</th>\n",
       "      <td>login issue</td>\n",
       "      <td>verified user detail employee manager name che...</td>\n",
       "      <td>GRP_0</td>\n",
       "      <td>2</td>\n",
       "      <td>29</td>\n",
       "      <td>login issue verified user detail employee mana...</td>\n",
       "    </tr>\n",
       "    <tr>\n",
       "      <th>1</th>\n",
       "      <td>outlook</td>\n",
       "      <td>hmjdrvpb komuaywn team meeting skype meeting e...</td>\n",
       "      <td>GRP_0</td>\n",
       "      <td>1</td>\n",
       "      <td>23</td>\n",
       "      <td>outlook hmjdrvpb komuaywn team meeting skype e...</td>\n",
       "    </tr>\n",
       "    <tr>\n",
       "      <th>2</th>\n",
       "      <td>cant log vpn</td>\n",
       "      <td>eylqgodm ybqkwiam cannot log vpn best</td>\n",
       "      <td>GRP_0</td>\n",
       "      <td>5</td>\n",
       "      <td>9</td>\n",
       "      <td>cant log vpn eylqgodm ybqkwiam cannot best</td>\n",
       "    </tr>\n",
       "    <tr>\n",
       "      <th>3</th>\n",
       "      <td>unable access hr tool page</td>\n",
       "      <td>unable access hr tool page</td>\n",
       "      <td>GRP_0</td>\n",
       "      <td>5</td>\n",
       "      <td>5</td>\n",
       "      <td>unable access hr tool page</td>\n",
       "    </tr>\n",
       "    <tr>\n",
       "      <th>4</th>\n",
       "      <td>skype error</td>\n",
       "      <td>skype error</td>\n",
       "      <td>GRP_0</td>\n",
       "      <td>3</td>\n",
       "      <td>3</td>\n",
       "      <td>skype error</td>\n",
       "    </tr>\n",
       "  </tbody>\n",
       "</table>\n",
       "</div>"
      ],
      "text/plain": [
       "            Short description  ...                                  final_description\n",
       "0                 login issue  ...  login issue verified user detail employee mana...\n",
       "1                     outlook  ...  outlook hmjdrvpb komuaywn team meeting skype e...\n",
       "2                cant log vpn  ...         cant log vpn eylqgodm ybqkwiam cannot best\n",
       "3  unable access hr tool page  ...                         unable access hr tool page\n",
       "4                 skype error  ...                                        skype error\n",
       "\n",
       "[5 rows x 6 columns]"
      ]
     },
     "execution_count": 66,
     "metadata": {
      "tags": []
     },
     "output_type": "execute_result"
    }
   ],
   "source": [
    "df.head()"
   ]
  },
  {
   "cell_type": "markdown",
   "metadata": {
    "id": "QTBzK-dYenRI"
   },
   "source": [
    "let’s start by looking at the common words present in the description in each Group."
   ]
  },
  {
   "cell_type": "code",
   "execution_count": 67,
   "metadata": {
    "colab": {
     "base_uri": "https://localhost:8080/",
     "height": 1000,
     "output_embedded_package_id": "1XyrwyX4s1oMiuNQCYZJDINrNEtP0mDNu"
    },
    "executionInfo": {
     "elapsed": 130845,
     "status": "ok",
     "timestamp": 1601104259808,
     "user": {
      "displayName": "raj priyan",
      "photoUrl": "https://lh3.googleusercontent.com/a-/AOh14GgZVW80EylFQ9L8-ITWkElw0wTMIIreVJQM-ATyrA=s64",
      "userId": "05111608225198986069"
     },
     "user_tz": -330
    },
    "id": "Yp6DNikwIMO3",
    "outputId": "dac1f64a-346d-4a6c-ea82-3056aa91eeae"
   },
   "outputs": [
    {
     "data": {
      "text/plain": [
       "Output hidden; open in https://colab.research.google.com to view."
      ]
     },
     "metadata": {},
     "output_type": "display_data"
    }
   ],
   "source": [
    "# Importing wordcloud for plotting word clouds and textwrap for wrapping longer text\n",
    "from wordcloud import WordCloud\n",
    "from textwrap import wrap\n",
    "\n",
    "# Function for generating word clouds\n",
    "def generate_wordcloud(data,title):\n",
    "  wordcloud = WordCloud().generate(text)\n",
    "  wordcloud = WordCloud(width=1200, height=600,colormap=\"Dark2\",max_font_size=500, max_words=150, background_color=\"black\").generate(text)\n",
    "  plt.figure(figsize=(10,8))\n",
    "  plt.imshow(wordcloud, interpolation='bilinear')\n",
    "  plt.axis(\"off\")\n",
    "  plt.title('\\n'.join(wrap(title,60)),fontsize=13)\n",
    "  plt.show()\n",
    "\n",
    "# Transposing document term matrix\n",
    "df_dtm=df_dtm.transpose()\n",
    "\n",
    "# Plotting word cloud for each product\n",
    "for i in df['Assignment group'].unique():\n",
    "  title = i\n",
    "  text = df['final_description'][df['Assignment group'] == i].to_string()\n",
    "  generate_wordcloud(text,title)"
   ]
  },
  {
   "cell_type": "code",
   "execution_count": 68,
   "metadata": {
    "colab": {
     "base_uri": "https://localhost:8080/",
     "height": 293
    },
    "executionInfo": {
     "elapsed": 1116,
     "status": "ok",
     "timestamp": 1601104276697,
     "user": {
      "displayName": "raj priyan",
      "photoUrl": "https://lh3.googleusercontent.com/a-/AOh14GgZVW80EylFQ9L8-ITWkElw0wTMIIreVJQM-ATyrA=s64",
      "userId": "05111608225198986069"
     },
     "user_tz": -330
    },
    "id": "fm2equRjepSd",
    "outputId": "6ec01e65-f3e9-4d8b-d64e-a98ac96e1050"
   },
   "outputs": [
    {
     "data": {
      "text/html": [
       "<div>\n",
       "<style scoped>\n",
       "    .dataframe tbody tr th:only-of-type {\n",
       "        vertical-align: middle;\n",
       "    }\n",
       "\n",
       "    .dataframe tbody tr th {\n",
       "        vertical-align: top;\n",
       "    }\n",
       "\n",
       "    .dataframe thead th {\n",
       "        text-align: right;\n",
       "    }\n",
       "</style>\n",
       "<table border=\"1\" class=\"dataframe\">\n",
       "  <thead>\n",
       "    <tr style=\"text-align: right;\">\n",
       "      <th></th>\n",
       "      <th>Short description</th>\n",
       "      <th>Description</th>\n",
       "      <th>Assignment group</th>\n",
       "      <th>nwords_short_description</th>\n",
       "      <th>nwords_description</th>\n",
       "      <th>final_description</th>\n",
       "    </tr>\n",
       "  </thead>\n",
       "  <tbody>\n",
       "    <tr>\n",
       "      <th>0</th>\n",
       "      <td>login issue</td>\n",
       "      <td>verified user detail employee manager name che...</td>\n",
       "      <td>GRP_0</td>\n",
       "      <td>2</td>\n",
       "      <td>29</td>\n",
       "      <td>login issue verified user detail employee mana...</td>\n",
       "    </tr>\n",
       "    <tr>\n",
       "      <th>1</th>\n",
       "      <td>outlook</td>\n",
       "      <td>hmjdrvpb komuaywn team meeting skype meeting e...</td>\n",
       "      <td>GRP_0</td>\n",
       "      <td>1</td>\n",
       "      <td>23</td>\n",
       "      <td>outlook hmjdrvpb komuaywn team meeting skype e...</td>\n",
       "    </tr>\n",
       "    <tr>\n",
       "      <th>2</th>\n",
       "      <td>cant log vpn</td>\n",
       "      <td>eylqgodm ybqkwiam cannot log vpn best</td>\n",
       "      <td>GRP_0</td>\n",
       "      <td>5</td>\n",
       "      <td>9</td>\n",
       "      <td>cant log vpn eylqgodm ybqkwiam cannot best</td>\n",
       "    </tr>\n",
       "    <tr>\n",
       "      <th>3</th>\n",
       "      <td>unable access hr tool page</td>\n",
       "      <td>unable access hr tool page</td>\n",
       "      <td>GRP_0</td>\n",
       "      <td>5</td>\n",
       "      <td>5</td>\n",
       "      <td>unable access hr tool page</td>\n",
       "    </tr>\n",
       "    <tr>\n",
       "      <th>4</th>\n",
       "      <td>skype error</td>\n",
       "      <td>skype error</td>\n",
       "      <td>GRP_0</td>\n",
       "      <td>3</td>\n",
       "      <td>3</td>\n",
       "      <td>skype error</td>\n",
       "    </tr>\n",
       "  </tbody>\n",
       "</table>\n",
       "</div>"
      ],
      "text/plain": [
       "            Short description  ...                                  final_description\n",
       "0                 login issue  ...  login issue verified user detail employee mana...\n",
       "1                     outlook  ...  outlook hmjdrvpb komuaywn team meeting skype e...\n",
       "2                cant log vpn  ...         cant log vpn eylqgodm ybqkwiam cannot best\n",
       "3  unable access hr tool page  ...                         unable access hr tool page\n",
       "4                 skype error  ...                                        skype error\n",
       "\n",
       "[5 rows x 6 columns]"
      ]
     },
     "execution_count": 68,
     "metadata": {
      "tags": []
     },
     "output_type": "execute_result"
    }
   ],
   "source": [
    "df.head()"
   ]
  },
  {
   "cell_type": "code",
   "execution_count": 69,
   "metadata": {
    "executionInfo": {
     "elapsed": 977,
     "status": "ok",
     "timestamp": 1601104279624,
     "user": {
      "displayName": "raj priyan",
      "photoUrl": "https://lh3.googleusercontent.com/a-/AOh14GgZVW80EylFQ9L8-ITWkElw0wTMIIreVJQM-ATyrA=s64",
      "userId": "05111608225198986069"
     },
     "user_tz": -330
    },
    "id": "LT3Elk_DJXnW"
   },
   "outputs": [],
   "source": [
    "df_model_1 = df[['final_description','Assignment group']]"
   ]
  },
  {
   "cell_type": "code",
   "execution_count": 70,
   "metadata": {
    "colab": {
     "base_uri": "https://localhost:8080/",
     "height": 206
    },
    "executionInfo": {
     "elapsed": 1114,
     "status": "ok",
     "timestamp": 1601104284091,
     "user": {
      "displayName": "raj priyan",
      "photoUrl": "https://lh3.googleusercontent.com/a-/AOh14GgZVW80EylFQ9L8-ITWkElw0wTMIIreVJQM-ATyrA=s64",
      "userId": "05111608225198986069"
     },
     "user_tz": -330
    },
    "id": "H8lALhMtZ3ZQ",
    "outputId": "d3e7aebc-8ada-49dd-97ca-4a88b10aca06"
   },
   "outputs": [
    {
     "data": {
      "text/html": [
       "<div>\n",
       "<style scoped>\n",
       "    .dataframe tbody tr th:only-of-type {\n",
       "        vertical-align: middle;\n",
       "    }\n",
       "\n",
       "    .dataframe tbody tr th {\n",
       "        vertical-align: top;\n",
       "    }\n",
       "\n",
       "    .dataframe thead th {\n",
       "        text-align: right;\n",
       "    }\n",
       "</style>\n",
       "<table border=\"1\" class=\"dataframe\">\n",
       "  <thead>\n",
       "    <tr style=\"text-align: right;\">\n",
       "      <th></th>\n",
       "      <th>final_description</th>\n",
       "      <th>Assignment group</th>\n",
       "    </tr>\n",
       "  </thead>\n",
       "  <tbody>\n",
       "    <tr>\n",
       "      <th>0</th>\n",
       "      <td>login issue verified user detail employee mana...</td>\n",
       "      <td>GRP_0</td>\n",
       "    </tr>\n",
       "    <tr>\n",
       "      <th>1</th>\n",
       "      <td>outlook hmjdrvpb komuaywn team meeting skype e...</td>\n",
       "      <td>GRP_0</td>\n",
       "    </tr>\n",
       "    <tr>\n",
       "      <th>2</th>\n",
       "      <td>cant log vpn eylqgodm ybqkwiam cannot best</td>\n",
       "      <td>GRP_0</td>\n",
       "    </tr>\n",
       "    <tr>\n",
       "      <th>3</th>\n",
       "      <td>unable access hr tool page</td>\n",
       "      <td>GRP_0</td>\n",
       "    </tr>\n",
       "    <tr>\n",
       "      <th>4</th>\n",
       "      <td>skype error</td>\n",
       "      <td>GRP_0</td>\n",
       "    </tr>\n",
       "  </tbody>\n",
       "</table>\n",
       "</div>"
      ],
      "text/plain": [
       "                                   final_description Assignment group\n",
       "0  login issue verified user detail employee mana...            GRP_0\n",
       "1  outlook hmjdrvpb komuaywn team meeting skype e...            GRP_0\n",
       "2         cant log vpn eylqgodm ybqkwiam cannot best            GRP_0\n",
       "3                         unable access hr tool page            GRP_0\n",
       "4                                        skype error            GRP_0"
      ]
     },
     "execution_count": 70,
     "metadata": {
      "tags": []
     },
     "output_type": "execute_result"
    }
   ],
   "source": [
    "df_model_1.head()"
   ]
  },
  {
   "cell_type": "code",
   "execution_count": 71,
   "metadata": {
    "executionInfo": {
     "elapsed": 1246,
     "status": "ok",
     "timestamp": 1601104289100,
     "user": {
      "displayName": "raj priyan",
      "photoUrl": "https://lh3.googleusercontent.com/a-/AOh14GgZVW80EylFQ9L8-ITWkElw0wTMIIreVJQM-ATyrA=s64",
      "userId": "05111608225198986069"
     },
     "user_tz": -330
    },
    "id": "GxuUr7jxh6Pe"
   },
   "outputs": [],
   "source": [
    "FinalData=(df_model_1)"
   ]
  },
  {
   "cell_type": "code",
   "execution_count": 72,
   "metadata": {
    "colab": {
     "base_uri": "https://localhost:8080/",
     "height": 206
    },
    "executionInfo": {
     "elapsed": 1180,
     "status": "ok",
     "timestamp": 1601104293265,
     "user": {
      "displayName": "raj priyan",
      "photoUrl": "https://lh3.googleusercontent.com/a-/AOh14GgZVW80EylFQ9L8-ITWkElw0wTMIIreVJQM-ATyrA=s64",
      "userId": "05111608225198986069"
     },
     "user_tz": -330
    },
    "id": "EcqchtAtaQys",
    "outputId": "a82d2ea8-808d-4b40-8bcd-e031aae7a8b5"
   },
   "outputs": [
    {
     "data": {
      "text/html": [
       "<div>\n",
       "<style scoped>\n",
       "    .dataframe tbody tr th:only-of-type {\n",
       "        vertical-align: middle;\n",
       "    }\n",
       "\n",
       "    .dataframe tbody tr th {\n",
       "        vertical-align: top;\n",
       "    }\n",
       "\n",
       "    .dataframe thead th {\n",
       "        text-align: right;\n",
       "    }\n",
       "</style>\n",
       "<table border=\"1\" class=\"dataframe\">\n",
       "  <thead>\n",
       "    <tr style=\"text-align: right;\">\n",
       "      <th></th>\n",
       "      <th>final_description</th>\n",
       "      <th>Assignment group</th>\n",
       "    </tr>\n",
       "  </thead>\n",
       "  <tbody>\n",
       "    <tr>\n",
       "      <th>0</th>\n",
       "      <td>login issue verified user detail employee mana...</td>\n",
       "      <td>GRP_0</td>\n",
       "    </tr>\n",
       "    <tr>\n",
       "      <th>1</th>\n",
       "      <td>outlook hmjdrvpb komuaywn team meeting skype e...</td>\n",
       "      <td>GRP_0</td>\n",
       "    </tr>\n",
       "    <tr>\n",
       "      <th>2</th>\n",
       "      <td>cant log vpn eylqgodm ybqkwiam cannot best</td>\n",
       "      <td>GRP_0</td>\n",
       "    </tr>\n",
       "    <tr>\n",
       "      <th>3</th>\n",
       "      <td>unable access hr tool page</td>\n",
       "      <td>GRP_0</td>\n",
       "    </tr>\n",
       "    <tr>\n",
       "      <th>4</th>\n",
       "      <td>skype error</td>\n",
       "      <td>GRP_0</td>\n",
       "    </tr>\n",
       "  </tbody>\n",
       "</table>\n",
       "</div>"
      ],
      "text/plain": [
       "                                   final_description Assignment group\n",
       "0  login issue verified user detail employee mana...            GRP_0\n",
       "1  outlook hmjdrvpb komuaywn team meeting skype e...            GRP_0\n",
       "2         cant log vpn eylqgodm ybqkwiam cannot best            GRP_0\n",
       "3                         unable access hr tool page            GRP_0\n",
       "4                                        skype error            GRP_0"
      ]
     },
     "execution_count": 72,
     "metadata": {
      "tags": []
     },
     "output_type": "execute_result"
    }
   ],
   "source": [
    "FinalData.head()"
   ]
  },
  {
   "cell_type": "code",
   "execution_count": 73,
   "metadata": {
    "executionInfo": {
     "elapsed": 1664,
     "status": "ok",
     "timestamp": 1601104295926,
     "user": {
      "displayName": "raj priyan",
      "photoUrl": "https://lh3.googleusercontent.com/a-/AOh14GgZVW80EylFQ9L8-ITWkElw0wTMIIreVJQM-ATyrA=s64",
      "userId": "05111608225198986069"
     },
     "user_tz": -330
    },
    "id": "oYw-3rQfaqBw"
   },
   "outputs": [],
   "source": [
    "FinalData=FinalData.groupby('Assignment group').filter(lambda x : len(x)>200).reset_index()\n",
    "FinalData.drop(columns=['index'],inplace=True)"
   ]
  },
  {
   "cell_type": "code",
   "execution_count": 74,
   "metadata": {
    "colab": {
     "base_uri": "https://localhost:8080/",
     "height": 34
    },
    "executionInfo": {
     "elapsed": 799,
     "status": "ok",
     "timestamp": 1601104297336,
     "user": {
      "displayName": "raj priyan",
      "photoUrl": "https://lh3.googleusercontent.com/a-/AOh14GgZVW80EylFQ9L8-ITWkElw0wTMIIreVJQM-ATyrA=s64",
      "userId": "05111608225198986069"
     },
     "user_tz": -330
    },
    "id": "gd3lsJaebkC1",
    "outputId": "ab3d2503-1a50-4924-e581-88842c8efdad"
   },
   "outputs": [
    {
     "data": {
      "text/plain": [
       "7"
      ]
     },
     "execution_count": 74,
     "metadata": {
      "tags": []
     },
     "output_type": "execute_result"
    }
   ],
   "source": [
    "FinalData['Assignment group'].nunique()"
   ]
  },
  {
   "cell_type": "code",
   "execution_count": 75,
   "metadata": {
    "colab": {
     "base_uri": "https://localhost:8080/",
     "height": 34
    },
    "executionInfo": {
     "elapsed": 2167,
     "status": "ok",
     "timestamp": 1601104300163,
     "user": {
      "displayName": "raj priyan",
      "photoUrl": "https://lh3.googleusercontent.com/a-/AOh14GgZVW80EylFQ9L8-ITWkElw0wTMIIreVJQM-ATyrA=s64",
      "userId": "05111608225198986069"
     },
     "user_tz": -330
    },
    "id": "ekI591kMi_A_",
    "outputId": "f153c47b-9bd3-4d58-c598-d554d68a3405"
   },
   "outputs": [
    {
     "data": {
      "text/plain": [
       "(5891, 2)"
      ]
     },
     "execution_count": 75,
     "metadata": {
      "tags": []
     },
     "output_type": "execute_result"
    }
   ],
   "source": [
    "FinalData.shape"
   ]
  },
  {
   "cell_type": "code",
   "execution_count": 76,
   "metadata": {
    "colab": {
     "base_uri": "https://localhost:8080/",
     "height": 206
    },
    "executionInfo": {
     "elapsed": 1164,
     "status": "ok",
     "timestamp": 1601104301826,
     "user": {
      "displayName": "raj priyan",
      "photoUrl": "https://lh3.googleusercontent.com/a-/AOh14GgZVW80EylFQ9L8-ITWkElw0wTMIIreVJQM-ATyrA=s64",
      "userId": "05111608225198986069"
     },
     "user_tz": -330
    },
    "id": "t8ojdC0ejWAJ",
    "outputId": "4e717751-eb74-46ac-a2b7-9666758e9db5"
   },
   "outputs": [
    {
     "data": {
      "text/html": [
       "<div>\n",
       "<style scoped>\n",
       "    .dataframe tbody tr th:only-of-type {\n",
       "        vertical-align: middle;\n",
       "    }\n",
       "\n",
       "    .dataframe tbody tr th {\n",
       "        vertical-align: top;\n",
       "    }\n",
       "\n",
       "    .dataframe thead th {\n",
       "        text-align: right;\n",
       "    }\n",
       "</style>\n",
       "<table border=\"1\" class=\"dataframe\">\n",
       "  <thead>\n",
       "    <tr style=\"text-align: right;\">\n",
       "      <th></th>\n",
       "      <th>final_description</th>\n",
       "      <th>Assignment group</th>\n",
       "    </tr>\n",
       "  </thead>\n",
       "  <tbody>\n",
       "    <tr>\n",
       "      <th>0</th>\n",
       "      <td>login issue verified user detail employee mana...</td>\n",
       "      <td>GRP_0</td>\n",
       "    </tr>\n",
       "    <tr>\n",
       "      <th>1</th>\n",
       "      <td>outlook hmjdrvpb komuaywn team meeting skype e...</td>\n",
       "      <td>GRP_0</td>\n",
       "    </tr>\n",
       "    <tr>\n",
       "      <th>2</th>\n",
       "      <td>cant log vpn eylqgodm ybqkwiam cannot best</td>\n",
       "      <td>GRP_0</td>\n",
       "    </tr>\n",
       "    <tr>\n",
       "      <th>3</th>\n",
       "      <td>unable access hr tool page</td>\n",
       "      <td>GRP_0</td>\n",
       "    </tr>\n",
       "    <tr>\n",
       "      <th>4</th>\n",
       "      <td>skype error</td>\n",
       "      <td>GRP_0</td>\n",
       "    </tr>\n",
       "  </tbody>\n",
       "</table>\n",
       "</div>"
      ],
      "text/plain": [
       "                                   final_description Assignment group\n",
       "0  login issue verified user detail employee mana...            GRP_0\n",
       "1  outlook hmjdrvpb komuaywn team meeting skype e...            GRP_0\n",
       "2         cant log vpn eylqgodm ybqkwiam cannot best            GRP_0\n",
       "3                         unable access hr tool page            GRP_0\n",
       "4                                        skype error            GRP_0"
      ]
     },
     "execution_count": 76,
     "metadata": {
      "tags": []
     },
     "output_type": "execute_result"
    }
   ],
   "source": [
    "FinalData.head()"
   ]
  },
  {
   "cell_type": "markdown",
   "metadata": {
    "id": "Vktffv8mipI-"
   },
   "source": [
    "Considering the group has more than 200 occurance\n"
   ]
  },
  {
   "cell_type": "code",
   "execution_count": 77,
   "metadata": {
    "colab": {
     "base_uri": "https://localhost:8080/",
     "height": 263
    },
    "executionInfo": {
     "elapsed": 53818,
     "status": "ok",
     "timestamp": 1601104358193,
     "user": {
      "displayName": "raj priyan",
      "photoUrl": "https://lh3.googleusercontent.com/a-/AOh14GgZVW80EylFQ9L8-ITWkElw0wTMIIreVJQM-ATyrA=s64",
      "userId": "05111608225198986069"
     },
     "user_tz": -330
    },
    "id": "cJDczM_0cyx6",
    "outputId": "3f4011d8-8421-43e4-c2ec-3df208035bfb"
   },
   "outputs": [
    {
     "name": "stdout",
     "output_type": "stream",
     "text": [
      "Collecting fasttext\n",
      "\u001b[?25l  Downloading https://files.pythonhosted.org/packages/f8/85/e2b368ab6d3528827b147fdb814f8189acc981a4bc2f99ab894650e05c40/fasttext-0.9.2.tar.gz (68kB)\n",
      "\r",
      "\u001b[K     |████▊                           | 10kB 13.9MB/s eta 0:00:01\r",
      "\u001b[K     |█████████▌                      | 20kB 1.5MB/s eta 0:00:01\r",
      "\u001b[K     |██████████████▎                 | 30kB 2.1MB/s eta 0:00:01\r",
      "\u001b[K     |███████████████████             | 40kB 2.4MB/s eta 0:00:01\r",
      "\u001b[K     |███████████████████████▉        | 51kB 1.8MB/s eta 0:00:01\r",
      "\u001b[K     |████████████████████████████▋   | 61kB 2.1MB/s eta 0:00:01\r",
      "\u001b[K     |████████████████████████████████| 71kB 1.8MB/s \n",
      "\u001b[?25hRequirement already satisfied: pybind11>=2.2 in /usr/local/lib/python3.6/dist-packages (from fasttext) (2.5.0)\n",
      "Requirement already satisfied: setuptools>=0.7.0 in /usr/local/lib/python3.6/dist-packages (from fasttext) (50.3.0)\n",
      "Requirement already satisfied: numpy in /usr/local/lib/python3.6/dist-packages (from fasttext) (1.18.5)\n",
      "Building wheels for collected packages: fasttext\n",
      "  Building wheel for fasttext (setup.py) ... \u001b[?25l\u001b[?25hdone\n",
      "  Created wheel for fasttext: filename=fasttext-0.9.2-cp36-cp36m-linux_x86_64.whl size=3018268 sha256=1f693946da0f1ecd1f2f2525b04f5cb362da2d45fe91b6a24fa2b48e9f81f21b\n",
      "  Stored in directory: /root/.cache/pip/wheels/98/ba/7f/b154944a1cf5a8cee91c154b75231136cc3a3321ab0e30f592\n",
      "Successfully built fasttext\n",
      "Installing collected packages: fasttext\n",
      "Successfully installed fasttext-0.9.2\n"
     ]
    }
   ],
   "source": [
    "!pip install fasttext"
   ]
  },
  {
   "cell_type": "code",
   "execution_count": 78,
   "metadata": {
    "executionInfo": {
     "elapsed": 1335,
     "status": "ok",
     "timestamp": 1601104361446,
     "user": {
      "displayName": "raj priyan",
      "photoUrl": "https://lh3.googleusercontent.com/a-/AOh14GgZVW80EylFQ9L8-ITWkElw0wTMIIreVJQM-ATyrA=s64",
      "userId": "05111608225198986069"
     },
     "user_tz": -330
    },
    "id": "gSuTVSYDc1QA"
   },
   "outputs": [],
   "source": [
    "Fasttext_df = FinalData.copy()"
   ]
  },
  {
   "cell_type": "code",
   "execution_count": 79,
   "metadata": {
    "executionInfo": {
     "elapsed": 1205,
     "status": "ok",
     "timestamp": 1601104363684,
     "user": {
      "displayName": "raj priyan",
      "photoUrl": "https://lh3.googleusercontent.com/a-/AOh14GgZVW80EylFQ9L8-ITWkElw0wTMIIreVJQM-ATyrA=s64",
      "userId": "05111608225198986069"
     },
     "user_tz": -330
    },
    "id": "s5MT4nwZc4Ow"
   },
   "outputs": [],
   "source": [
    "for i,j in enumerate(FinalData['Assignment group']):\n",
    "  Fasttext_df['Assignment group'][i] = \"__label__\"+j"
   ]
  },
  {
   "cell_type": "code",
   "execution_count": 80,
   "metadata": {
    "executionInfo": {
     "elapsed": 780,
     "status": "ok",
     "timestamp": 1601104365173,
     "user": {
      "displayName": "raj priyan",
      "photoUrl": "https://lh3.googleusercontent.com/a-/AOh14GgZVW80EylFQ9L8-ITWkElw0wTMIIreVJQM-ATyrA=s64",
      "userId": "05111608225198986069"
     },
     "user_tz": -330
    },
    "id": "iPvZjXl1c8ro"
   },
   "outputs": [],
   "source": [
    "Fasttext_df = Fasttext_df.sample(frac = 1) "
   ]
  },
  {
   "cell_type": "code",
   "execution_count": 81,
   "metadata": {
    "colab": {
     "base_uri": "https://localhost:8080/",
     "height": 424
    },
    "executionInfo": {
     "elapsed": 789,
     "status": "ok",
     "timestamp": 1601104366886,
     "user": {
      "displayName": "raj priyan",
      "photoUrl": "https://lh3.googleusercontent.com/a-/AOh14GgZVW80EylFQ9L8-ITWkElw0wTMIIreVJQM-ATyrA=s64",
      "userId": "05111608225198986069"
     },
     "user_tz": -330
    },
    "id": "bM1ht44Ac9Zf",
    "outputId": "9af0c401-10b4-4034-c54a-fabd2b372968"
   },
   "outputs": [
    {
     "data": {
      "text/html": [
       "<div>\n",
       "<style scoped>\n",
       "    .dataframe tbody tr th:only-of-type {\n",
       "        vertical-align: middle;\n",
       "    }\n",
       "\n",
       "    .dataframe tbody tr th {\n",
       "        vertical-align: top;\n",
       "    }\n",
       "\n",
       "    .dataframe thead th {\n",
       "        text-align: right;\n",
       "    }\n",
       "</style>\n",
       "<table border=\"1\" class=\"dataframe\">\n",
       "  <thead>\n",
       "    <tr style=\"text-align: right;\">\n",
       "      <th></th>\n",
       "      <th>final_description</th>\n",
       "      <th>Assignment group</th>\n",
       "    </tr>\n",
       "  </thead>\n",
       "  <tbody>\n",
       "    <tr>\n",
       "      <th>0</th>\n",
       "      <td>abended job scheduler sid monitoring tool company</td>\n",
       "      <td>__label__GRP_8</td>\n",
       "    </tr>\n",
       "    <tr>\n",
       "      <th>1</th>\n",
       "      <td>window password reset</td>\n",
       "      <td>__label__GRP_0</td>\n",
       "    </tr>\n",
       "    <tr>\n",
       "      <th>2</th>\n",
       "      <td>inquiry etime login</td>\n",
       "      <td>__label__GRP_0</td>\n",
       "    </tr>\n",
       "    <tr>\n",
       "      <th>3</th>\n",
       "      <td>job bkbackup tool sql prod full failed schedul...</td>\n",
       "      <td>__label__GRP_8</td>\n",
       "    </tr>\n",
       "    <tr>\n",
       "      <th>4</th>\n",
       "      <td>log erp order</td>\n",
       "      <td>__label__GRP_0</td>\n",
       "    </tr>\n",
       "    <tr>\n",
       "      <th>...</th>\n",
       "      <td>...</td>\n",
       "      <td>...</td>\n",
       "    </tr>\n",
       "    <tr>\n",
       "      <th>5886</th>\n",
       "      <td>erp sid account unlock</td>\n",
       "      <td>__label__GRP_0</td>\n",
       "    </tr>\n",
       "    <tr>\n",
       "      <th>5887</th>\n",
       "      <td>job failed scheduler monitoring tool company</td>\n",
       "      <td>__label__GRP_8</td>\n",
       "    </tr>\n",
       "    <tr>\n",
       "      <th>5888</th>\n",
       "      <td>erp sid account unlock</td>\n",
       "      <td>__label__GRP_0</td>\n",
       "    </tr>\n",
       "    <tr>\n",
       "      <th>5889</th>\n",
       "      <td>erp sid access right npvmwszt gzcpejxv dear gl...</td>\n",
       "      <td>__label__GRP_0</td>\n",
       "    </tr>\n",
       "    <tr>\n",
       "      <th>5890</th>\n",
       "      <td>unable login collaboration platform</td>\n",
       "      <td>__label__GRP_0</td>\n",
       "    </tr>\n",
       "  </tbody>\n",
       "</table>\n",
       "<p>5891 rows × 2 columns</p>\n",
       "</div>"
      ],
      "text/plain": [
       "                                      final_description Assignment group\n",
       "0     abended job scheduler sid monitoring tool company   __label__GRP_8\n",
       "1                                 window password reset   __label__GRP_0\n",
       "2                                   inquiry etime login   __label__GRP_0\n",
       "3     job bkbackup tool sql prod full failed schedul...   __label__GRP_8\n",
       "4                                         log erp order   __label__GRP_0\n",
       "...                                                 ...              ...\n",
       "5886                             erp sid account unlock   __label__GRP_0\n",
       "5887       job failed scheduler monitoring tool company   __label__GRP_8\n",
       "5888                             erp sid account unlock   __label__GRP_0\n",
       "5889  erp sid access right npvmwszt gzcpejxv dear gl...   __label__GRP_0\n",
       "5890                unable login collaboration platform   __label__GRP_0\n",
       "\n",
       "[5891 rows x 2 columns]"
      ]
     },
     "execution_count": 81,
     "metadata": {
      "tags": []
     },
     "output_type": "execute_result"
    }
   ],
   "source": [
    "Fasttext_df.reset_index(drop = True)"
   ]
  },
  {
   "cell_type": "code",
   "execution_count": 82,
   "metadata": {
    "executionInfo": {
     "elapsed": 1158,
     "status": "ok",
     "timestamp": 1601104371122,
     "user": {
      "displayName": "raj priyan",
      "photoUrl": "https://lh3.googleusercontent.com/a-/AOh14GgZVW80EylFQ9L8-ITWkElw0wTMIIreVJQM-ATyrA=s64",
      "userId": "05111608225198986069"
     },
     "user_tz": -330
    },
    "id": "JaUsICvsdANw"
   },
   "outputs": [],
   "source": [
    "Fasttext_df = Fasttext_df[['final_description','Assignment group']].reset_index(drop = True)"
   ]
  },
  {
   "cell_type": "code",
   "execution_count": 83,
   "metadata": {
    "executionInfo": {
     "elapsed": 785,
     "status": "ok",
     "timestamp": 1601104372587,
     "user": {
      "displayName": "raj priyan",
      "photoUrl": "https://lh3.googleusercontent.com/a-/AOh14GgZVW80EylFQ9L8-ITWkElw0wTMIIreVJQM-ATyrA=s64",
      "userId": "05111608225198986069"
     },
     "user_tz": -330
    },
    "id": "4IPrnHtpdHTc"
   },
   "outputs": [],
   "source": [
    "temp=[]\n",
    "for ind in Fasttext_df.index: \n",
    "  temp.append(Fasttext_df['Assignment group'][ind]+\" \"+Fasttext_df['final_description'][ind])\n",
    "Fasttext_df['Description']=temp"
   ]
  },
  {
   "cell_type": "code",
   "execution_count": 84,
   "metadata": {
    "executionInfo": {
     "elapsed": 1164,
     "status": "ok",
     "timestamp": 1601104374661,
     "user": {
      "displayName": "raj priyan",
      "photoUrl": "https://lh3.googleusercontent.com/a-/AOh14GgZVW80EylFQ9L8-ITWkElw0wTMIIreVJQM-ATyrA=s64",
      "userId": "05111608225198986069"
     },
     "user_tz": -330
    },
    "id": "8vk3uCC6dIyB"
   },
   "outputs": [],
   "source": [
    "Fasttext_df.drop(['final_description'], axis=1, inplace=True)\n"
   ]
  },
  {
   "cell_type": "code",
   "execution_count": 85,
   "metadata": {
    "executionInfo": {
     "elapsed": 875,
     "status": "ok",
     "timestamp": 1601104376434,
     "user": {
      "displayName": "raj priyan",
      "photoUrl": "https://lh3.googleusercontent.com/a-/AOh14GgZVW80EylFQ9L8-ITWkElw0wTMIIreVJQM-ATyrA=s64",
      "userId": "05111608225198986069"
     },
     "user_tz": -330
    },
    "id": "U-GHQ0pIdKlm"
   },
   "outputs": [],
   "source": [
    "Fasttext_df.drop(['Assignment group'], axis=1, inplace=True)\n"
   ]
  },
  {
   "cell_type": "code",
   "execution_count": 86,
   "metadata": {
    "colab": {
     "base_uri": "https://localhost:8080/",
     "height": 206
    },
    "executionInfo": {
     "elapsed": 741,
     "status": "ok",
     "timestamp": 1601104378676,
     "user": {
      "displayName": "raj priyan",
      "photoUrl": "https://lh3.googleusercontent.com/a-/AOh14GgZVW80EylFQ9L8-ITWkElw0wTMIIreVJQM-ATyrA=s64",
      "userId": "05111608225198986069"
     },
     "user_tz": -330
    },
    "id": "Sa0y7z-CofeU",
    "outputId": "1133ea9c-aa03-4ad5-d054-0730c9d38e16"
   },
   "outputs": [
    {
     "data": {
      "text/html": [
       "<div>\n",
       "<style scoped>\n",
       "    .dataframe tbody tr th:only-of-type {\n",
       "        vertical-align: middle;\n",
       "    }\n",
       "\n",
       "    .dataframe tbody tr th {\n",
       "        vertical-align: top;\n",
       "    }\n",
       "\n",
       "    .dataframe thead th {\n",
       "        text-align: right;\n",
       "    }\n",
       "</style>\n",
       "<table border=\"1\" class=\"dataframe\">\n",
       "  <thead>\n",
       "    <tr style=\"text-align: right;\">\n",
       "      <th></th>\n",
       "      <th>Description</th>\n",
       "    </tr>\n",
       "  </thead>\n",
       "  <tbody>\n",
       "    <tr>\n",
       "      <th>0</th>\n",
       "      <td>__label__GRP_8 abended job scheduler sid monit...</td>\n",
       "    </tr>\n",
       "    <tr>\n",
       "      <th>1</th>\n",
       "      <td>__label__GRP_0 window password reset</td>\n",
       "    </tr>\n",
       "    <tr>\n",
       "      <th>2</th>\n",
       "      <td>__label__GRP_0 inquiry etime login</td>\n",
       "    </tr>\n",
       "    <tr>\n",
       "      <th>3</th>\n",
       "      <td>__label__GRP_8 job bkbackup tool sql prod full...</td>\n",
       "    </tr>\n",
       "    <tr>\n",
       "      <th>4</th>\n",
       "      <td>__label__GRP_0 log erp order</td>\n",
       "    </tr>\n",
       "  </tbody>\n",
       "</table>\n",
       "</div>"
      ],
      "text/plain": [
       "                                         Description\n",
       "0  __label__GRP_8 abended job scheduler sid monit...\n",
       "1               __label__GRP_0 window password reset\n",
       "2                 __label__GRP_0 inquiry etime login\n",
       "3  __label__GRP_8 job bkbackup tool sql prod full...\n",
       "4                       __label__GRP_0 log erp order"
      ]
     },
     "execution_count": 86,
     "metadata": {
      "tags": []
     },
     "output_type": "execute_result"
    }
   ],
   "source": [
    "Fasttext_df.head()"
   ]
  },
  {
   "cell_type": "code",
   "execution_count": 87,
   "metadata": {
    "executionInfo": {
     "elapsed": 1813,
     "status": "ok",
     "timestamp": 1601104386514,
     "user": {
      "displayName": "raj priyan",
      "photoUrl": "https://lh3.googleusercontent.com/a-/AOh14GgZVW80EylFQ9L8-ITWkElw0wTMIIreVJQM-ATyrA=s64",
      "userId": "05111608225198986069"
     },
     "user_tz": -330
    },
    "id": "4mhlrF2eovSp"
   },
   "outputs": [],
   "source": [
    "Fasttext_df.to_csv(r'/content/drive/My Drive/Fasttext.txt',index=False,sep=' ',header=False)"
   ]
  },
  {
   "cell_type": "code",
   "execution_count": 88,
   "metadata": {
    "executionInfo": {
     "elapsed": 1251,
     "status": "ok",
     "timestamp": 1601104389646,
     "user": {
      "displayName": "raj priyan",
      "photoUrl": "https://lh3.googleusercontent.com/a-/AOh14GgZVW80EylFQ9L8-ITWkElw0wTMIIreVJQM-ATyrA=s64",
      "userId": "05111608225198986069"
     },
     "user_tz": -330
    },
    "id": "wufvWuT2dPwK"
   },
   "outputs": [],
   "source": [
    "import fasttext"
   ]
  },
  {
   "cell_type": "code",
   "execution_count": 89,
   "metadata": {
    "executionInfo": {
     "elapsed": 1100,
     "status": "ok",
     "timestamp": 1601104394185,
     "user": {
      "displayName": "raj priyan",
      "photoUrl": "https://lh3.googleusercontent.com/a-/AOh14GgZVW80EylFQ9L8-ITWkElw0wTMIIreVJQM-ATyrA=s64",
      "userId": "05111608225198986069"
     },
     "user_tz": -330
    },
    "id": "_PaMaPbTrs5I"
   },
   "outputs": [],
   "source": [
    "train_file = open('/content/drive/My Drive/Fasttext.txt', 'w')\n",
    "for values in temp:\n",
    "  train_file.write(values+\"\\n\")\n",
    "train_file.close()"
   ]
  },
  {
   "cell_type": "code",
   "execution_count": 90,
   "metadata": {
    "executionInfo": {
     "elapsed": 29915,
     "status": "ok",
     "timestamp": 1601104433548,
     "user": {
      "displayName": "raj priyan",
      "photoUrl": "https://lh3.googleusercontent.com/a-/AOh14GgZVW80EylFQ9L8-ITWkElw0wTMIIreVJQM-ATyrA=s64",
      "userId": "05111608225198986069"
     },
     "user_tz": -330
    },
    "id": "zZWMrLiDdRsk"
   },
   "outputs": [],
   "source": [
    "Fastextmodel = fasttext.train_supervised(input=\"/content/drive/My Drive/Fasttext.txt\", lr=0.1,epoch=300, wordNgrams=2, loss='ova')"
   ]
  },
  {
   "cell_type": "code",
   "execution_count": 91,
   "metadata": {
    "colab": {
     "base_uri": "https://localhost:8080/",
     "height": 34
    },
    "executionInfo": {
     "elapsed": 1145,
     "status": "ok",
     "timestamp": 1601104440245,
     "user": {
      "displayName": "raj priyan",
      "photoUrl": "https://lh3.googleusercontent.com/a-/AOh14GgZVW80EylFQ9L8-ITWkElw0wTMIIreVJQM-ATyrA=s64",
      "userId": "05111608225198986069"
     },
     "user_tz": -330
    },
    "id": "NgYGfMpNdTUm",
    "outputId": "80b5b6f7-da03-4e50-e6b9-744c626c3b63"
   },
   "outputs": [
    {
     "data": {
      "text/plain": [
       "(5891, 0.9694449159735189, 0.9694449159735189)"
      ]
     },
     "execution_count": 91,
     "metadata": {
      "tags": []
     },
     "output_type": "execute_result"
    }
   ],
   "source": [
    "Fastextmodel.test(\"/content/drive/My Drive/Fasttext.txt\")\n"
   ]
  },
  {
   "cell_type": "code",
   "execution_count": 92,
   "metadata": {
    "colab": {
     "base_uri": "https://localhost:8080/",
     "height": 35
    },
    "executionInfo": {
     "elapsed": 1113,
     "status": "ok",
     "timestamp": 1601104444357,
     "user": {
      "displayName": "raj priyan",
      "photoUrl": "https://lh3.googleusercontent.com/a-/AOh14GgZVW80EylFQ9L8-ITWkElw0wTMIIreVJQM-ATyrA=s64",
      "userId": "05111608225198986069"
     },
     "user_tz": -330
    },
    "id": "0ZmoSoj_dUvC",
    "outputId": "f09eeae3-3c25-4b48-a6a4-58870519b176"
   },
   "outputs": [
    {
     "data": {
      "application/vnd.google.colaboratory.intrinsic+json": {
       "type": "string"
      },
      "text/plain": [
       "'GRP_0'"
      ]
     },
     "execution_count": 92,
     "metadata": {
      "tags": []
     },
     "output_type": "execute_result"
    }
   ],
   "source": [
    "Fastextmodel.predict(\"Reset my password\")[0][0][9:]"
   ]
  },
  {
   "cell_type": "code",
   "execution_count": 93,
   "metadata": {
    "executionInfo": {
     "elapsed": 1158,
     "status": "ok",
     "timestamp": 1601104456324,
     "user": {
      "displayName": "raj priyan",
      "photoUrl": "https://lh3.googleusercontent.com/a-/AOh14GgZVW80EylFQ9L8-ITWkElw0wTMIIreVJQM-ATyrA=s64",
      "userId": "05111608225198986069"
     },
     "user_tz": -330
    },
    "id": "hMTxxG8jRQlJ"
   },
   "outputs": [],
   "source": [
    "FinalData['Predicted']=FinalData.final_description.map(lambda x : str(Fastextmodel.predict(x)[0][0])[9:])"
   ]
  },
  {
   "cell_type": "code",
   "execution_count": 106,
   "metadata": {
    "colab": {
     "base_uri": "https://localhost:8080/",
     "height": 260
    },
    "executionInfo": {
     "elapsed": 1151,
     "status": "ok",
     "timestamp": 1601105446936,
     "user": {
      "displayName": "raj priyan",
      "photoUrl": "https://lh3.googleusercontent.com/a-/AOh14GgZVW80EylFQ9L8-ITWkElw0wTMIIreVJQM-ATyrA=s64",
      "userId": "05111608225198986069"
     },
     "user_tz": -330
    },
    "id": "fjz8Ne8fdXuy",
    "outputId": "70bbe128-db32-4c87-e3c0-a077110cade5"
   },
   "outputs": [
    {
     "name": "stdout",
     "output_type": "stream",
     "text": [
      "              precision    recall  f1-score   support\n",
      "\n",
      "       GRP_0       1.00      1.00      1.00      3976\n",
      "       GRP_8       0.99      0.96      0.98       257\n",
      "       GRP_9       1.00      0.98      0.99       215\n",
      "      GRP_12       1.00      0.98      0.99       241\n",
      "      GRP_19       1.00      1.00      1.00       289\n",
      "       GRP_2       0.82      0.96      0.88       661\n",
      "      GRP_24       0.82      0.46      0.59       252\n",
      "\n",
      "    accuracy                           0.97      5891\n",
      "   macro avg       0.95      0.91      0.92      5891\n",
      "weighted avg       0.97      0.97      0.97      5891\n",
      "\n"
     ]
    }
   ],
   "source": [
    "from sklearn.metrics import classification_report\n",
    "y_true = list(FinalData['Assignment group'].values)\n",
    "y_pred = list(FinalData['Predicted'].values)\n",
    "print(classification_report(y_true, y_pred, target_names=list(FinalData['Assignment group'].unique())))"
   ]
  },
  {
   "cell_type": "code",
   "execution_count": 99,
   "metadata": {
    "executionInfo": {
     "elapsed": 3945,
     "status": "ok",
     "timestamp": 1601104715985,
     "user": {
      "displayName": "raj priyan",
      "photoUrl": "https://lh3.googleusercontent.com/a-/AOh14GgZVW80EylFQ9L8-ITWkElw0wTMIIreVJQM-ATyrA=s64",
      "userId": "05111608225198986069"
     },
     "user_tz": -330
    },
    "id": "HPji-fYESpEP"
   },
   "outputs": [],
   "source": [
    "Fastextmodel.save_model(\"/content/drive/My Drive/Fasttextmodel.bin\")"
   ]
  },
  {
   "cell_type": "markdown",
   "metadata": {
    "id": "PlIBgHhLUoRN"
   },
   "source": [
    "LSTM Model"
   ]
  },
  {
   "cell_type": "code",
   "execution_count": 107,
   "metadata": {
    "colab": {
     "base_uri": "https://localhost:8080/",
     "height": 35
    },
    "executionInfo": {
     "elapsed": 4262,
     "status": "ok",
     "timestamp": 1601105940850,
     "user": {
      "displayName": "raj priyan",
      "photoUrl": "https://lh3.googleusercontent.com/a-/AOh14GgZVW80EylFQ9L8-ITWkElw0wTMIIreVJQM-ATyrA=s64",
      "userId": "05111608225198986069"
     },
     "user_tz": -330
    },
    "id": "dY6Xwy_DUnXg",
    "outputId": "c58b6f6a-26a9-4280-f008-5dc0645030a5"
   },
   "outputs": [
    {
     "data": {
      "application/vnd.google.colaboratory.intrinsic+json": {
       "type": "string"
      },
      "text/plain": [
       "'2.3.0'"
      ]
     },
     "execution_count": 107,
     "metadata": {
      "tags": []
     },
     "output_type": "execute_result"
    }
   ],
   "source": [
    "%tensorflow_version 2.x\n",
    "import tensorflow\n",
    "tensorflow.__version__"
   ]
  },
  {
   "cell_type": "code",
   "execution_count": 108,
   "metadata": {
    "executionInfo": {
     "elapsed": 1081,
     "status": "ok",
     "timestamp": 1601105951876,
     "user": {
      "displayName": "raj priyan",
      "photoUrl": "https://lh3.googleusercontent.com/a-/AOh14GgZVW80EylFQ9L8-ITWkElw0wTMIIreVJQM-ATyrA=s64",
      "userId": "05111608225198986069"
     },
     "user_tz": -330
    },
    "id": "4Oci1kG-WZ6a"
   },
   "outputs": [],
   "source": [
    "# Ignore the warnings\n",
    "import warnings\n",
    "warnings.filterwarnings(\"ignore\")"
   ]
  },
  {
   "cell_type": "code",
   "execution_count": 109,
   "metadata": {
    "executionInfo": {
     "elapsed": 1001,
     "status": "ok",
     "timestamp": 1601105985184,
     "user": {
      "displayName": "raj priyan",
      "photoUrl": "https://lh3.googleusercontent.com/a-/AOh14GgZVW80EylFQ9L8-ITWkElw0wTMIIreVJQM-ATyrA=s64",
      "userId": "05111608225198986069"
     },
     "user_tz": -330
    },
    "id": "MOzKW6klWfeW"
   },
   "outputs": [],
   "source": [
    "LSTM_df = FinalData.copy()"
   ]
  },
  {
   "cell_type": "code",
   "execution_count": 110,
   "metadata": {
    "colab": {
     "base_uri": "https://localhost:8080/",
     "height": 52
    },
    "executionInfo": {
     "elapsed": 1232,
     "status": "ok",
     "timestamp": 1601106001555,
     "user": {
      "displayName": "raj priyan",
      "photoUrl": "https://lh3.googleusercontent.com/a-/AOh14GgZVW80EylFQ9L8-ITWkElw0wTMIIreVJQM-ATyrA=s64",
      "userId": "05111608225198986069"
     },
     "user_tz": -330
    },
    "id": "4vurcaD6WnoD",
    "outputId": "2540c0a5-b12d-4a40-e252-5968131c7728"
   },
   "outputs": [
    {
     "data": {
      "text/plain": [
       "array(['GRP_0', 'GRP_8', 'GRP_9', 'GRP_12', 'GRP_19', 'GRP_2', 'GRP_24'],\n",
       "      dtype=object)"
      ]
     },
     "execution_count": 110,
     "metadata": {
      "tags": []
     },
     "output_type": "execute_result"
    }
   ],
   "source": [
    "LSTM_df['Assignment group'].unique()"
   ]
  },
  {
   "cell_type": "code",
   "execution_count": 111,
   "metadata": {
    "executionInfo": {
     "elapsed": 1203,
     "status": "ok",
     "timestamp": 1601106032055,
     "user": {
      "displayName": "raj priyan",
      "photoUrl": "https://lh3.googleusercontent.com/a-/AOh14GgZVW80EylFQ9L8-ITWkElw0wTMIIreVJQM-ATyrA=s64",
      "userId": "05111608225198986069"
     },
     "user_tz": -330
    },
    "id": "aucjWPBpWrkb"
   },
   "outputs": [],
   "source": [
    "import re\n",
    "from tensorflow.keras.preprocessing.text import Tokenizer\n",
    "from tensorflow.keras.preprocessing.sequence import pad_sequences\n",
    "    \n",
    "vocabSize = 2000\n",
    "tokenizer = Tokenizer(num_words=vocabSize, split=' ')\n",
    "tokenizer.fit_on_texts(LSTM_df['final_description'].values)\n",
    "X = tokenizer.texts_to_sequences(LSTM_df['final_description'].values)\n",
    "X = pad_sequences(X)"
   ]
  },
  {
   "cell_type": "code",
   "execution_count": 117,
   "metadata": {
    "colab": {
     "base_uri": "https://localhost:8080/",
     "height": 312
    },
    "executionInfo": {
     "elapsed": 1261,
     "status": "ok",
     "timestamp": 1601106138058,
     "user": {
      "displayName": "raj priyan",
      "photoUrl": "https://lh3.googleusercontent.com/a-/AOh14GgZVW80EylFQ9L8-ITWkElw0wTMIIreVJQM-ATyrA=s64",
      "userId": "05111608225198986069"
     },
     "user_tz": -330
    },
    "id": "6TEiRbVdWzBZ",
    "outputId": "6a28309e-e503-4bcd-86ec-e89415f156fa"
   },
   "outputs": [
    {
     "name": "stdout",
     "output_type": "stream",
     "text": [
      "Model: \"sequential_2\"\n",
      "_________________________________________________________________\n",
      "Layer (type)                 Output Shape              Param #   \n",
      "=================================================================\n",
      "embedding_2 (Embedding)      (None, 272, 128)          256000    \n",
      "_________________________________________________________________\n",
      "spatial_dropout1d_2 (Spatial (None, 272, 128)          0         \n",
      "_________________________________________________________________\n",
      "lstm_2 (LSTM)                (None, 196)               254800    \n",
      "_________________________________________________________________\n",
      "dense_2 (Dense)              (None, 7)                 1379      \n",
      "=================================================================\n",
      "Total params: 512,179\n",
      "Trainable params: 512,179\n",
      "Non-trainable params: 0\n",
      "_________________________________________________________________\n",
      "None\n"
     ]
    }
   ],
   "source": [
    "from tensorflow.keras.models import Sequential\n",
    "from tensorflow.keras.layers import Dense, Embedding, LSTM, SpatialDropout1D\n",
    "\n",
    "embed_dim = 128\n",
    "lstm_out = 196\n",
    "\n",
    "LSTMmodel = Sequential()\n",
    "LSTMmodel.add(Embedding(vocabSize, embed_dim,input_length = X.shape[1]))\n",
    "LSTMmodel.add(SpatialDropout1D(0.4))\n",
    "LSTMmodel.add(LSTM(lstm_out, dropout=0.2, recurrent_dropout=0.2))\n",
    "LSTMmodel.add(Dense(7,activation='softmax'))\n",
    "LSTMmodel.compile(loss = 'categorical_crossentropy', optimizer='adam',metrics = ['accuracy'])\n",
    "print(LSTMmodel.summary())"
   ]
  },
  {
   "cell_type": "code",
   "execution_count": 114,
   "metadata": {
    "colab": {
     "base_uri": "https://localhost:8080/",
     "height": 52
    },
    "executionInfo": {
     "elapsed": 1065,
     "status": "ok",
     "timestamp": 1601106088355,
     "user": {
      "displayName": "raj priyan",
      "photoUrl": "https://lh3.googleusercontent.com/a-/AOh14GgZVW80EylFQ9L8-ITWkElw0wTMIIreVJQM-ATyrA=s64",
      "userId": "05111608225198986069"
     },
     "user_tz": -330
    },
    "id": "G2qRIVTPW5ZO",
    "outputId": "6a9db211-a11e-47a4-c1f1-58d24865a5fa"
   },
   "outputs": [
    {
     "name": "stdout",
     "output_type": "stream",
     "text": [
      "(5007, 272) (5007, 7)\n",
      "(884, 272) (884, 7)\n"
     ]
    }
   ],
   "source": [
    "from sklearn.model_selection import train_test_split\n",
    "\n",
    "Y = pd.get_dummies(LSTM_df['Assignment group']).values\n",
    "X_train, X_test, Y_train, Y_test = train_test_split(X,Y, test_size = 0.15, random_state = 42)\n",
    "print(X_train.shape,Y_train.shape)\n",
    "print(X_test.shape,Y_test.shape)"
   ]
  },
  {
   "cell_type": "code",
   "execution_count": 118,
   "metadata": {
    "colab": {
     "base_uri": "https://localhost:8080/",
     "height": 364
    },
    "executionInfo": {
     "elapsed": 2063589,
     "status": "ok",
     "timestamp": 1601108441815,
     "user": {
      "displayName": "raj priyan",
      "photoUrl": "https://lh3.googleusercontent.com/a-/AOh14GgZVW80EylFQ9L8-ITWkElw0wTMIIreVJQM-ATyrA=s64",
      "userId": "05111608225198986069"
     },
     "user_tz": -330
    },
    "id": "wdG46DAdXAJS",
    "outputId": "53521b0b-0901-4b9e-b650-9cd95833a5a6"
   },
   "outputs": [
    {
     "name": "stdout",
     "output_type": "stream",
     "text": [
      "157/157 - 229s - loss: 0.8867 - accuracy: 0.7500\n",
      "Epoch 2/10\n",
      "157/157 - 228s - loss: 0.5379 - accuracy: 0.8300\n",
      "Epoch 3/10\n",
      "157/157 - 227s - loss: 0.4315 - accuracy: 0.8548\n",
      "Epoch 4/10\n",
      "157/157 - 228s - loss: 0.3677 - accuracy: 0.8700\n",
      "Epoch 5/10\n",
      "157/157 - 228s - loss: 0.3124 - accuracy: 0.8900\n",
      "Epoch 6/10\n",
      "157/157 - 227s - loss: 0.2569 - accuracy: 0.9081\n",
      "Epoch 7/10\n",
      "157/157 - 226s - loss: 0.2233 - accuracy: 0.9175\n",
      "Epoch 8/10\n",
      "157/157 - 228s - loss: 0.2053 - accuracy: 0.9287\n",
      "Epoch 9/10\n",
      "157/157 - 229s - loss: 0.1734 - accuracy: 0.9341\n",
      "Epoch 10/10\n",
      "157/157 - 228s - loss: 0.1704 - accuracy: 0.9307\n"
     ]
    },
    {
     "data": {
      "text/plain": [
       "<tensorflow.python.keras.callbacks.History at 0x7fab4092df98>"
      ]
     },
     "execution_count": 118,
     "metadata": {
      "tags": []
     },
     "output_type": "execute_result"
    }
   ],
   "source": [
    "batch_size = 32\n",
    "LSTMmodel.fit(X_train, Y_train, epochs = 10, batch_size=batch_size, verbose = 2)"
   ]
  },
  {
   "cell_type": "code",
   "execution_count": 119,
   "metadata": {
    "colab": {
     "base_uri": "https://localhost:8080/",
     "height": 69
    },
    "executionInfo": {
     "elapsed": 7163,
     "status": "ok",
     "timestamp": 1601108746179,
     "user": {
      "displayName": "raj priyan",
      "photoUrl": "https://lh3.googleusercontent.com/a-/AOh14GgZVW80EylFQ9L8-ITWkElw0wTMIIreVJQM-ATyrA=s64",
      "userId": "05111608225198986069"
     },
     "user_tz": -330
    },
    "id": "BEWbY1AKXYDl",
    "outputId": "5623dc8d-08e1-44bf-d95a-675cf8feb2a2"
   },
   "outputs": [
    {
     "name": "stdout",
     "output_type": "stream",
     "text": [
      "28/28 - 5s - loss: 0.4834 - accuracy: 0.8541\n",
      "score: 0.48\n",
      "acc: 0.85\n"
     ]
    }
   ],
   "source": [
    "score,acc = LSTMmodel.evaluate(X_test, Y_test, verbose = 2, batch_size = batch_size)\n",
    "print(\"score: %.2f\" % (score))\n",
    "print(\"acc: %.2f\" % (acc))"
   ]
  },
  {
   "cell_type": "markdown",
   "metadata": {
    "id": "CggBz43rhZKI"
   },
   "source": [
    "Conclusion\n",
    "\n",
    "1. Fasttext and LSTM Models were tried\n",
    "2. Fast text provides average of accuracy 97%\n",
    "3. LSTM provides accuracy of 91% for train data and 85% for Test data"
   ]
  }
 ],
 "metadata": {
  "colab": {
   "collapsed_sections": [
    "b8pC0g45tvY1",
    "9zqBHpUPq0Uq",
    "pS5O79mH4z4A"
   ],
   "name": "Capstone_Project.ipynb",
   "provenance": []
  },
  "kernelspec": {
   "display_name": "Python 3",
   "language": "python",
   "name": "python3"
  },
  "language_info": {
   "codemirror_mode": {
    "name": "ipython",
    "version": 3
   },
   "file_extension": ".py",
   "mimetype": "text/x-python",
   "name": "python",
   "nbconvert_exporter": "python",
   "pygments_lexer": "ipython3",
   "version": "3.8.3"
  }
 },
 "nbformat": 4,
 "nbformat_minor": 1
}
